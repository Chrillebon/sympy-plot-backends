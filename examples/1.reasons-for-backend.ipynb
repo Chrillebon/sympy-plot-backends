{
 "cells": [
  {
   "cell_type": "markdown",
   "id": "successful-dietary",
   "metadata": {},
   "source": [
    "# Why does SymPy need more plotting backends?"
   ]
  },
  {
   "cell_type": "markdown",
   "id": "objective-scholarship",
   "metadata": {},
   "source": [
    "The three most important reasons for using a different backend are:\n",
    "1. **Better interactive** experience, which we are going to explore in these notebooks.\n",
    "2. To use the **plotting library we are most comfortable with**. The backend can be used as a starting point to plot symbolic expressions; then, we could use the figure object to add numerical (or experimental) results using the commands associated to the specific plotting library.\n",
    "3. Better integration/export to html."
   ]
  },
  {
   "cell_type": "markdown",
   "id": "emotional-shoulder",
   "metadata": {},
   "source": [
    "Let's illustrate the better interactive experience with a few examples. First, we will show the results with the default backend, Matplotlib, and explain the limitations. Then we will show what a different backend can do."
   ]
  },
  {
   "cell_type": "code",
   "execution_count": null,
   "id": "homeless-rating",
   "metadata": {},
   "outputs": [],
   "source": [
    "%matplotlib widget\n",
    "from sympy import *\n",
    "from sympy.plotting.plot import plot3d, plot3d_parametric_surface\n",
    "from spb.plotly import PB\n",
    "from spb.k3d import KB\n",
    "var(\"u, v, x, y\")"
   ]
  },
  {
   "cell_type": "markdown",
   "id": "advisory-interference",
   "metadata": {},
   "source": [
    "In the above code cell we imported two backends. The following submodules are available:\n",
    "* `bokeh`, from which we can import `BokehBackend` or its alias `BB`.\n",
    "* `plotly`, from which we can import `PlotlyBackend` or its alias `PB`.\n",
    "* `k3d`, from which we can import `K3DBackend` or its alias `KB`.\n",
    "* `mayavi`, from which we can import `MayaviBackend` or its alias `MB`."
   ]
  },
  {
   "cell_type": "code",
   "execution_count": null,
   "id": "aboriginal-interest",
   "metadata": {},
   "outputs": [],
   "source": [
    "plot(sin(x), cos(x), log(x), legend=True)"
   ]
  },
  {
   "cell_type": "markdown",
   "id": "acute-algebra",
   "metadata": {},
   "source": [
    "The plot looks fine.\n",
    "* In order to interact with it we have to use the buttons on the toolbar.\n",
    "* If we move the cursor over the plot, we can see its coordinates. With this behaviour we can only get approximate coordinates if we move the cursor over a line.\n",
    "\n",
    "Let's visualize the same plot with `PlotlyBackend`:"
   ]
  },
  {
   "cell_type": "code",
   "execution_count": null,
   "id": "devoted-permission",
   "metadata": {},
   "outputs": [],
   "source": [
    "plot(sin(x), cos(x), log(x), legend=True, backend=PB)"
   ]
  },
  {
   "cell_type": "markdown",
   "id": "polyphonic-coating",
   "metadata": {},
   "source": [
    "We can also interact with this plot using the top toolbar, however there are more natural ways:\n",
    "* Click and drag to zoom into a rectangular selection.\n",
    "* Move the cursor in the middle of the horizontal axis, click and drag to pan horizontally.\n",
    "* Move the cursor in the middle of the vertical axis, click and drag to pan vertically.\n",
    "* Move the cursor near the ends of the horizontal/vertical axis: click and drag to resize.\n",
    "* Move the cursor over a line: a tooltip will show the coordinate of that point in the data series. Note that there is no interpolation between two consecutive points.\n",
    "* Click over a label in the legend to hide/show that data series."
   ]
  },
  {
   "cell_type": "markdown",
   "id": "occupied-spare",
   "metadata": {},
   "source": [
    "Let's now examine a 3D plot:"
   ]
  },
  {
   "cell_type": "code",
   "execution_count": null,
   "id": "three-wright",
   "metadata": {},
   "outputs": [],
   "source": [
    "r = 2 + sin(7 * u + 5 * v)\n",
    "expr = (\n",
    "    r * cos(u) * sin(v),\n",
    "    r * sin(u) * sin(v),\n",
    "    r * cos(v)\n",
    ")\n",
    "plot3d_parametric_surface(*expr, (u, 0, 2 * pi), (v, 0, pi))"
   ]
  },
  {
   "cell_type": "markdown",
   "id": "supported-intent",
   "metadata": {},
   "source": [
    "Here, we can guess what the exact shape of the surface is going to be. We could increase the number of discretization points, `nb_of_points_u` and `nb_of_points_v`, but we are not going to do that with Matplotlib (it would be a suicide). As always, we can use the toolbar buttons to zoom in and out. Now, try to click and drag the surface: there is a lot of lag. Matplotlib is not designed to be interactive.\n",
    "\n",
    "Let's plot the same surface with `K3DBackend`. Since we are at it, let's also bump up the number of discretization points to 1000 on both parameters. The resulting mesh will have 1 milion points, therefore the computation may take a few seconds (depending on our machine)."
   ]
  },
  {
   "cell_type": "code",
   "execution_count": null,
   "id": "excessive-kernel",
   "metadata": {},
   "outputs": [],
   "source": [
    "n = 1000\n",
    "plot3d_parametric_surface(*expr, (u, 0, 2 * pi), (v, 0, pi),\n",
    "                          backend=KB, nb_of_points_u=n, nb_of_points_v=n, show_label=True)"
   ]
  },
  {
   "cell_type": "markdown",
   "id": "better-haven",
   "metadata": {},
   "source": [
    "To interact with the plot:\n",
    "* Left click and drag: rotate the plot.\n",
    "* Scroll with the mouse wheel: zoom in and out.\n",
    "* Right click and drag: pan.\n",
    "\n",
    "Note how smooth the interaction is!!!"
   ]
  },
  {
   "cell_type": "markdown",
   "id": "immediate-insurance",
   "metadata": {},
   "source": [
    "On the top right corner there is a menu with a few entries:\n",
    "* **Controls**: we can play with a few options, like hiding the grids, going full screen, ..., add and remove clipping planes.\n",
    "* **Objects**: we can see the objects displayed on the plot. Let's click the `Mesh #1` entry: we can hide/show the object, its color legend, we can turn on wireframe view (don't do it with such a high number of points, it will slows things down a lot!). Note that by default a color map is applied to the surface, hence we cannot change its color. We will see in the next notebook how to do it.\n",
    "* **Info**: useful information for debug purposes.\n",
    "\n",
    "It is left to the Reader to play with the controls and learn what they do."
   ]
  },
  {
   "cell_type": "markdown",
   "id": "sought-argentina",
   "metadata": {},
   "source": [
    "Note that the name of the surface displayed under **Objects** is `Mesh #1`. If we plot multiple expressions, the names will be `Mesh #1`, `Mesh #2`, ... This is the default behaviour for `K3DBackend`. We can also chose to display the string representation of the expression by setting `show_label=True`, but it is safe to assume that the label won't fit the small amount of width of the **Controls** user interface, therefore it makes sense to leave that option to `False`."
   ]
  },
  {
   "cell_type": "code",
   "execution_count": null,
   "id": "reverse-interim",
   "metadata": {},
   "outputs": [],
   "source": []
  }
 ],
 "metadata": {
  "kernelspec": {
   "display_name": "plotting_lambdify",
   "language": "python",
   "name": "plotting_lambdify"
  },
  "language_info": {
   "codemirror_mode": {
    "name": "ipython",
    "version": 3
   },
   "file_extension": ".py",
   "mimetype": "text/x-python",
   "name": "python",
   "nbconvert_exporter": "python",
   "pygments_lexer": "ipython3",
   "version": "3.8.5"
  },
  "toc": {
   "base_numbering": 1,
   "nav_menu": {},
   "number_sections": true,
   "sideBar": true,
   "skip_h1_title": false,
   "title_cell": "Table of Contents",
   "title_sidebar": "Contents",
   "toc_cell": false,
   "toc_position": {},
   "toc_section_display": true,
   "toc_window_display": false
  }
 },
 "nbformat": 4,
 "nbformat_minor": 5
}
