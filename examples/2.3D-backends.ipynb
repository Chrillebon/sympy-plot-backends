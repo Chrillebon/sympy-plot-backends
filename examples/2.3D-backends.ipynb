{
 "cells": [
  {
   "cell_type": "markdown",
   "id": "connected-uncertainty",
   "metadata": {},
   "source": [
    "# 3D backends\n",
    "\n",
    "On top of the `K3DBackend` previously introduced, we can also create 3D plots using `MayaviBackend` or `PlotlyBackend`."
   ]
  },
  {
   "cell_type": "code",
   "execution_count": null,
   "id": "convertible-orbit",
   "metadata": {},
   "outputs": [],
   "source": [
    "%matplotlib widget\n",
    "from sympy import *\n",
    "from sympy.plotting.plot import plot3d, plot3d_parametric_surface, plot3d_parametric_line\n",
    "from spb.plotly import PB\n",
    "from spb.mayavi import MB\n",
    "from spb.k3d import KB\n",
    "import numpy as np\n",
    "var(\"u, v, x, y\")"
   ]
  },
  {
   "cell_type": "markdown",
   "id": "stretch-nowhere",
   "metadata": {},
   "source": [
    "Let's start with a simple example which illustrate that no matter what backend we are using, we ultimately have to decide if the plot is correct or not:"
   ]
  },
  {
   "cell_type": "code",
   "execution_count": null,
   "id": "guilty-elevation",
   "metadata": {},
   "outputs": [],
   "source": [
    "expr = re(atan(x + I*y))\n",
    "n = 200\n",
    "plot3d(expr, backend=KB, nb_of_points_x=n, nb_of_points_y=n)"
   ]
  },
  {
   "cell_type": "markdown",
   "id": "figured-addition",
   "metadata": {},
   "source": [
    "Here, the vertical wall at $x=0$ is rendered, but should not!!! There is a discontinuity there."
   ]
  },
  {
   "cell_type": "markdown",
   "id": "light-school",
   "metadata": {},
   "source": [
    "As we can see above, by default a color map is applied to the surface, ranging from the minimum and maximum value of the z-coordinate. If we wish to switch to an automatic solid coloring, we need to set the `use_cm=False`, for example:"
   ]
  },
  {
   "cell_type": "code",
   "execution_count": null,
   "id": "proud-rachel",
   "metadata": {},
   "outputs": [],
   "source": [
    "n = 500\n",
    "expr = cos(2 * pi * x * y)\n",
    "plot3d(expr, (x, -2, 2), (y, -2, 2), backend=KB,\n",
    "       nb_of_points_x=n, nb_of_points_y=n, use_cm=False)"
   ]
  },
  {
   "cell_type": "code",
   "execution_count": null,
   "id": "destroyed-norman",
   "metadata": {},
   "outputs": [],
   "source": [
    "n = 100\n",
    "expr = (\n",
    "    2 * (1 - exp(u / (6 * pi))) * cos(u) * cos(v / 2)**2,\n",
    "    2 * (-1 + exp(u / (6 * pi))) * sin(u) * cos(v / 2)**2,\n",
    "    1 - exp(u / (3 * pi)) - sin(v) + exp(u / (6 * pi)) * sin(v)\n",
    ")\n",
    "plot3d_parametric_surface(*expr, (u, 0, 6*pi), (v, 0, 2*pi),\n",
    "                          backend=KB, nb_of_points_u=n, nb_of_points_v=n, use_cm=True)"
   ]
  },
  {
   "cell_type": "markdown",
   "id": "metric-renewal",
   "metadata": {},
   "source": [
    "Let's now try the `MayaviBackend`, which provides somewhat a similar plotting experience of `K3DBackend`, at least in terms of performance:"
   ]
  },
  {
   "cell_type": "code",
   "execution_count": null,
   "id": "desperate-petersburg",
   "metadata": {},
   "outputs": [],
   "source": [
    "n = 100\n",
    "r = 3\n",
    "expr = (\n",
    "    (r + cos(u / 2) * sin(v) - sin(u / 2) * sin(2 * v)) * cos(u),\n",
    "    (r + cos(u / 2) * sin(v) - sin(u / 2) * sin(2 * v)) * sin(u),\n",
    "    sin(u / 2) * sin(v) + cos(u / 2) * sin(2 * v)\n",
    ")\n",
    "plot3d_parametric_surface(*expr, (u, 0, 2**pi), (v, 0, 2*pi),\n",
    "                          backend=MB, nb_of_points_u=n, nb_of_points_v=n)"
   ]
  },
  {
   "cell_type": "markdown",
   "id": "constant-judgment",
   "metadata": {},
   "source": [
    "To interact with the plot:\n",
    "* Left Click + Drag: rotate the plot.\n",
    "* Mouse wheel click + Drag up/down: zoom in / zoom out.\n",
    "* Shift + Left Click + Drag: pan the plot.\n",
    "\n",
    "As we can see, Mayavi doesn't provide reference grids, but it provides bounding boxes. As with all other backends, to hide the grids or the bounding boxes we set `axis=False`.\n",
    "\n",
    "Another difference in comparison to `K3DBackend` is that the plot window doesn't use all the available width, hence we might need to set the `size=(width, height)` option."
   ]
  },
  {
   "cell_type": "markdown",
   "id": "express-slovenia",
   "metadata": {},
   "source": [
    "Let's now try `PlotlyBackend`. The main difference between `PlotlyBackend` and `K3DBackend`/`MayaviBackend` is that the former can stretch the axis, whereas the latter (being more engineering-oriented) uses a fixed aspect ratio representing reality. We can control this behaviour by setting an appropriate value for the `aspect_ratio` keyword:"
   ]
  },
  {
   "cell_type": "code",
   "execution_count": null,
   "id": "personal-outside",
   "metadata": {},
   "outputs": [],
   "source": [
    "plot3d_parametric_surface(*expr, (u, 0, 2**pi), (v, 0, 2*pi),\n",
    "                          backend=PB, nb_of_points_u=n, nb_of_points_v=n, aspect_ratio=\"cube\")"
   ]
  },
  {
   "cell_type": "markdown",
   "id": "infrared-carbon",
   "metadata": {},
   "source": [
    "Note that the z axis is stretched!\n",
    "\n",
    "The two other major differences are:\n",
    "* `PlotlyBackend` is consistently slower at rendering 3D objects than the other two backends.\n",
    "* `PlotlyBackend` doesn't natively support wireframe. While it is possible to draw wireframe by setting `wireframe=True`, it will significantly slow down the rendering process, even for a small number of discretization points. Therefore, it is advisable not to use wireframes with Plotly.\n",
    "* By moving the cursor over the surface, we can actually see the coordinates of the \"selected\" point. This is not currently possible with `K3DBackend` or `MayaviBackend`."
   ]
  },
  {
   "cell_type": "code",
   "execution_count": null,
   "id": "distinct-clear",
   "metadata": {},
   "outputs": [],
   "source": [
    "n = 100\n",
    "expr = (\n",
    "    (-(2/15) * cos(u) * (3 * cos(v) - 30 * sin(u) + 90 * cos(u)**4 * sin(u) -\n",
    "    60 * cos(u)**6 * sin(u) + 5 * cos(u) * cos(v) * sin(u))),\n",
    "    (-(1/15) * sin(u) * (3 * cos(v) - 3 * cos(u)**2 * cos(v) - 48 * cos(u)**4 * cos(v) +\n",
    "    48 * cos(u)**6 * cos(v) - 60 * sin(u) + 5 * cos(u) * cos(v) * sin(u)\n",
    "    - 5 * cos(u)**3 * cos(v) * sin(u) - 80 * cos(u)**5 * cos(v) * sin(u) +\n",
    "    80 * cos(u)**7 * cos(v) * sin(u))),\n",
    "    (2/15) * (3 + 5 * cos(u) * sin(u)) * sin(v)\n",
    ")\n",
    "plot3d_parametric_surface(*expr, (u, 0, pi), (v, 0, 2 * pi),\n",
    "                          backend=KB, nb_of_points_u=n, nb_of_points_v=n)"
   ]
  },
  {
   "cell_type": "code",
   "execution_count": null,
   "id": "continent-enforcement",
   "metadata": {},
   "outputs": [],
   "source": [
    "# https://mathematica.stackexchange.com/a/37715\n",
    "expr = (\n",
    "    cos(v) * (6 - (5/4 + sin(3 * u)) * sin(u - 3 * v)), \n",
    "     (6 - (5/4 + sin(3 * u)) * sin(u - 3 * v)) * sin(v), \n",
    "     -cos(u - 3 * v) * (5/4 + sin(3 * u))\n",
    ")\n",
    "plot3d_parametric_surface(*expr, (u, 0, 2 * pi), (v, 0, 2 * pi),\n",
    "                          backend=KB, nb_of_points_x=u, nb_of_points_v=n)"
   ]
  },
  {
   "cell_type": "code",
   "execution_count": null,
   "id": "progressive-maker",
   "metadata": {},
   "outputs": [],
   "source": []
  }
 ],
 "metadata": {
  "kernelspec": {
   "display_name": "plotting_lambdify",
   "language": "python",
   "name": "plotting_lambdify"
  },
  "language_info": {
   "codemirror_mode": {
    "name": "ipython",
    "version": 3
   },
   "file_extension": ".py",
   "mimetype": "text/x-python",
   "name": "python",
   "nbconvert_exporter": "python",
   "pygments_lexer": "ipython3",
   "version": "3.8.5"
  },
  "toc": {
   "base_numbering": 1,
   "nav_menu": {},
   "number_sections": true,
   "sideBar": true,
   "skip_h1_title": false,
   "title_cell": "Table of Contents",
   "title_sidebar": "Contents",
   "toc_cell": false,
   "toc_position": {},
   "toc_section_display": true,
   "toc_window_display": false
  }
 },
 "nbformat": 4,
 "nbformat_minor": 5
}
