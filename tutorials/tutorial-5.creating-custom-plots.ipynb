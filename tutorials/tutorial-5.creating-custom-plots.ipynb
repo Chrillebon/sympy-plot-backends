{
 "cells": [
  {
   "cell_type": "markdown",
   "id": "automotive-rabbit",
   "metadata": {},
   "source": [
    "# Creating custom plots"
   ]
  },
  {
   "cell_type": "markdown",
   "id": "technological-spine",
   "metadata": {},
   "source": [
    "Sometimes, the functions exposed by Sympy's plotting module are not enough to accomplish our visualization objectives. If that's the case, we can either:\n",
    "1. `lambdify` the symbolic expressions and evaluate it numerically. However, this process is manually intensive.\n",
    "2. If the expressions can be plotted by the common plotting functions (`plot`, `plot3d`, `plot_parametric`, ...), then we can use the `get_plot_data` function, which automate the _lambdifying_ process. This function accepts the same arguments of the aforementioned plotting functions, therefore it is really easy to get the numerical data we are interested in.\n",
    "\n",
    "Once we have the numerical data, we can use our preferred plotting library. If we are lucky enough, we can also:\n",
    "1. use one of the plotting functions as a starting point;\n",
    "2. then we extract the numerical data;\n",
    "3. then we extract the plot object associated to the plotting library;\n",
    "4. use the appropriate command of the plotting library to add the new data to the plot.\n",
    "\n",
    "Let's see a few examples."
   ]
  },
  {
   "cell_type": "markdown",
   "id": "herbal-arkansas",
   "metadata": {},
   "source": [
    "## Example #1\n",
    "\n",
    "Let's start with the imports:"
   ]
  },
  {
   "cell_type": "code",
   "execution_count": null,
   "id": "personal-century",
   "metadata": {},
   "outputs": [],
   "source": [
    "from sympy import *\n",
    "init_printing(use_latex=True)\n",
    "\n",
    "# NOTE: here we imported all the plotting functions as well as get_plot_data\n",
    "from spb import *\n",
    "## In case we are only interested in get_plot_data\n",
    "# from spb import get_plot_data\n",
    "\n",
    "# In this tutorial we are going to use Plotly: we will understand later\n",
    "# the reason behind this choice\n",
    "from spb.backends.plotly import PB"
   ]
  },
  {
   "cell_type": "markdown",
   "id": "czech-graduate",
   "metadata": {},
   "source": [
    "Suppose we would like to plot the following vector field:\n",
    "\n",
    "$$\n",
    "\\vec{F}(x, y) = (-y, x)\n",
    "$$\n",
    "\n",
    "Specifically, we would like an heatmap of its magnitude, with quivers (representing the vector field) on top of it. Currently, there are no functions to quickly achieve that. Nonetheless, we are going to see that the process is relatively easy.\n",
    "\n",
    "Instead of dealing with vectors from `sympy.vector` module (which is a [PITA](https://www.urbandictionary.com/define.php?term=pita)), we are going to create the vector components separately. Also, we are going to restrict our domain to $-5 \\le x \\le 5, \\, -5 \\le y \\le 5$:"
   ]
  },
  {
   "cell_type": "code",
   "execution_count": null,
   "id": "supreme-launch",
   "metadata": {},
   "outputs": [],
   "source": [
    "var(\"x, y\")\n",
    "\n",
    "# vector components\n",
    "u = -y\n",
    "v = x\n",
    "ranges = (x, -5, 5), (y, -5, 5)\n",
    "\n",
    "# magnitude of the vector field\n",
    "magn = sqrt(u**2 + v**2)"
   ]
  },
  {
   "cell_type": "markdown",
   "id": "romance-funds",
   "metadata": {},
   "source": [
    "### Use one of the plotting functions as a starting point\n",
    "\n",
    "We can create a contour plot for the magnitude of the vector field. Since the plot is the starting point for our customization, it makes sense to visualize it:"
   ]
  },
  {
   "cell_type": "code",
   "execution_count": null,
   "id": "close-share",
   "metadata": {},
   "outputs": [],
   "source": [
    "title = r\"$\\vec{F}(%s, %s) = (%s, %s)$\" % (latex(x), latex(y), latex(u), latex(v))\n",
    "p = plot_contour((magn, \"Magnitude\"), *ranges, backend=PB, show=True,\n",
    "                 aspect_ratio=\"equal\", title=title,\n",
    "                 contours_coloring=\"heatmap\", contours_labels=True)"
   ]
  },
  {
   "cell_type": "markdown",
   "id": "broken-kingston",
   "metadata": {},
   "source": [
    "First, a note of caution for FireFox users: if you have problems with the visualization, try to change the latex title with a non-latex one.\n",
    "\n",
    "Let's explain a few things:\n",
    "* In this tutorial we are using `PlotlyBackend` (aka `PB`) because it exposes some keyword arguments that can be used to customize the contour plot. Run the next code cell to learn more about them.\n",
    "* We set an equal aspect ratio for both axis in order to avoid distorsions.\n",
    "* If we are moving fast in our development workflow, it is very well possible to set `show=False` in order to not visualize the plot."
   ]
  },
  {
   "cell_type": "code",
   "execution_count": null,
   "id": "adaptive-parallel",
   "metadata": {},
   "outputs": [],
   "source": [
    "help(PB)"
   ]
  },
  {
   "cell_type": "markdown",
   "id": "cardiac-logan",
   "metadata": {},
   "source": [
    "### Extract the numerical data\n",
    "\n",
    "Now, the fun begins. In order to plot the quivers, we can think a vector component as a function of two variables. Clearly, in this simple case:\n",
    "\n",
    "$$\n",
    "\\begin{aligned}\n",
    "u &= f(x, y) = -y \\qquad \\text{we can think } x = 0 \\\\\n",
    "v &= f(x, y) = x \\qquad \\text{we can think } y = 0\n",
    "\\end{aligned}\n",
    "$$\n",
    "\n",
    "To visualize the process, let's plot the components:"
   ]
  },
  {
   "cell_type": "code",
   "execution_count": null,
   "id": "conditional-injury",
   "metadata": {},
   "outputs": [],
   "source": [
    "asd = plot3d(u, v, *ranges, backend=PB, legend=True)"
   ]
  },
  {
   "cell_type": "markdown",
   "id": "entertaining-capitol",
   "metadata": {},
   "source": [
    "The above plot represents the data that we would like to extract from our symbolic vector components in order to create the quivers. The easiest way to do that is to use the `get_plot_data` function, which requires the same arguments we would use for any plot function, namely a tuple of the form `expr, range, label [optional]`:"
   ]
  },
  {
   "cell_type": "code",
   "execution_count": null,
   "id": "minus-slide",
   "metadata": {},
   "outputs": [],
   "source": [
    "xx, yy, uu = get_plot_data(u, *ranges, n=20)"
   ]
  },
  {
   "cell_type": "markdown",
   "id": "impressed-application",
   "metadata": {},
   "source": [
    "Why did we get this error? The automatic algorithm inside `get_plot_data` is trying to understand what kind of expression we passed in. It does so by analyzing the number of free symbols, the number of sub-expressions (if we are passing in parametric expressions) and the number of ranges. Here, we provided the expression `u = -y` (one free symbol, `x`), and two ranges (`(x, -5, 5), (y, -5, 5)`). The automatic algorithm is not able to associate these information to any of the default plot functions.\n",
    "\n",
    "In order to solve the problem, we must explicitly tell the function what we are trying to compute. Let's first read its documentation:"
   ]
  },
  {
   "cell_type": "code",
   "execution_count": null,
   "id": "configured-testing",
   "metadata": {},
   "outputs": [],
   "source": [
    "help(get_plot_data)"
   ]
  },
  {
   "cell_type": "markdown",
   "id": "sporting-kennedy",
   "metadata": {},
   "source": [
    "As we can see, an optional `pt` keyword argument can be provided, to explicitly tells the function what kind of plot we are trying to do. By providing this argument, the automatic algorithm will be bypassed.\n",
    "\n",
    "Then, in our case:"
   ]
  },
  {
   "cell_type": "code",
   "execution_count": null,
   "id": "electric-camping",
   "metadata": {},
   "outputs": [],
   "source": [
    "xx, yy, uu = get_plot_data(u, *ranges, n=20, pt=\"p3d\")\n",
    "_, _, vv = get_plot_data(v, *ranges, n=20, pt=\"p3d\")"
   ]
  },
  {
   "cell_type": "markdown",
   "id": "expensive-federation",
   "metadata": {},
   "source": [
    "Here, we explicitly asked the function to evaluate the expression in order to obtain numerical data for a function of two variables (remember, $u = f(x, y) = -y$).\n",
    "\n",
    "In the first line of the previous cell, `xx, yy, uu` are three different two-dimensional numpy arrays:\n",
    "* `xx`: represents the meshgrid along the x-axis.\n",
    "* `yy`: represents the meshgrid along the y-axis.\n",
    "* `uu`: represents the numerically-evaluated `u` component of the vector.\n",
    "\n",
    "In the second line of code we are only interested in `vv`, as the first two elements of the output result are identical to `xx` and `yy` (because of the same ranges and same number of discretization points).\n",
    "\n",
    "Note that we reduced the number of evaluation points to 20, so that the quivers will be nicely visible on the plot (too high the number, and the quivers might overlap)."
   ]
  },
  {
   "cell_type": "markdown",
   "id": "ranging-institution",
   "metadata": {},
   "source": [
    "### Extract the plot object associated to the plotting library\n",
    "\n",
    "Let's now extract the plot object associate to Plotly:"
   ]
  },
  {
   "cell_type": "code",
   "execution_count": null,
   "id": "outside-mandate",
   "metadata": {},
   "outputs": [],
   "source": [
    "plot = p.fig"
   ]
  },
  {
   "cell_type": "code",
   "execution_count": null,
   "id": "bound-posting",
   "metadata": {},
   "outputs": [],
   "source": [
    "type(plot)"
   ]
  },
  {
   "cell_type": "markdown",
   "id": "ranging-russia",
   "metadata": {},
   "source": [
    "### Use the appropriate command of the plotting library\n",
    "\n",
    "As we can see, `plot` is a Plotly's `Figure` object, therefore we can use Plotly's command to add quivers:"
   ]
  },
  {
   "cell_type": "code",
   "execution_count": null,
   "id": "meaningful-trout",
   "metadata": {},
   "outputs": [],
   "source": [
    "from plotly.figure_factory import create_quiver\n",
    "quiver = create_quiver(xx, yy, uu, vv, scale=0.1, line_color=\"aqua\")\n",
    "plot.add_traces([quiver.data[0]])"
   ]
  },
  {
   "cell_type": "markdown",
   "id": "adjusted-soviet",
   "metadata": {},
   "source": [
    "At this point we might as well set the _x_ range and the _y_ range:"
   ]
  },
  {
   "cell_type": "code",
   "execution_count": null,
   "id": "eleven-anchor",
   "metadata": {},
   "outputs": [],
   "source": [
    "plot.update_layout(xaxis_range=ranges[0][1:], yaxis_range=ranges[0][1:])"
   ]
  },
  {
   "cell_type": "markdown",
   "id": "administrative-prison",
   "metadata": {},
   "source": [
    "Et voilà, done it!"
   ]
  },
  {
   "cell_type": "markdown",
   "id": "antique-presence",
   "metadata": {},
   "source": [
    "## Example #2\n",
    "\n",
    "We are now going to compress all the previous commands into a single cell, with a different vector field:"
   ]
  },
  {
   "cell_type": "code",
   "execution_count": null,
   "id": "studied-slide",
   "metadata": {},
   "outputs": [],
   "source": [
    "var(\"x, y\")\n",
    "u = x**2 - y**2 - 4\n",
    "v = 2 * x * y\n",
    "ranges = (x, -5, 5), (y, -5, 5)\n",
    "magn = sqrt(u**2 + v**2)\n",
    "title = r\"$\\vec{F}(%s, %s) = (%s, %s)$\" % (latex(x), latex(y), latex(u), latex(v))\n",
    "p = plot_contour((magn, \"Magnitude\"), *ranges, backend=PB, show=False,\n",
    "                 aspect_ratio=\"equal\", title=title,\n",
    "                 contours_coloring=\"heatmap\", contours_labels=True)\n",
    "xx, yy, uu = get_plot_data(u, *ranges, n=15)\n",
    "_, _, vv = get_plot_data(v, *ranges, n=15)\n",
    "plot = p.fig\n",
    "quiver = create_quiver(xx, yy, uu, vv, scale=0.035, line_color=\"aqua\")\n",
    "plot.add_traces([quiver.data[0]])\n",
    "plot.update_layout(xaxis_range=ranges[0][1:], yaxis_range=ranges[0][1:])"
   ]
  },
  {
   "cell_type": "markdown",
   "id": "swedish-morocco",
   "metadata": {},
   "source": [
    "Note that we didn't need to specify `pt=\"p3d\"` because both components have `x` and `y` terms, hence the automatic algorithm was able to infere the kind of data we were interested in."
   ]
  },
  {
   "cell_type": "markdown",
   "id": "wired-centre",
   "metadata": {},
   "source": [
    "## Example #3\n",
    "\n",
    "Let's now create a simple plot with two horizontal axis.\n",
    "\n",
    "Let's suppose we are building an analytical model of a nuclear reactor fuel element of anular geometry, where the coolant flows in the inner tube. The following expressions represent the temperature distributions and power density along the channel's length:"
   ]
  },
  {
   "cell_type": "code",
   "execution_count": null,
   "id": "absent-citizen",
   "metadata": {},
   "outputs": [],
   "source": [
    "r, ro, ri = symbols(\"r, r_o, r_i\")\n",
    "mdot, cp, hc = symbols(r\"\\dot{m}, c_p, h_c\")\n",
    "alpha, k, L, z = symbols(\"alpha, k, L, z\")\n",
    "Tin, Pave = symbols(r\"T_{in}, P_{ave}\")\n",
    "\n",
    "# Fuel temperature distribution along the channel\n",
    "# here, the only variable is z \n",
    "Tf = (Tin + (Pave * L * pi * (ro**2 - ri**2) / (2 * mdot * cp)) * \n",
    "      (1 - sin(alpha * (L / 2 - z)) / sin(alpha * L / 2)) + \n",
    "      (alpha * Pave * L  / 2) * (cos(alpha * (L / 2 - z)) / sin(alpha * L / 2)) *\n",
    "      ((ro**2 - ri**2) / (2 * hc * ri) - (1 / (2 * k)) * \n",
    "      ((r**2 - ri**2) / 2 + ro**2 * log(ri / r)))\n",
    "     )\n",
    "Tf"
   ]
  },
  {
   "cell_type": "code",
   "execution_count": null,
   "id": "comprehensive-electric",
   "metadata": {},
   "outputs": [],
   "source": [
    "# Fuel temperature distribution at the inner and outer walls\n",
    "Twi = Tf.subs(r, ri)\n",
    "Two = Tf.subs(r, ro)"
   ]
  },
  {
   "cell_type": "code",
   "execution_count": null,
   "id": "documentary-vanilla",
   "metadata": {},
   "outputs": [],
   "source": [
    "# Cooling fluid temperature\n",
    "Tp = (Tin + (Pave * L / 2) * pi * (ro**2 - ri**2) / (mdot * cp) * \n",
    "     (1 - sin(alpha * (L / 2 - z)) / sin(alpha * L / 2)))\n",
    "Tp"
   ]
  },
  {
   "cell_type": "code",
   "execution_count": null,
   "id": "continent-packaging",
   "metadata": {},
   "outputs": [],
   "source": [
    "# Power density\n",
    "P = (alpha * Pave * L) / (2 * sin(alpha * L / 2)) * cos(alpha * (L / 2 - z))\n",
    "P"
   ]
  },
  {
   "cell_type": "code",
   "execution_count": null,
   "id": "significant-runner",
   "metadata": {},
   "outputs": [],
   "source": [
    "# numerical values (they might come from some sliders)\n",
    "d = {\n",
    "    ri: 0.2,\n",
    "    ro: 0.4,\n",
    "    L: 100,\n",
    "    Pave: 1000,\n",
    "    hc: 1,\n",
    "    alpha: 0.031,\n",
    "    mdot: 1,\n",
    "    k: 0.2,\n",
    "    cp: 15,\n",
    "    Tin: 300,\n",
    "}"
   ]
  },
  {
   "cell_type": "code",
   "execution_count": null,
   "id": "persistent-airfare",
   "metadata": {},
   "outputs": [],
   "source": [
    "_range = (z, 0, 100)\n",
    "\n",
    "xp, tp = get_plot_data(Tp.subs(d), _range)\n",
    "xwi, twi = get_plot_data(Twi.subs(d), _range)\n",
    "xwo, two = get_plot_data(Two.subs(d), _range)\n",
    "xpower, power = get_plot_data(P.subs(d), _range)\n",
    "\n",
    "import plotly.graph_objects as go\n",
    "\n",
    "fig = go.Figure()\n",
    "\n",
    "fig.add_trace(go.Scatter(x=tp, y=xp, name=\"$T_{p}$\",\n",
    "                        line = dict(color=\"cyan\")))\n",
    "fig.add_trace(go.Scatter(x=twi, y=xwi, name=\"$T_{w, i}$\",\n",
    "                        line = dict(color=\"cyan\", dash=\"dash\")))\n",
    "fig.add_trace(go.Scatter(x=two, y=xwo, name=\"$T_{w, o}$\",\n",
    "                        line = dict(color=\"cyan\", dash=\"dot\")))\n",
    "fig.add_trace(go.Scatter(x=power, y=xpower, name=\"$P$\", xaxis=\"x2\", line_color=\"crimson\"))\n",
    "\n",
    "# Create axis objects\n",
    "fig.update_layout(\n",
    "    template = \"plotly_dark\",\n",
    "    xaxis=dict(\n",
    "        title = \"Temperature [K]\",\n",
    "        titlefont = dict(\n",
    "            color = \"cyan\"\n",
    "        ),\n",
    "        tickfont = dict(\n",
    "            color = \"cyan\"\n",
    "        ),\n",
    "        range = [0, 3000]\n",
    "    ),\n",
    "    xaxis2=dict(\n",
    "        title = \"Fuel Power Density [W/cm^3]\",\n",
    "        overlaying = \"x\",\n",
    "        side = \"top\",\n",
    "        titlefont = dict(\n",
    "            color = \"crimson\"\n",
    "        ),\n",
    "        tickfont = dict(\n",
    "            color = \"crimson\"\n",
    "        ),\n",
    "        range = [0, 2000],\n",
    "        showgrid = False\n",
    "    ),\n",
    "    yaxis = dict(\n",
    "        autorange = \"reversed\"\n",
    "    )\n",
    ")\n",
    "\n",
    "fig.show()"
   ]
  },
  {
   "cell_type": "markdown",
   "id": "norwegian-austria",
   "metadata": {},
   "source": [
    "There we have it. We easily built a custom plot starting from symbolic expressions."
   ]
  },
  {
   "cell_type": "code",
   "execution_count": null,
   "id": "creative-indonesia",
   "metadata": {},
   "outputs": [],
   "source": []
  }
 ],
 "metadata": {
  "kernelspec": {
   "display_name": "plotting_lambdify",
   "language": "python",
   "name": "plotting_lambdify"
  },
  "language_info": {
   "codemirror_mode": {
    "name": "ipython",
    "version": 3
   },
   "file_extension": ".py",
   "mimetype": "text/x-python",
   "name": "python",
   "nbconvert_exporter": "python",
   "pygments_lexer": "ipython3",
   "version": "3.8.5"
  },
  "toc": {
   "base_numbering": 1,
   "nav_menu": {},
   "number_sections": true,
   "sideBar": true,
   "skip_h1_title": false,
   "title_cell": "Table of Contents",
   "title_sidebar": "Contents",
   "toc_cell": false,
   "toc_position": {},
   "toc_section_display": true,
   "toc_window_display": false
  }
 },
 "nbformat": 4,
 "nbformat_minor": 5
}
