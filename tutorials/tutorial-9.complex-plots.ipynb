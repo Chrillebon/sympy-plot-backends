{
 "cells": [
  {
   "cell_type": "markdown",
   "id": "bc72ee8e",
   "metadata": {},
   "source": [
    "# Plotting complex numbers and complex function\n",
    "\n",
    "This module exposes the `complex_plot` function which can be used to create different kinds of plot:\n",
    "1. Plotting lists of complex numbers.\n",
    "2. Plotting over a real range the real and imaginary part of a complex function.\n",
    "3. Plotting over a real range the absolute value of a complex function colored by its argument.\n",
    "4. Domain coloring of a complex function over a complex domain.\n",
    "5. 3D plot of the absolute value of a complex function colored by its argument.\n",
    "\n",
    "In the following tutorial we are not going to explore them all. Instead, we will look at the differences between the backends."
   ]
  },
  {
   "cell_type": "code",
   "execution_count": null,
   "id": "ee0a15d9",
   "metadata": {},
   "outputs": [],
   "source": [
    "from sympy import *\n",
    "from spb import *\n",
    "from spb.backends.plotly import PB\n",
    "from spb.backends.k3d import KB\n",
    "from spb.backends.bokeh import BB\n",
    "var(\"x:z\")\n",
    "help(complex_plot)"
   ]
  },
  {
   "cell_type": "markdown",
   "id": "5569ef06",
   "metadata": {},
   "source": [
    "## Real/Imaginary or Absolute/Argument\n",
    "\n",
    "Let's say we'd like to plot the real and imaginary parts of a complex function over a real range. All we have to do is the following:"
   ]
  },
  {
   "cell_type": "code",
   "execution_count": null,
   "id": "9452c6e0",
   "metadata": {},
   "outputs": [],
   "source": [
    "expr = cos(x) + sqrt(I * x)\n",
    "expr"
   ]
  },
  {
   "cell_type": "code",
   "execution_count": null,
   "id": "d4f0003d",
   "metadata": {},
   "outputs": [],
   "source": [
    "complex_plot(expr, (x, -2, 2), backend=PB)"
   ]
  },
  {
   "cell_type": "markdown",
   "id": "c78e6a48",
   "metadata": {},
   "source": [
    "We set `absarg=True` in order to create a plot of the magnitude of a complex function colored by its argument:"
   ]
  },
  {
   "cell_type": "code",
   "execution_count": null,
   "id": "1f0b6195",
   "metadata": {},
   "outputs": [],
   "source": [
    "complex_plot(expr, (x, -2, 2), absarg=True, backend=PB)"
   ]
  },
  {
   "cell_type": "markdown",
   "id": "8956dafd",
   "metadata": {},
   "source": [
    "Note that Plotly is unable to plot gradient lines, so the change in phase is represented by colored markers. By hovering the markers we get a tooltip telling us useful information.\n",
    "\n",
    "If we are only interested in the absolute value without argument-coloring, we can set `use_cm=False`:"
   ]
  },
  {
   "cell_type": "code",
   "execution_count": null,
   "id": "82d4fd18",
   "metadata": {},
   "outputs": [],
   "source": [
    "complex_plot(expr, (x, -2, 2), absarg=True, use_cm=False, backend=PB)"
   ]
  },
  {
   "cell_type": "markdown",
   "id": "e38349ab",
   "metadata": {},
   "source": [
    "## Domain Coloring\n",
    "\n",
    "[Domain coloring](https://en.wikipedia.org/wiki/Domain_coloring) is a technique for visualizing complex functions by assigning a color to each point of the complex plane. This module uses [cplot](https://github.com/nschloe/cplot) to accomplish this task. By quoting `cplot` documentation, we can control the coloring with two parameters:\n",
    "\n",
    "> * `alpha = 1  # >= 0`: alpha can be used to adjust the use of colors. A value less than 1 adds more color which can help isolating the roots and poles (which are still black and white, respectively). alpha=0 ignores the magnitude of f(z) completely.\n",
    "> * `colorspace = \"cam16\"  # \"cielab\", \"oklab\", \"hsl\"`: colorspace can be set to hsl to get the common fully saturated, vibrant colors. This is usually a bad idea since it creates artifacts which are not related with the underlying data. From Wikipedia: *Since the HSL color space is not perceptually uniform, one can see streaks of perceived brightness at yellow, cyan, and magenta (even though their absolute values are the same as red, green, and blue) and a halo around L = 1/2. Use of the Lab color space corrects this, making the images more accurate, but also makes them more drab/pastel.*\n"
   ]
  },
  {
   "cell_type": "code",
   "execution_count": null,
   "id": "0fe1ceda",
   "metadata": {},
   "outputs": [],
   "source": [
    "complex_plot(gamma(z), (z, -4 - 2 * I, 4 + 2 * I), backend=PB)"
   ]
  },
  {
   "cell_type": "markdown",
   "id": "5d8016d6",
   "metadata": {},
   "source": [
    "By default, domain coloring plots automatically set `aspect=\"equal\"`. \n",
    "\n",
    "From `cplot` documentation:\n",
    "\n",
    "> The representation is chosen such that:\n",
    ">\n",
    "> * values around 0 are black,\n",
    "> * values around infinity are white,\n",
    "> * values around +1 are green,\n",
    "> * values around -1 are deep purple,\n",
    "> * values around +i are blue,\n",
    "> * values around -i are orange.\n",
    ">\n",
    "> With this, it is easy to see where a function has very small and very large values, and the multiplicty of zeros and poles is instantly identified by counting the color wheel passes around a black or white point.\n",
    "\n",
    "Also note that Plotly has a _bug_: the vertical axis is reversed, with negative values on the top and positive values on the bottom. We will get back to it later!\n",
    "\n",
    "More generally, we can think of the result of domain coloring as a picture. The complex domain is discretized with `n1` points in the horizontal direction and `n2` points in the vertical direction. Therefore, the picture will have `(n1 - 1) (n2 - 1)` pixels. We can set `n1` and `n2` to refine the result, however Plotly will become slower and slower in rendering the results. In such cases, it is better to use a different backend, as we will later see.\n",
    "\n",
    "Let's try to change the `alpha` and `colorspace` parameters:"
   ]
  },
  {
   "cell_type": "code",
   "execution_count": null,
   "id": "35c6d411",
   "metadata": {},
   "outputs": [],
   "source": [
    "complex_plot(gamma(z), (z, -4 - 2 * I, 4 + 2 * I), backend=PB, alpha=0)"
   ]
  },
  {
   "cell_type": "code",
   "execution_count": null,
   "id": "2c79165d",
   "metadata": {},
   "outputs": [],
   "source": [
    "complex_plot(gamma(z), (z, -4 - 2 * I, 4 + 2 * I), backend=PB, alpha=0, colorspace=\"hsl\")"
   ]
  },
  {
   "cell_type": "markdown",
   "id": "1f10f1fc",
   "metadata": {},
   "source": [
    "We can also plot the absolute value of the complex function colored by its argument in 3D:"
   ]
  },
  {
   "cell_type": "code",
   "execution_count": null,
   "id": "68d38e2a",
   "metadata": {},
   "outputs": [],
   "source": [
    "complex_plot(gamma(z), (z, -4 - 2 * I, 4 + 2 * I), \n",
    "             backend=PB, threed=True, zlim=(0, 10))"
   ]
  },
  {
   "cell_type": "markdown",
   "id": "1c8499a9",
   "metadata": {},
   "source": [
    "As you can see, Plotly by default is not keeping a fixed aspect ratio. Let's try the same with K3D:"
   ]
  },
  {
   "cell_type": "code",
   "execution_count": null,
   "id": "5f6f02cc",
   "metadata": {},
   "outputs": [],
   "source": [
    "complex_plot(gamma(z), (z, -4 - 2 * I, 4 + 2 * I), \n",
    "             backend=KB, threed=True, zlim=(0, 10))"
   ]
  },
  {
   "cell_type": "markdown",
   "id": "ef936fc9",
   "metadata": {},
   "source": [
    "Considering that complex functions can go to infinity, a fixed-aspect ratio plotting library (like K3D) might not be the best choice!"
   ]
  },
  {
   "cell_type": "markdown",
   "id": "eca22b0f",
   "metadata": {},
   "source": [
    "## Using different backends\n",
    "\n",
    "We have seen that Plotly is not really a good choice if we need to plot gradient lines. Let's try Bokeh:"
   ]
  },
  {
   "cell_type": "code",
   "execution_count": null,
   "id": "89a3eb3c",
   "metadata": {},
   "outputs": [],
   "source": [
    "complex_plot(expr, (x, -2, 2), absarg=True, backend=BB)"
   ]
  },
  {
   "cell_type": "markdown",
   "id": "5fd5f322",
   "metadata": {},
   "source": [
    "Again, we can hover over the lines to get detailed information."
   ]
  },
  {
   "cell_type": "markdown",
   "id": "38cb8419",
   "metadata": {},
   "source": [
    "Let's now go back to the 2D domain coloring. To fix the reversed y-axis we need to use a different backend. Let's try with Bokeh:"
   ]
  },
  {
   "cell_type": "code",
   "execution_count": null,
   "id": "a58c71d6",
   "metadata": {},
   "outputs": [],
   "source": [
    "complex_plot(gamma(z), (z, -4 - 2 * I, 4 + 2 * I), backend=BB)"
   ]
  },
  {
   "cell_type": "markdown",
   "id": "d73c3cc5",
   "metadata": {},
   "source": [
    "## Interactive plots\n",
    "\n",
    "We can also use `iplot` to create interactive complex plots. We must remember to set `is_complex=True`.\n",
    "\n",
    "Note: at this point in development, only line plots and 3D plots are supported."
   ]
  },
  {
   "cell_type": "code",
   "execution_count": null,
   "id": "e27c9154",
   "metadata": {},
   "outputs": [],
   "source": [
    "iplot(\n",
    "    (z * sin(x * z) * exp(2 * pi * I / (y * z)), (z, -5, 5)),\n",
    "    params = {\n",
    "        x: (1, (0, 3)),\n",
    "        y: (1, (-5, 5)),\n",
    "    },\n",
    "    fig_kw = dict(\n",
    "        is_complex = True,\n",
    "        backend = BB,\n",
    "        absarg = True,\n",
    "        n1 = 2000\n",
    "    )\n",
    ")"
   ]
  },
  {
   "cell_type": "markdown",
   "id": "18b45f65",
   "metadata": {},
   "source": [
    "The user can change `absarg=False` and rerun the plot.\n",
    "\n",
    "Let's now try with a 3D plot:"
   ]
  },
  {
   "cell_type": "code",
   "execution_count": null,
   "id": "bc46c7a7",
   "metadata": {},
   "outputs": [],
   "source": [
    "iplot(\n",
    "    ((z**2 + 1) / (x * (z**2 - 1)), (z, -4 - 2 * I, 4 + 2 * I)),\n",
    "    params = {\n",
    "        x: (1, (-2, 2))\n",
    "    },\n",
    "    fig_kw = dict(\n",
    "        backend = KB,\n",
    "        threed = True,\n",
    "        is_complex = True,\n",
    "        zlim = (0, 6)\n",
    "    )\n",
    ")"
   ]
  }
 ],
 "metadata": {
  "kernelspec": {
   "display_name": "Python 3",
   "language": "python",
   "name": "python3"
  },
  "language_info": {
   "codemirror_mode": {
    "name": "ipython",
    "version": 3
   },
   "file_extension": ".py",
   "mimetype": "text/x-python",
   "name": "python",
   "nbconvert_exporter": "python",
   "pygments_lexer": "ipython3",
   "version": "3.8.5"
  },
  "toc": {
   "base_numbering": 1,
   "nav_menu": {},
   "number_sections": true,
   "sideBar": true,
   "skip_h1_title": false,
   "title_cell": "Table of Contents",
   "title_sidebar": "Contents",
   "toc_cell": false,
   "toc_position": {},
   "toc_section_display": true,
   "toc_window_display": false
  }
 },
 "nbformat": 4,
 "nbformat_minor": 5
}
