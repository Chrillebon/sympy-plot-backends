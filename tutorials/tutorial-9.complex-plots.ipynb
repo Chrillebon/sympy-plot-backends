{
 "cells": [
  {
   "cell_type": "markdown",
   "id": "bc72ee8e",
   "metadata": {},
   "source": [
    "# Plotting complex numbers and complex function\n",
    "\n",
    "This module exposes the following functions to deal with complex numbers/functions visualization:\n",
    "* `plot_complex`: domain coloring of a complex function. \n",
    "* `plot_complex_list`: plotting lists of complex numbers.\n",
    "* `plot_real_imag`: plotting over a real range the real and imaginary part of a complex function.\n",
    "* `plot_complex_vector`: plotting the vector field ``[re(f), im(f)]`` for a complex function ``f``.\n",
    "\n",
    "It is left to the user to read the documentation of each function.\n",
    "\n",
    "In the following tutorial we will focus on the differences between the backends."
   ]
  },
  {
   "cell_type": "code",
   "execution_count": null,
   "id": "4300cf18",
   "metadata": {},
   "outputs": [],
   "source": [
    "%matplotlib widget"
   ]
  },
  {
   "cell_type": "code",
   "execution_count": null,
   "id": "ee0a15d9",
   "metadata": {
    "scrolled": false
   },
   "outputs": [],
   "source": [
    "from sympy import *\n",
    "from spb import *\n",
    "from spb.backends.plotly import PB\n",
    "from spb.backends.k3d import KB\n",
    "from spb.backends.matplotlib import MB\n",
    "var(\"x:z\")"
   ]
  },
  {
   "cell_type": "code",
   "execution_count": null,
   "id": "20611abe",
   "metadata": {},
   "outputs": [],
   "source": [
    "help(plot_complex)"
   ]
  },
  {
   "cell_type": "markdown",
   "id": "5569ef06",
   "metadata": {},
   "source": [
    "## Real/Imaginary or Absolute/Argument for functions of 1 variable\n",
    "\n",
    "Let's say we'd like to plot the real and imaginary parts of a complex function over a real range. All we have to do is the following:"
   ]
  },
  {
   "cell_type": "code",
   "execution_count": null,
   "id": "9452c6e0",
   "metadata": {},
   "outputs": [],
   "source": [
    "expr = cos(x) + sqrt(I * x)\n",
    "expr"
   ]
  },
  {
   "cell_type": "code",
   "execution_count": null,
   "id": "d4f0003d",
   "metadata": {},
   "outputs": [],
   "source": [
    "plot_real_imag(expr, (x, -2, 2), backend=PB)"
   ]
  },
  {
   "cell_type": "markdown",
   "id": "84d96160",
   "metadata": {},
   "source": [
    "Note that we can visualize every quantity by turning on the respective flag:"
   ]
  },
  {
   "cell_type": "code",
   "execution_count": null,
   "id": "77096c4b",
   "metadata": {},
   "outputs": [],
   "source": [
    "plot_real_imag(expr, (x, -2, 2), real=True, imag=True, abs=True, arg=True, backend=PB)"
   ]
  },
  {
   "cell_type": "markdown",
   "id": "c78e6a48",
   "metadata": {},
   "source": [
    "We use `plot_complex` to create a plot of the magnitude of a complex function colored by its argument over a real range:"
   ]
  },
  {
   "cell_type": "code",
   "execution_count": null,
   "id": "1f0b6195",
   "metadata": {},
   "outputs": [],
   "source": [
    "plot_complex(expr, (x, -2, 2), backend=PB)"
   ]
  },
  {
   "cell_type": "markdown",
   "id": "8956dafd",
   "metadata": {},
   "source": [
    "Note that Plotly is unable to render gradient lines, so the change in phase is represented by colored markers. By hovering the markers we get a tooltip telling us useful information.\n",
    "\n",
    "Let's try a different backend:"
   ]
  },
  {
   "cell_type": "code",
   "execution_count": null,
   "id": "3fd9eb09",
   "metadata": {},
   "outputs": [],
   "source": [
    "plot_complex(expr, (x, -2, 2), backend=MB)"
   ]
  },
  {
   "cell_type": "markdown",
   "id": "793210ac",
   "metadata": {},
   "source": [
    "If we are only interested in the absolute value without argument-coloring, we can set `use_cm=False`:"
   ]
  },
  {
   "cell_type": "code",
   "execution_count": null,
   "id": "82d4fd18",
   "metadata": {},
   "outputs": [],
   "source": [
    "plot_complex(expr, (x, -2, 2), use_cm=False, backend=PB)"
   ]
  },
  {
   "cell_type": "markdown",
   "id": "a6200d03",
   "metadata": {},
   "source": [
    "The numerical data of all the above plots have been generated with Numpy. We can also choose Mpmath by setting `modules=\"mpmath\"`: this option will be passed to `lambdify`. Note that the numerical evaluation with Mpmath is slower than Numpy, but the results are different when branch cuts are involved. Let's illustrate the differences by plotting the imaginary part of a function:"
   ]
  },
  {
   "cell_type": "code",
   "execution_count": null,
   "id": "cad6f159",
   "metadata": {},
   "outputs": [],
   "source": [
    "p1 = plot_real_imag((asin(x), (x, -5, 5), \"numpy\"), real=False, imag=True, show=False)\n",
    "p2 = plot_real_imag((asin(x), (x, -5, 5), \"mpmath\"), real=False, imag=True,\n",
    "                  modules=\"mpmath\", show=False)\n",
    "(p1 + p2).show()"
   ]
  },
  {
   "cell_type": "markdown",
   "id": "6b8f9f26",
   "metadata": {},
   "source": [
    "As we can see, there are regions in the plot where Numpy and Mpmath computes the same imaginary part, and other regions where the imaginary parts have opposite sign. This also leads to different arguments:"
   ]
  },
  {
   "cell_type": "code",
   "execution_count": null,
   "id": "82f1d760",
   "metadata": {},
   "outputs": [],
   "source": [
    "p1 = plot_real_imag((asin(x), (x, -5, 5), \"numpy\"), real=False, imag=False, \n",
    "                  arg=True, show=False)\n",
    "p2 = plot_real_imag((asin(x), (x, -5, 5), \"mpmath\"), real=False, imag=False,\n",
    "                  arg=True, modules=\"mpmath\", show=False)\n",
    "(p1 + p2).show()"
   ]
  },
  {
   "cell_type": "markdown",
   "id": "eec969a6",
   "metadata": {},
   "source": [
    "The above results are also valid when creating domain coloring plots (next section). Therefore, the user should carefully select the numerical library according to his/her preferences and objectives."
   ]
  },
  {
   "cell_type": "markdown",
   "id": "e38349ab",
   "metadata": {},
   "source": [
    "## Domain Coloring\n",
    "\n",
    "[Domain coloring](https://en.wikipedia.org/wiki/Domain_coloring) is a technique for visualizing complex functions by assigning a color to each point of the complex plane. As we have seen earlier by reading `plot_complex` documentation, we can chose between different coloring.\n",
    "\n",
    "This module implements several color schemes based on Elias Wegert's book [\"Visual Complex Functions\"](https://www.springer.com/de/book/9783034801799). The book provides the background to better understand the images. Find out the available ``coloring`` options by reading ``plot_complex`` documentation.\n",
    "\n",
    "Let's start with the default:"
   ]
  },
  {
   "cell_type": "code",
   "execution_count": null,
   "id": "0fe1ceda",
   "metadata": {},
   "outputs": [],
   "source": [
    "plot_complex(gamma(z), (z, -4 - 2 * I, 4 + 2 * I), backend=PB)"
   ]
  },
  {
   "cell_type": "markdown",
   "id": "5d8016d6",
   "metadata": {},
   "source": [
    "More generally, we can think of the result of domain coloring as a picture. The complex domain is discretized with `n1` points in the horizontal direction and `n2` points in the vertical direction. Therefore, the picture will have `(n1 - 1) (n2 - 1)` pixels. We can increase `n1` and `n2` to refine the result, however Plotly will become slower and slower in rendering the results. In such cases, it is better to use a different backend, as we will later see.\n",
    "\n",
    "Note that:\n",
    "* By default, domain coloring plots automatically set `aspect=\"equal\"`. \n",
    "* Plotly has a _bug_: the vertical axis is reversed, with negative values on the top and positive values on the bottom. We will get back to it later!\n",
    "\n",
    "Let's now try a different coloring with `MatplotlibBackend`:"
   ]
  },
  {
   "cell_type": "code",
   "execution_count": null,
   "id": "c1d23aeb",
   "metadata": {},
   "outputs": [],
   "source": [
    "plot_complex(gamma(z), (z, -4 - 2 * I, 4 + 2 * I), coloring=\"b\", backend=MB, grid=False)"
   ]
  },
  {
   "cell_type": "markdown",
   "id": "dca6b9bc",
   "metadata": {},
   "source": [
    "Note how much faster the picture was generated: there is no javascript involved. However, we lost a lot of information: by hovering over the picture, we are only going to see the pointer coordinates."
   ]
  },
  {
   "cell_type": "markdown",
   "id": "1f10f1fc",
   "metadata": {},
   "source": [
    "We can also plot the absolute value of the complex function colored by its argument in 3D, by setting `threed=True`:"
   ]
  },
  {
   "cell_type": "code",
   "execution_count": null,
   "id": "68d38e2a",
   "metadata": {},
   "outputs": [],
   "source": [
    "plot_complex(gamma(z), (z, -4 - 2 * I, 4 + 2 * I), \n",
    "             backend=PB, threed=True, zlim=(0, 10), n=100)"
   ]
  },
  {
   "cell_type": "markdown",
   "id": "1c8499a9",
   "metadata": {},
   "source": [
    "There are a few things to point out:\n",
    "\n",
    "* by default, Plotly is not keeping a fixed aspect ratio.\n",
    "* by zooming in, we can see some \"segmented\" lines separating colors: the underlying data is absolutely correct, whereas those lines are caused by the interpolation used by Plotly. Essentially, Plotly is interpolating the argument and it is unaware that the argument is periodic. Once the periodic jump is reached, those lines will appear.\n",
    "* there is even a worse [bug with Plotly](https://github.com/plotly/plotly.js/issues/5003) with 3D surfaces: when we hover a point, the tooltip will display wrong information for the argument and the phase. Hopefully this bug will be fixed upstream.\n",
    "\n",
    "Let's try a different coloring with K3D:"
   ]
  },
  {
   "cell_type": "code",
   "execution_count": null,
   "id": "5f6f02cc",
   "metadata": {},
   "outputs": [],
   "source": [
    "plot_complex(gamma(z), (z, -4 - 2 * I, 4 + 2 * I), threed=True, coloring=\"b\",\n",
    "             backend=KB, zlim=(0, 10), n=200)"
   ]
  },
  {
   "cell_type": "markdown",
   "id": "ef936fc9",
   "metadata": {},
   "source": [
    "Two things to note:\n",
    "1. Considering that complex functions can go to infinity, a fixed-aspect ratio plotting library (like K3D) might not be the best choice! By setting `zlim` we asked `K3DBackend` to add a couple of clipping planes. We can delete them by opening the menu \"Controls -> Clipping Planes\".\n",
    "2. the coloring appears to be segmented, no matter how many discretization point are being used. This is an intrinsic behaviour of K3D: the coloring of each face is computed by interpolating the colors of all its vertices."
   ]
  },
  {
   "cell_type": "markdown",
   "id": "537171c4",
   "metadata": {},
   "source": [
    "Finally, note that we can set a default value for the `coloring`. Refer to [tutorial 3](tutorial-3.customize-the-module.ipynb) and set `cfg[\"complex\"][\"coloring\"]` to one of the values specified in `help(plot_complex)`."
   ]
  },
  {
   "cell_type": "markdown",
   "id": "d73c3cc5",
   "metadata": {},
   "source": [
    "## Interactive plots\n",
    "\n",
    "We can also use `iplot` to create interactive complex plots. We must remember to set `is_complex=True`. Keep in mind that some backend might not support all functionalities listed above."
   ]
  },
  {
   "cell_type": "code",
   "execution_count": null,
   "id": "e27c9154",
   "metadata": {},
   "outputs": [],
   "source": [
    "from spb.interactive import iplot\n",
    "\n",
    "iplot(\n",
    "    (z * sin(x * z) * exp(2 * pi * I / (y * z)), (z, -5, 5)),\n",
    "    params = {\n",
    "        x: (1, 0, 3),\n",
    "        y: (1, -5, 5),\n",
    "    },\n",
    "    is_complex = True,\n",
    "    absarg = True,\n",
    "    backend = PB,\n",
    "    n1 = 2000\n",
    ")"
   ]
  },
  {
   "cell_type": "markdown",
   "id": "18b45f65",
   "metadata": {},
   "source": [
    "Let's plot the real and imaginary part of a complex function. Note that we have to set `absarg=False` in order to avoid adding the absolute value colored by the argument."
   ]
  },
  {
   "cell_type": "code",
   "execution_count": null,
   "id": "c3ed6948",
   "metadata": {},
   "outputs": [],
   "source": [
    "iplot(\n",
    "    (exp(I * z * x), (z, -5, 5)),\n",
    "    params = {\n",
    "        x: (1, -3, 3)\n",
    "    },\n",
    "    backend = MB,\n",
    "    is_complex = True,\n",
    "    real = True,\n",
    "    imag = True,\n",
    "    absarg = False\n",
    ")"
   ]
  },
  {
   "cell_type": "markdown",
   "id": "bea48260",
   "metadata": {},
   "source": [
    "Let's now try with a domain coloring plot:"
   ]
  },
  {
   "cell_type": "code",
   "execution_count": null,
   "id": "f27afb54",
   "metadata": {},
   "outputs": [],
   "source": [
    "iplot(\n",
    "    ((z**2 + 1) / (x * (z**2 - 1)), (z, -4 - 2 * I, 4 + 2 * I)),\n",
    "    params = {\n",
    "        x: (1, -2, 2)\n",
    "    },\n",
    "    backend = MB,\n",
    "    is_complex = True,\n",
    "    coloring = \"b\"\n",
    ")"
   ]
  },
  {
   "cell_type": "markdown",
   "id": "a3ab4e0f",
   "metadata": {},
   "source": [
    "Finally, let's try with a 3D. Keep in mind that the update might be slow:"
   ]
  },
  {
   "cell_type": "code",
   "execution_count": null,
   "id": "bc46c7a7",
   "metadata": {},
   "outputs": [],
   "source": [
    "iplot(\n",
    "    ((z**2 + 1) / (x * (z**2 - 1)), (z, -4 - 2 * I, 4 + 2 * I)),\n",
    "    params = {\n",
    "        x: (1, -2, 2)\n",
    "    },\n",
    "    backend = KB,\n",
    "    n = 100,\n",
    "    threed = True,\n",
    "    is_complex = True,\n",
    "    coloring = \"b\",\n",
    "    zlim = (0, 6)\n",
    ")"
   ]
  },
  {
   "cell_type": "code",
   "execution_count": null,
   "id": "7d221170",
   "metadata": {},
   "outputs": [],
   "source": []
  }
 ],
 "metadata": {
  "kernelspec": {
   "display_name": "Python 3 (ipykernel)",
   "language": "python",
   "name": "python3"
  },
  "language_info": {
   "codemirror_mode": {
    "name": "ipython",
    "version": 3
   },
   "file_extension": ".py",
   "mimetype": "text/x-python",
   "name": "python",
   "nbconvert_exporter": "python",
   "pygments_lexer": "ipython3",
   "version": "3.9.7"
  },
  "toc": {
   "base_numbering": 1,
   "nav_menu": {},
   "number_sections": true,
   "sideBar": true,
   "skip_h1_title": false,
   "title_cell": "Table of Contents",
   "title_sidebar": "Contents",
   "toc_cell": false,
   "toc_position": {},
   "toc_section_display": true,
   "toc_window_display": false
  }
 },
 "nbformat": 4,
 "nbformat_minor": 5
}
