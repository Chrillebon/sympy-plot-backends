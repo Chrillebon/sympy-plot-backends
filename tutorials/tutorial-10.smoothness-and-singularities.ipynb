{
 "cells": [
  {
   "cell_type": "markdown",
   "id": "d4cd7d22",
   "metadata": {},
   "source": [
    "# Evaluation Algorithm and Singularity Detection\n",
    "\n",
    "How does the plotting module works? Conceptually, it is very simple:\n",
    "\n",
    "1. it converts the symbolic expression to a function by using ``lambdify``, which will be used for numerical evaluation. Usually, the default evaluation modules are Numpy and Scipy.\n",
    "2. It will evaluate the function over the specified domain.\n",
    "3. The numerical data can be post-processed and later plotted.\n",
    "\n",
    "Regarding numerical evaluation, in the previous tutorials we have seen that 2D line plots can either use:\n",
    "\n",
    "* an adaptive algorithm which is going to chose where to evaluate a function in order to obtain a smooth plot. The iterative procedure minimizes some loss function (``loss_fn``) and will stop when the ``adaptive_goal`` has been reached. This is the default algorithm used by the plotting module.\n",
    "* a uniform meshing algorithm, which divides the specified range into ``n`` uniformly spaced points over which the function will be evaluated.\n",
    "\n",
    "In the following tutorial we are going to explore a few examples illustrating the limitations of the adaptive algorithm. In particular, we will understand when it is not appropriate to use it. Generally, if a function exhibits mid-to-high frequencies in relation to the plotting range, then it is better to switch to the uniform meshing algorithm.\n",
    "\n",
    "We have also seen that we can play with ``detect_poles`` and ``eps`` in order to detect singularities. The singularity-dection algorithm is extremely simple, as it doesn't analyze the symbolic expression in any way. As a matter of fact, it only relies on the gradient of the numerical data, thus it is a post-processing step. This means than the user has to detect if a function contains one or more singularities, eventually activating the detection algorithm and playing with the parameters in order to get the expected result. This is a try-and-repeat process until the user is satisfied with the result.\n",
    "\n",
    "Remember that the documentation associated to the ``plot`` function can be accessed by executing ``help(plot)``."
   ]
  },
  {
   "cell_type": "code",
   "execution_count": null,
   "id": "f5eeffa3",
   "metadata": {},
   "outputs": [],
   "source": [
    "%matplotlib widget\n",
    "from sympy import *\n",
    "from spb import *\n",
    "var(\"x\")"
   ]
  },
  {
   "cell_type": "markdown",
   "id": "cedddb23",
   "metadata": {},
   "source": [
    "## Example"
   ]
  },
  {
   "cell_type": "code",
   "execution_count": null,
   "id": "d3d51b3b",
   "metadata": {},
   "outputs": [],
   "source": [
    "expr = x * sin(20 * x) - Abs(2 * x) + 6\n",
    "plot(expr, (x, -1, 1))"
   ]
  },
  {
   "cell_type": "markdown",
   "id": "616fc4ba",
   "metadata": {},
   "source": [
    "Here the plotting module used the adaptive algorithm. In the provided range, the function has a relatively low frequency, so the adaptive algorithm (using the default options) was able to create a smooth plot.\n",
    "\n",
    "Let's try to use a wider plot range:"
   ]
  },
  {
   "cell_type": "code",
   "execution_count": null,
   "id": "2533ae46",
   "metadata": {},
   "outputs": [],
   "source": [
    "plot(expr, (x, -10, 10))"
   ]
  },
  {
   "cell_type": "markdown",
   "id": "4c4925a4",
   "metadata": {},
   "source": [
    "This is a case of mid-to-high frequencies (in relation to the plotting range used). We can see a few \"missed\" spikes. If we zoom into the plot, we will also see a very poor smoothness. The adaptive algorithm worked as expected: it minimized some loss function (``loss_fn``) until the default goal was reached (``adaptive_goal=0.01``). To improve the output we can either:\n",
    "\n",
    "1. decrease the value of ``adaptive_goal``: depending on the value, the execution will slow down quite a bit.\n",
    "2. switch to the uniform meshing algorithm and increase the number of discretization points. This techniques will use Numpy arrays for the evaluation, so we are going to get relatively good performances.\n",
    "\n",
    "Let's try to decrease ``adaptive_goal`` by one order of magnitude:"
   ]
  },
  {
   "cell_type": "code",
   "execution_count": null,
   "id": "cf9b8db2",
   "metadata": {},
   "outputs": [],
   "source": [
    "plot(expr, (x, -10, 10), adaptive_goal=1e-03)"
   ]
  },
  {
   "cell_type": "markdown",
   "id": "01b06c1c",
   "metadata": {},
   "source": [
    "The resulting plot is much better: if we zoom into it we will see a nice smooth line. However, the evaluation was significantly slower!\n",
    "\n",
    "For comparison, let's try to use the uniform meshing algorithm. This will create a nice smooth plot almost instantly:"
   ]
  },
  {
   "cell_type": "code",
   "execution_count": null,
   "id": "eec53504",
   "metadata": {},
   "outputs": [],
   "source": [
    "plot(expr, (x, -10, 10), adaptive=False, n=1e04)"
   ]
  },
  {
   "cell_type": "markdown",
   "id": "a5c275fb",
   "metadata": {},
   "source": [
    "## Example\n",
    "\n",
    "Let's execute the following code:"
   ]
  },
  {
   "cell_type": "code",
   "execution_count": null,
   "id": "ca3f439f",
   "metadata": {},
   "outputs": [],
   "source": [
    "plot(floor(x))"
   ]
  },
  {
   "cell_type": "markdown",
   "id": "df64c757",
   "metadata": {},
   "source": [
    "Because we are dealing with a ``floor`` function, there are discontinuities\n",
    "between the horizontal segments. Let's activate the singularity-detection\n",
    "algorithm:"
   ]
  },
  {
   "cell_type": "code",
   "execution_count": null,
   "id": "e71533b1",
   "metadata": {},
   "outputs": [],
   "source": [
    "plot(floor(x), detect_poles=True)"
   ]
  },
  {
   "cell_type": "markdown",
   "id": "7e40cd55",
   "metadata": {},
   "source": [
    "## Example\n",
    "\n",
    "Let's try another example of a function containing the `floor` function. This is a case of mid-to-high frequencies in relation to the plotting range, so it is advisable to set ``adaptive=False``:"
   ]
  },
  {
   "cell_type": "code",
   "execution_count": null,
   "id": "72103ffd",
   "metadata": {},
   "outputs": [],
   "source": [
    "expr = tan(floor(30 * x)) + x / 8\n",
    "plot(expr, adaptive=False, n=1e04)"
   ]
  },
  {
   "cell_type": "markdown",
   "id": "d4f53ca0",
   "metadata": {},
   "source": [
    "There is a wide spread along the y-direction. Let's limit it:"
   ]
  },
  {
   "cell_type": "code",
   "execution_count": null,
   "id": "bd2f7424",
   "metadata": {},
   "outputs": [],
   "source": [
    "plot(expr, adaptive=False, n=1e04, ylim=(-10, 10))"
   ]
  },
  {
   "cell_type": "markdown",
   "id": "15fcd89f",
   "metadata": {},
   "source": [
    "Let's remember that we are dealing with a `floor` function, so ther should be distinct segments in the plot:"
   ]
  },
  {
   "cell_type": "code",
   "execution_count": null,
   "id": "b68a9b52",
   "metadata": {},
   "outputs": [],
   "source": [
    "plot(expr, adaptive=False, n=1e04, ylim=(-10, 10), detect_poles=True)"
   ]
  },
  {
   "cell_type": "markdown",
   "id": "e20aa252",
   "metadata": {},
   "source": [
    "## Example\n",
    "\n",
    "The following example will probably take forever to plot (using the adaptive algorithm):"
   ]
  },
  {
   "cell_type": "code",
   "execution_count": null,
   "id": "7c63b6b9",
   "metadata": {},
   "outputs": [],
   "source": [
    "expr = sign(x) * (sin(1 - 1 / cos(x)) + Abs(x) - 6)\n",
    "# plot(expr)"
   ]
  },
  {
   "cell_type": "markdown",
   "id": "ffa2074c",
   "metadata": {},
   "source": [
    "We can stop the execution.\n",
    "\n",
    "Why is it so slow? Let's look at the argument of the ``sin`` function (the frequency): as `cos(x)` approaches 0, the frequency goes to infinity. The adaptive algorithm is trying to resolve this situation, but it's going to take a very long time. We have two options:\n",
    "\n",
    "1. increase the value of `adaptive_goal`, thus reducing the smoothness of the function and potentially loosing important information.\n",
    "2. use the uniform meshing algorithm.\n",
    "\n",
    "Let's try the second approach:"
   ]
  },
  {
   "cell_type": "code",
   "execution_count": null,
   "id": "3da8c2e7",
   "metadata": {},
   "outputs": [],
   "source": [
    "plot(expr, adaptive=False, n=1e04)"
   ]
  },
  {
   "cell_type": "markdown",
   "id": "f2f8c97e",
   "metadata": {},
   "source": [
    "Much better, but the plot is still misleading: there is a ``sign`` function in the expression, so there must be some discontinuities. Let's activate the singularity detection algorithm:"
   ]
  },
  {
   "cell_type": "code",
   "execution_count": null,
   "id": "6b365fb6",
   "metadata": {},
   "outputs": [],
   "source": [
    "plot(expr, adaptive=False, n=1e04, detect_poles=True)"
   ]
  },
  {
   "cell_type": "markdown",
   "id": "01e01d89",
   "metadata": {},
   "source": [
    "The singularity detection algorithm has done too much: it has also disconnected the high frequency regions. We can try to get a better visualization by:\n",
    "\n",
    "* increasing the number of discretization points.\n",
    "* reducing the ``eps`` parameter. The smaller this parameter, the higher the threshold used by the singularity detection algorithm.\n",
    "\n",
    "This is going to take a few attempts:"
   ]
  },
  {
   "cell_type": "code",
   "execution_count": null,
   "id": "d9cce1e4",
   "metadata": {},
   "outputs": [],
   "source": [
    "plot(expr, adaptive=False, n=5e04, detect_poles=True, eps=1e-04)"
   ]
  },
  {
   "cell_type": "markdown",
   "id": "25af29eb",
   "metadata": {},
   "source": [
    "## Example"
   ]
  },
  {
   "cell_type": "code",
   "execution_count": null,
   "id": "7a8eafb1",
   "metadata": {},
   "outputs": [],
   "source": [
    "expr = sin(20 * x) + sign(sin(19.5 * x)) + x\n",
    "plot(expr)"
   ]
  },
  {
   "cell_type": "markdown",
   "id": "9e6d7362",
   "metadata": {},
   "source": [
    "The expression contains a ``sign`` function, so there should be discontinuities. Also, if we zoom into the plot we see that it is not very \"smooth\": the frequency is quite high with respect to the plotting range. So: "
   ]
  },
  {
   "cell_type": "code",
   "execution_count": null,
   "id": "2429e16f",
   "metadata": {},
   "outputs": [],
   "source": [
    "plot(expr, adaptive=False, n=1e04, detect_poles=True)"
   ]
  },
  {
   "cell_type": "markdown",
   "id": "1dc8c5e7",
   "metadata": {},
   "source": [
    "## Example\n",
    "\n",
    "Another function having many singularities:"
   ]
  },
  {
   "cell_type": "code",
   "execution_count": null,
   "id": "499b9ae5",
   "metadata": {},
   "outputs": [],
   "source": [
    "expr = 1 / cos(10 * x) + 5 * sin(x)\n",
    "plot(expr)"
   ]
  },
  {
   "cell_type": "markdown",
   "id": "efc9dba6",
   "metadata": {},
   "source": [
    "Again, a very big spread along the y-direction. We need to limit it:"
   ]
  },
  {
   "cell_type": "code",
   "execution_count": null,
   "id": "4d878322",
   "metadata": {},
   "outputs": [],
   "source": [
    "plot(expr, ylim=(-10, 10))"
   ]
  },
  {
   "cell_type": "markdown",
   "id": "d2b5b748",
   "metadata": {},
   "source": [
    "The plot is clearly misleading. We can guess that it has a mid-to-high frequency with respect to the plotting range. Also, by looking at the expression there must be singularities:"
   ]
  },
  {
   "cell_type": "code",
   "execution_count": null,
   "id": "c0c37127",
   "metadata": {},
   "outputs": [],
   "source": [
    "plot(expr, ylim=(-10, 10), adaptive=False, n=1e04, detect_poles=True)"
   ]
  },
  {
   "cell_type": "markdown",
   "id": "5a69485e",
   "metadata": {},
   "source": [
    "We can improve it even further by reducing the ``eps`` parameter:"
   ]
  },
  {
   "cell_type": "code",
   "execution_count": null,
   "id": "d9e24456",
   "metadata": {},
   "outputs": [],
   "source": [
    "plot(expr, ylim=(-10, 10), adaptive=False, n=1e04, detect_poles=True, eps=1e-04)"
   ]
  },
  {
   "cell_type": "markdown",
   "id": "584d5b64",
   "metadata": {},
   "source": [
    "## Example\n",
    "\n",
    "Another expression containing singularities:"
   ]
  },
  {
   "cell_type": "code",
   "execution_count": null,
   "id": "fe00d042",
   "metadata": {},
   "outputs": [],
   "source": [
    "expr = asin(sin(x)) + 1 / cos(30 * x) / 4\n",
    "plot(expr, (x, -4, 4))"
   ]
  },
  {
   "cell_type": "markdown",
   "id": "ce3c9cff",
   "metadata": {},
   "source": [
    "We need to limit the y-direction. Also, let's use the uniform meshgrid approach:"
   ]
  },
  {
   "cell_type": "code",
   "execution_count": null,
   "id": "126488c5",
   "metadata": {},
   "outputs": [],
   "source": [
    "plot(expr, (x, -4, 4), ylim=(-5, 5), adaptive=False)"
   ]
  },
  {
   "cell_type": "markdown",
   "id": "1109fdcf",
   "metadata": {},
   "source": [
    "Here we can guess the shape of the function. We need to increase the number of discretization points and activate the singularity-detection algorithm:"
   ]
  },
  {
   "cell_type": "code",
   "execution_count": null,
   "id": "dd162d51",
   "metadata": {},
   "outputs": [],
   "source": [
    "plot(expr, (x, -4, 4), ylim=(-5, 5), adaptive=False, n=1e04, detect_poles=True)"
   ]
  },
  {
   "cell_type": "markdown",
   "id": "97ef761f",
   "metadata": {},
   "source": [
    "We can improve it even further:"
   ]
  },
  {
   "cell_type": "code",
   "execution_count": null,
   "id": "e0007e7d",
   "metadata": {},
   "outputs": [],
   "source": [
    "plot(expr, (x, -4, 4), ylim=(-5, 5), adaptive=False, n=5e04, detect_poles=True, eps=1e-04)"
   ]
  },
  {
   "cell_type": "markdown",
   "id": "4962e496",
   "metadata": {},
   "source": [
    "## Example\n",
    "\n",
    "Let's try to plot the Gamma function:"
   ]
  },
  {
   "cell_type": "code",
   "execution_count": null,
   "id": "ab00316c",
   "metadata": {},
   "outputs": [],
   "source": [
    "expr = gamma(x)\n",
    "plot(expr, (x, -5, 5))"
   ]
  },
  {
   "cell_type": "markdown",
   "id": "c0272f04",
   "metadata": {},
   "source": [
    "A very big spread along the y-direction. We need to limit it:"
   ]
  },
  {
   "cell_type": "code",
   "execution_count": null,
   "id": "21d0940e",
   "metadata": {},
   "outputs": [],
   "source": [
    "plot(expr, (x, -5, 5), ylim=(-5, 5))"
   ]
  },
  {
   "cell_type": "markdown",
   "id": "63fd1d8b",
   "metadata": {},
   "source": [
    "Here we can see a few discontinuities. Let's enable the singularity detection algorithm:"
   ]
  },
  {
   "cell_type": "code",
   "execution_count": null,
   "id": "8b49c318",
   "metadata": {},
   "outputs": [],
   "source": [
    "plot(expr, (x, -5, 5), ylim=(-5, 5), adaptive=False, n=2e04, detect_poles=True, eps=1e-04)"
   ]
  },
  {
   "cell_type": "code",
   "execution_count": null,
   "id": "1e05f000",
   "metadata": {},
   "outputs": [],
   "source": []
  }
 ],
 "metadata": {
  "kernelspec": {
   "display_name": "Python 3 (ipykernel)",
   "language": "python",
   "name": "python3"
  },
  "language_info": {
   "codemirror_mode": {
    "name": "ipython",
    "version": 3
   },
   "file_extension": ".py",
   "mimetype": "text/x-python",
   "name": "python",
   "nbconvert_exporter": "python",
   "pygments_lexer": "ipython3",
   "version": "3.10.6"
  }
 },
 "nbformat": 4,
 "nbformat_minor": 5
}
