{
 "cells": [
  {
   "cell_type": "markdown",
   "id": "7a04b4d9",
   "metadata": {},
   "source": [
    "# plotgrid\n",
    "\n",
    "There may be times where we need to combine together different plots into a grid-like layout.\n",
    "\n",
    "`plotgrid` is the function that does that job."
   ]
  },
  {
   "cell_type": "code",
   "execution_count": null,
   "id": "e3b4cfa1",
   "metadata": {},
   "outputs": [],
   "source": [
    "%matplotlib widget\n",
    "from sympy import *\n",
    "from spb import *\n",
    "var(\"x, y\")"
   ]
  },
  {
   "cell_type": "code",
   "execution_count": null,
   "id": "1e4c1a5e",
   "metadata": {},
   "outputs": [],
   "source": [
    "help(plotgrid)"
   ]
  },
  {
   "cell_type": "markdown",
   "id": "0838337b",
   "metadata": {},
   "source": [
    "## First Mode of Operation: simple grid layout\n",
    "\n",
    "Let's start by combining together 3 plots created with ``MatplotlibBackend``. In this case, `plotgrid` is going to return a Matplotlib figure. By default, the overall figure will have as many rows as necessary:"
   ]
  },
  {
   "cell_type": "code",
   "execution_count": null,
   "id": "8ec89507",
   "metadata": {},
   "outputs": [],
   "source": [
    "p1 = plot(sin(x), backend=MB, show=False)\n",
    "p2 = plot(tan(x), backend=MB, detect_poles=True, adaptive_goal=0.001, show=False)\n",
    "p3 = plot(exp(-x), backend=MB, show=False)\n",
    "f = plotgrid(p1, p2, p3)"
   ]
  },
  {
   "cell_type": "markdown",
   "id": "5ffcc2dd",
   "metadata": {},
   "source": [
    "Note that:\n",
    "* we captured the resulting matplotlib's figure into the variable ``f``, so that it can later be saved by calling ``f.savefig(*args)``. Alternatively, we can just run `plotgrid(p1, p2, p3);` with the semicolon character at the end. Failing to include the semicolon will result in the picture to be shown twice on the output cell of a Jupyter Notebook (this is a weird behaviour between matplotlib and ipympl, which was used at the beginning of the notebook with `%matplotlib widget`).\n",
    "* `plotgrid` might seems a little slow: after all, the numerical data is being recomputed from scratch rather then being copied from the existing plots.\n",
    "\n",
    "We can easily change the layout by setting ``nr`` and ``nc``:"
   ]
  },
  {
   "cell_type": "code",
   "execution_count": null,
   "id": "db72839d",
   "metadata": {},
   "outputs": [],
   "source": [
    "plotgrid(p1, p2, p3, nc=2, nr=2);"
   ]
  },
  {
   "cell_type": "markdown",
   "id": "4eaf8da0",
   "metadata": {},
   "source": [
    "It is also possible to combine different backends together. In this case, the resulting `panel` object will be rendered in the output cell:"
   ]
  },
  {
   "cell_type": "code",
   "execution_count": null,
   "id": "22207971",
   "metadata": {},
   "outputs": [],
   "source": [
    "p1 = plot(sin(x), backend=MB, show=False)\n",
    "p2 = plot(tan(x), backend=PB, detect_poles=True, adaptive_goal=0.001, show=False)\n",
    "p3 = plot(exp(-x), backend=BB, show=False)\n",
    "plotgrid(p1, p2, p3, nc=2, nr=2)"
   ]
  },
  {
   "cell_type": "markdown",
   "id": "237a03df",
   "metadata": {},
   "source": [
    "Note that the first plot, which was created with `MatplotlibBackend`, has been converted to a PNG picture, thus it lost its interactivity!"
   ]
  },
  {
   "cell_type": "markdown",
   "id": "d6b0cdd1",
   "metadata": {},
   "source": [
    "## Second Mode of Operation: custom grid layout\n",
    "\n",
    "We can create custom layout by creating a dictionary mapping matplotlib's ``GridSpec`` objects to plot. For example:"
   ]
  },
  {
   "cell_type": "code",
   "execution_count": null,
   "id": "124c4821",
   "metadata": {},
   "outputs": [],
   "source": [
    "from matplotlib.gridspec import GridSpec\n",
    "\n",
    "p1 = plot(sin(x), backend=MB, show=False)\n",
    "p2 = plot(tan(x), backend=MB, detect_poles=True, adaptive_goal=0.001, ylim=(-7, 7), show=False)\n",
    "p3 = plot(exp(-x), backend=MB, show=False)\n",
    "\n",
    "grid = GridSpec(2, 2)\n",
    "gs = {\n",
    "    grid[0, 0]: p1,\n",
    "    grid[1, 0]: p3,\n",
    "    grid[0:, 1]: p2\n",
    "}\n",
    "plotgrid(gs=gs);"
   ]
  },
  {
   "cell_type": "markdown",
   "id": "c82c54c0",
   "metadata": {},
   "source": [
    "The same can be done when the plots are created with different backends:"
   ]
  },
  {
   "cell_type": "code",
   "execution_count": null,
   "id": "58c56d75",
   "metadata": {},
   "outputs": [],
   "source": [
    "p1 = plot(sin(x), backend=MB, show=False)\n",
    "p2 = plot(tan(x), backend=PB, detect_poles=True, adaptive_goal=0.001, ylim=(-7, 7), show=False)\n",
    "p3 = plot(exp(-x), backend=BB, show=False)\n",
    "\n",
    "gs = {\n",
    "    grid[0, 0]: p1,\n",
    "    grid[1, 0]: p3,\n",
    "    grid[0:, 1]: p2\n",
    "}\n",
    "plotgrid(gs=gs)"
   ]
  },
  {
   "cell_type": "code",
   "execution_count": null,
   "id": "2b46b78c",
   "metadata": {},
   "outputs": [],
   "source": []
  }
 ],
 "metadata": {
  "kernelspec": {
   "display_name": "Python 3 (ipykernel)",
   "language": "python",
   "name": "python3"
  },
  "language_info": {
   "codemirror_mode": {
    "name": "ipython",
    "version": 3
   },
   "file_extension": ".py",
   "mimetype": "text/x-python",
   "name": "python",
   "nbconvert_exporter": "python",
   "pygments_lexer": "ipython3",
   "version": "3.9.7"
  },
  "toc": {
   "base_numbering": 1,
   "nav_menu": {},
   "number_sections": true,
   "sideBar": true,
   "skip_h1_title": false,
   "title_cell": "Table of Contents",
   "title_sidebar": "Contents",
   "toc_cell": false,
   "toc_position": {},
   "toc_section_display": true,
   "toc_window_display": false
  }
 },
 "nbformat": 4,
 "nbformat_minor": 5
}
