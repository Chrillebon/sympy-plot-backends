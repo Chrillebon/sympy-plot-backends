{
 "cells": [
  {
   "cell_type": "markdown",
   "id": "vietnamese-thailand",
   "metadata": {},
   "source": [
    "# Simple Parametric-Interactive Plots\n",
    "\n",
    "In this tutorial we are going to see how to create simple parametric-interactive plots, that is plots where we can move sliders to change parameters. The word _simple_ refer to the fact that the function we are going to use is specifically designed to use sliders (and not other type of controls). Also, we don't have many options regarding the overall layout.\n",
    "\n",
    "The function that allows to do that is `iplot`, which stands for _interactive plot_. Keep in mind that it only works inside Jupyter Notebook, since it is based on [holoviz's panel](https://panel.holoviz.org/)."
   ]
  },
  {
   "cell_type": "code",
   "execution_count": null,
   "id": "pregnant-velvet",
   "metadata": {},
   "outputs": [],
   "source": [
    "from sympy import *\n",
    "from spb import iplot"
   ]
  },
  {
   "cell_type": "code",
   "execution_count": null,
   "id": "massive-collect",
   "metadata": {},
   "outputs": [],
   "source": [
    "print(help(iplot))"
   ]
  },
  {
   "cell_type": "markdown",
   "id": "divine-three",
   "metadata": {},
   "source": [
    "Let's start with the first example above, which is a surface plot with one parameter, the damping coefficient. Note that the first time loading a 3D-interactive plot may takes a few seconds:"
   ]
  },
  {
   "cell_type": "code",
   "execution_count": null,
   "id": "actual-setting",
   "metadata": {},
   "outputs": [],
   "source": [
    "x, y, d = symbols(\"x, y, d\")\n",
    "r = sqrt(x**2 + y**2)\n",
    "expr = 10 * cos(r) * exp(-r * d)\n",
    "\n",
    "iplot(\n",
    "    (expr, (x, -10, 10), (y, -10, 10)),\n",
    "    params = { d: (0.15, (0, 1)) },\n",
    "    fig_kw = dict(\n",
    "        title = \"My Title\",\n",
    "        xlabel = \"x axis\",\n",
    "        ylabel = \"y axis\",\n",
    "        zlabel = \"z axis\",\n",
    "        n = 100\n",
    "    ),\n",
    "    use_latex = True\n",
    ")"
   ]
  },
  {
   "cell_type": "markdown",
   "id": "induced-robert",
   "metadata": {},
   "source": [
    "* By moving the slider, the update only happens when we release the click from it. This behaviour improves user experience: it should minimize the lags while moving the sliders waiting for the previous evaluation to complete. Remember: in the background the symbolic expression is being numerically evaluated over the discretized domain.\n",
    "* `iplot` uses the default backends we set in [Tutorial 3](tutorial-3.set-default-backends.ipynb). In my case, for 3D plots its going to use K3D Jupyter.\n",
    "* `(expr, (x, -10, 10), (y, -10, 10))`: note that we must provide both ranges. They represent the discretized domain. Without them, the function doesn't know what to do.\n",
    "* `params = { d: (0.15, (0, 1)) }`: we specified the dictionary of parameters. In this case there is only one parameter:\n",
    "  * the key represents the symbol\n",
    "  * the value is a tuple of the form (default, (min, max), N [optional], label [optional]). In the above case, only the first two entries were provided. This tuple will be converted to a `param.Number`, which represent a float number and will be rendered as a slider. Alternatively, we could have used [holoviz's param library](https://panel.holoviz.org/user_guide/Param.html):\n",
    "  ```python\n",
    "  import param\n",
    "  parameters = { \n",
    "      d: param.Number(0.15, softbounds=(0, 1), label=\"\", step=0.025)\n",
    "  }\n",
    "  ```\n",
    "  We can use any parameter that, once rendered in a GUI, returns a single numeric value. For example `param.Parameter, param.Integer, param.Number, param.ObjectSelector, param.Boolean`.\n",
    "* `fig_kw` specifies the usual keyword argument to customize the plot. Note that `n = 100` sets the number of discretization points in both directions (x and y). Currently, there is no way to specify them separately.\n",
    "* `use_latex = True`: by default, the label of the slider will use the Latex code of the parameter-symbol to provide a legible experience (especially when dealing with symbols with subscripts, superscripts, ...); that's the theory. In practice though, at the time writing this tutorial it is a _hit or miss_ experience: most of the time this functionality doesn't work. If that is the case, then it is better to set `use_latex = False`, which will display the string representation of the symbols."
   ]
  },
  {
   "cell_type": "markdown",
   "id": "going-korea",
   "metadata": {},
   "source": [
    "## Example 2"
   ]
  },
  {
   "cell_type": "markdown",
   "id": "loaded-choir",
   "metadata": {},
   "source": [
    "Let's now plot three expressions having quite a lot of parameters. The only things you need to be aware of are:\n",
    "* $z$ represents the position along the channel. It is the discretized domain;\n",
    "* $r_{i}$ represents the inner radius of the channel;\n",
    "* $r_{o}$ represents the outer radius of the channel;\n",
    "* $r_{i} < r_{o}$, which is a physical condition."
   ]
  },
  {
   "cell_type": "code",
   "execution_count": null,
   "id": "eastern-scoop",
   "metadata": {},
   "outputs": [],
   "source": [
    "from assets import build_example\n",
    "ro, ri, mdot, cp, hc, alpha, k, L, z, Tin, Pave, Twi, Two, Tp, _ = build_example()\n",
    "display(Twi, Two, Tp)"
   ]
  },
  {
   "cell_type": "markdown",
   "id": "equipped-visitor",
   "metadata": {},
   "source": [
    "Note that `Twi, Two, Tp` use a different number of parameters:"
   ]
  },
  {
   "cell_type": "code",
   "execution_count": null,
   "id": "searching-helping",
   "metadata": {},
   "outputs": [],
   "source": [
    "Twi.free_symbols, Two.free_symbols, Tp.free_symbols"
   ]
  },
  {
   "cell_type": "code",
   "execution_count": null,
   "id": "colonial-consistency",
   "metadata": {},
   "outputs": [],
   "source": [
    "iplot(\n",
    "    (Twi, (z, 0, 100), \"Twi\"),\n",
    "    (Two, (z, 0, 100), \"Two\"),\n",
    "    (Tp, (z, 0, 100), \"Tp\"),\n",
    "    params = {\n",
    "        ri: (0.2, (0.04, 0.5)),\n",
    "        ro: (0.4, (0.2, 1.6)),\n",
    "        L: (100, (25, 250)),\n",
    "        Pave: (1000, (400, 4000)),\n",
    "        Tin: (300, (100, 500)),\n",
    "        hc: (1, (0.4, 15)),\n",
    "        alpha: (0.031, (0.016, 0.031)),\n",
    "        mdot: (1, (0.5, 5)),\n",
    "        k: (0.2, (0.1, 2)),\n",
    "        cp: (15, (5, 25))\n",
    "    },\n",
    "    fig_kw = dict(\n",
    "        legend = True,\n",
    "        title = \"Temperature distribution\",\n",
    "        xlabel = \"Position [cm]\",\n",
    "        ylabel = \"T [K]\",\n",
    "        ylim = (0, 3000),\n",
    "        xlim = (0, 100)\n",
    "    )\n",
    ")"
   ]
  },
  {
   "cell_type": "markdown",
   "id": "committed-madness",
   "metadata": {},
   "source": [
    "* Again, `iplot` uses the default backends we set in [Tutorial 3](tutorial-3.set-default-backends.ipynb). In my case, for 2D plots its going to use Plotly.\n",
    "* Independently of the number of parameters, `iplot` arranges the sliders in two columns.\n",
    "* Note that we set the sliders:\n",
    "  * `0.04 <= ri <= 0.5`\n",
    "  * `0.4 <= ro <= 1.6`\n",
    "  * Therefore, it is very well possible to break the physical condition $r_{i} < r_{o}$ (for example, $r_{i} = 0.5$ and $r_{o} = 0.4$), which would produce unphysical results. The selection of the bounds and the values of the sliders is critical, and we are responsible for it. Currently it is impossible to set relationships between parameters!"
   ]
  },
  {
   "cell_type": "markdown",
   "id": "technological-emphasis",
   "metadata": {},
   "source": [
    "We can also change backend. Let's suppose our default 2D backend is Plotly, but we would like to generate a plot with Bokeh. Then, we import `BokehBackend` and add the `backend` keyword argument to `fig_kw`:"
   ]
  },
  {
   "cell_type": "code",
   "execution_count": null,
   "id": "accessible-withdrawal",
   "metadata": {},
   "outputs": [],
   "source": [
    "from spb.backends.bokeh import BB\n",
    "\n",
    "iplot(\n",
    "    (Twi, (z, 0, 100), \"Twi\"),\n",
    "    (Two, (z, 0, 100), \"Two\"),\n",
    "    (Tp, (z, 0, 100), \"Tp\"),\n",
    "    params = {\n",
    "        ri: (0.2, (0.04, 0.5)),\n",
    "        ro: (0.4, (0.2, 1.6)),\n",
    "        L: (100, (25, 250)),\n",
    "        Pave: (1000, (400, 4000)),\n",
    "        Tin: (300, (100, 500)),\n",
    "        hc: (1, (0.4, 15)),\n",
    "        alpha: (0.031, (0.016, 0.031)),\n",
    "        mdot: (1, (0.5, 5)),\n",
    "        k: (0.2, (0.1, 2)),\n",
    "        cp: (15, (5, 25))\n",
    "    },\n",
    "    fig_kw = dict(\n",
    "        legend = True,\n",
    "        title = \"Temperature distribution\",\n",
    "        xlabel = \"Position [cm]\",\n",
    "        ylabel = \"T [K]\",\n",
    "        ylim = (0, 3000),\n",
    "        xlim = (0, 100),\n",
    "        backend = BB\n",
    "    )\n",
    ")"
   ]
  },
  {
   "cell_type": "markdown",
   "id": "atomic-sheet",
   "metadata": {},
   "source": [
    "## Example 3 - Using the param library\n",
    "\n",
    "In this example we are going to illustrate the use of [holoviz's param library](https://panel.holoviz.org/user_guide/Param.html).\n",
    "\n",
    "Let's say we would like to visualize the Fourier Series approximation of a [sawtooth wave](https://mathworld.wolfram.com/SawtoothWave.html), defined as:\n",
    "\n",
    "$$\n",
    "S(x) = \\operatorname{frac}{\\left(\\frac{x}{T}\\right)}\n",
    "$$\n",
    "\n",
    "where $T$ is the period. Its [Fourier Series](https://mathworld.wolfram.com/FourierSeriesSawtoothWave.html) is:\n",
    "$$\n",
    "\\frac{1}{2} - \\frac{1}{\\pi} \\sum_{n=1}^{\\infty} \\frac{1}{n} \\sin{\\left(\\frac{2 \\pi n x}{T} \\right)}\n",
    "$$"
   ]
  },
  {
   "cell_type": "code",
   "execution_count": null,
   "id": "standard-fraction",
   "metadata": {},
   "outputs": [],
   "source": [
    "x, T, n, m = symbols(\"x, T, n, m\")\n",
    "sawtooth = frac(x / T)\n",
    "# Fourier Series of a sawtooth wave\n",
    "# https://mathworld.wolfram.com/FourierSeriesSawtoothWave.html\n",
    "fs = S(1) / 2 - (1 / pi) * Sum(sin(2 * n * pi * x / T) / n, (n, 1, m))\n",
    "display(sawtooth, fs)"
   ]
  },
  {
   "cell_type": "markdown",
   "id": "adequate-ridge",
   "metadata": {},
   "source": [
    "Note that we stopped the Fourier series at $m$ rathen than $\\infty$, because $m$ represents the upper bound of the approximation.\n",
    "\n",
    "In the above expressions:\n",
    "* $T$ is a float number, therefore we can use the tuple-sintax used before.\n",
    "* $n$ is an integer number, therefore we must specify an integer parameter with `param.Integer`."
   ]
  },
  {
   "cell_type": "code",
   "execution_count": null,
   "id": "pending-grenada",
   "metadata": {},
   "outputs": [],
   "source": [
    "import param\n",
    "\n",
    "iplot(\n",
    "    (sawtooth, (x, 0, 10), \"f\"),\n",
    "    (fs, (x, 0, 10), \"approx\"),\n",
    "    params = {\n",
    "        T: (2, (0, 10)),\n",
    "        m: param.Integer(1, bounds=(1, None), label=\"Sum up to n \")\n",
    "    },\n",
    "    fig_kw = dict(\n",
    "        xlabel = \"x\",\n",
    "        ylabel = \"y\",\n",
    "        legend = True\n",
    "    )\n",
    ")"
   ]
  },
  {
   "cell_type": "code",
   "execution_count": null,
   "id": "legitimate-strike",
   "metadata": {},
   "outputs": [],
   "source": []
  }
 ],
 "metadata": {
  "kernelspec": {
   "display_name": "plotting_lambdify",
   "language": "python",
   "name": "plotting_lambdify"
  },
  "language_info": {
   "codemirror_mode": {
    "name": "ipython",
    "version": 3
   },
   "file_extension": ".py",
   "mimetype": "text/x-python",
   "name": "python",
   "nbconvert_exporter": "python",
   "pygments_lexer": "ipython3",
   "version": "3.8.5"
  },
  "toc": {
   "base_numbering": 1,
   "nav_menu": {},
   "number_sections": true,
   "sideBar": true,
   "skip_h1_title": false,
   "title_cell": "Table of Contents",
   "title_sidebar": "Contents",
   "toc_cell": false,
   "toc_position": {},
   "toc_section_display": true,
   "toc_window_display": false
  }
 },
 "nbformat": 4,
 "nbformat_minor": 5
}
