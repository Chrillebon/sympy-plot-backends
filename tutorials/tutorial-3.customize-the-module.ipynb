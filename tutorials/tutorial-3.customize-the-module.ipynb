{
 "cells": [
  {
   "cell_type": "markdown",
   "id": "billion-statement",
   "metadata": {},
   "source": [
    "# Customize the module before usage"
   ]
  },
  {
   "cell_type": "markdown",
   "id": "million-wrapping",
   "metadata": {},
   "source": [
    "Let's suppose we have identified two backends that we like (one for 2D plots, the other for 3D plots). Then, instead of providing the keyword `backend=SOMETHING` each time we need to create a plot, we can customize the module to make the plotting functions use our backends. Moreso, it is also possible to customize the appearance of the backends.\n",
    "\n",
    "Let's import the necessary tools and visualize the current settings:"
   ]
  },
  {
   "cell_type": "code",
   "execution_count": null,
   "id": "published-large",
   "metadata": {},
   "outputs": [],
   "source": [
    "from spb.defaults import cfg, set_defaults\n",
    "display(cfg)"
   ]
  },
  {
   "cell_type": "markdown",
   "id": "5a7be767",
   "metadata": {},
   "source": [
    "Here, we can see the settings associated to the 4 backends: `'plotly'`, `'bokeh'`, `'matplotlib'`, `'k3d'`. We will discuss each option later on.\n",
    "\n",
    "Let's learn how to use the `set_defaults` function:"
   ]
  },
  {
   "cell_type": "code",
   "execution_count": null,
   "id": "small-street",
   "metadata": {},
   "outputs": [],
   "source": [
    "help(set_defaults)"
   ]
  },
  {
   "cell_type": "markdown",
   "id": "capital-hungarian",
   "metadata": {},
   "source": [
    "We need to change the values in the `cfg` dictionary and then use the `set_defaults` function to apply the new configurations.\n",
    "\n",
    "Let's say we would like to:\n",
    "* use Plotly for 2D plots and Matplotlib for 3D plots;\n",
    "* use `\"seaborn\"` theme in Plotly. We can use `help(PB)` (or any other backend) to read the documentation associated to each backend, in which we will find links towards the official documentation of the plotting library, where we will find the available themes.\n",
    "\n",
    "Then:"
   ]
  },
  {
   "cell_type": "code",
   "execution_count": null,
   "id": "senior-surgery",
   "metadata": {},
   "outputs": [],
   "source": [
    "# we write the name of the plotting library\n",
    "# available options: bokeh, matplotlib, k3d, plotly\n",
    "cfg[\"backend_2D\"] = \"plotly\"\n",
    "cfg[\"backend_3D\"] = \"matplotlib\"\n",
    "# the following depends on the plotting library\n",
    "cfg[\"plotly\"][\"theme\"] = \"seaborn\"\n",
    "set_defaults(cfg)"
   ]
  },
  {
   "cell_type": "markdown",
   "id": "identical-advocate",
   "metadata": {},
   "source": [
    "Note that if we insert invalid options, the module will automatically reset to the default settings!\n",
    "\n",
    "Now, let's restart the kernel in order to make changes effective. Then, we can test test them right away."
   ]
  },
  {
   "cell_type": "code",
   "execution_count": null,
   "id": "consistent-independence",
   "metadata": {},
   "outputs": [],
   "source": [
    "from sympy import *\n",
    "from spb import *\n",
    "var(\"u, v, x, y\")\n",
    "plot(sin(x), cos(x), log(x))"
   ]
  },
  {
   "cell_type": "code",
   "execution_count": null,
   "id": "fundamental-beach",
   "metadata": {},
   "outputs": [],
   "source": [
    "n = 125\n",
    "r = 2 + sin(7 * u + 5 * v)\n",
    "expr = (\n",
    "    r * cos(u) * sin(v),\n",
    "    r * sin(u) * sin(v),\n",
    "    r * cos(v)\n",
    ")\n",
    "plot3d_parametric_surface(*expr, (u, 0, 2 * pi), (v, 0, pi), \"expr\", n=n)"
   ]
  },
  {
   "cell_type": "markdown",
   "id": "rotary-eligibility",
   "metadata": {},
   "source": [
    "Let's now discuss a few customization options:\n",
    "\n",
    "``` python\n",
    "# Set the location of the intersection between the horizontal and vertical\n",
    "# axis of Matplotlib (only works for 2D plots). Possible values:\n",
    "#       \"center\", \"auto\" or None\n",
    "# If None, use a standard Matplotlib layout with vertical axis on the left,\n",
    "# horizontal axis on the bottom.\n",
    "cfg[\"matplotlib\"][\"axis_center\"] = None\n",
    "# Turn on the grid on Matplotlib figures\n",
    "cfg[\"matplotlib\"][\"grid\"] = True\n",
    "# Show minor grids\n",
    "cfg[\"matplotlib\"][\"show_minor_grid\"] = True\n",
    "# render latex with Matplotlib\n",
    "cfg[\"matplotlib\"][\"use_latex\"] = True\n",
    "\n",
    "# Find more Plotly themes at the following page:\n",
    "# https://plotly.com/python/templates/\n",
    "cfg[\"plotly\"][\"theme\"] = \"seaborn\"\n",
    "# Turn on the grid on Plotly figures\n",
    "cfg[\"plotly\"][\"grid\"] = True\n",
    "# Do not render latex with Plotly\n",
    "cfg[\"plotly\"][\"use_latex\"] = False\n",
    "\n",
    "# Find more Bokeh themes at the following page:\n",
    "# https://docs.bokeh.org/en/latest/docs/reference/themes.html\n",
    "cfg[\"bokeh\"][\"theme\"] = \"caliber\"\n",
    "# Activate automatic update event on panning\n",
    "cfg[\"bokeh\"][\"update_event\"] = True\n",
    "# Turn on the grid on Bokeh figures\n",
    "cfg[\"bokeh\"][\"grid\"] = True\n",
    "# Show minor grids\n",
    "cfg[\"bokeh\"][\"show_minor_grid\"] = True\n",
    "# depending on the used Bokeh `themes`, we will need\n",
    "# to adjust the opacity of the minor grid lines\n",
    "cfg[\"bokeh\"][\"minor_grid_line_alpha\"] = 0.6\n",
    "# controls the spacing of the dashes in minor grid lines\n",
    "cfg[\"bokeh\"][\"minor_grid_line_dash\"] = [2, 2]\n",
    "\n",
    "\n",
    "# Turn on the grid on K3D-Jupyter figures\n",
    "cfg[\"k3d\"][\"grid\"] = True\n",
    "# K3D-Jupyter colors are represented by an integer number.\n",
    "cfg[\"k3d\"][\"bg_color\"] = 0xffffff\n",
    "cfg[\"k3d\"][\"grid_color\"] = 0xE6E6E6\n",
    "cfg[\"k3d\"][\"label_color\"] = 0x444444\n",
    "\n",
    "\n",
    "# we can set the numerical evaluation library for complex plots.\n",
    "# Available options: \"mpmath\" or None (the latter uses Numpy/Scipy)\n",
    "cfg[\"complex\"][\"modules\"] = None\n",
    "# set a default (complex) domain coloring option.\n",
    "cfg[\"complex\"][\"coloring\"] = \"b\"\n",
    "\n",
    "\n",
    "# Visualize Latex labels in the widgets of `iplot`\n",
    "cfg[\"interactive\"][\"use_latex\"] = True\n",
    "# Controls wether sliders trigger the update of `iplot`at each\n",
    "# tick (value False) or only when the mouse click is released\n",
    "# (value True)\n",
    "cfg[\"interactive\"][\"throttled\"] = False\n",
    "\n",
    "\n",
    "# Set the \"smoothness\" goal for the adaptive algorithm.\n",
    "# Lower values create smoother lines, at the cost of\n",
    "# performance.\n",
    "cfg[\"adaptive\"][\"goal\"] = 0.01\n",
    "\n",
    "\n",
    "# Set the overall plot range to be used when the plotting\n",
    "# variable is not specified.\n",
    "cfg[\"plot_range\"][\"min\"] = -10\n",
    "cfg[\"plot_range\"][\"max\"] = 10\n",
    "```"
   ]
  },
  {
   "cell_type": "markdown",
   "id": "53633655",
   "metadata": {},
   "source": [
    "Let's consider `MatplotlibBackend`. Let's suppose we would like to use the old plotting module style:"
   ]
  },
  {
   "cell_type": "code",
   "execution_count": null,
   "id": "fced5033",
   "metadata": {},
   "outputs": [],
   "source": [
    "plot(sin(x), backend=MB, axis_center=\"auto\", grid=False)"
   ]
  },
  {
   "cell_type": "markdown",
   "id": "1d62a560",
   "metadata": {},
   "source": [
    "Then, we can modify the `cfg` dictionary and execute the `set_defaults` function, finally restarting the kernel to make the changes effective."
   ]
  },
  {
   "cell_type": "markdown",
   "id": "207e5eec",
   "metadata": {},
   "source": [
    "## Resetting the configuration file\n",
    "\n",
    "Suppose we would like to go back to the original default settings. Then:"
   ]
  },
  {
   "cell_type": "code",
   "execution_count": null,
   "id": "dace7adf",
   "metadata": {},
   "outputs": [],
   "source": [
    "from spb.defaults import reset\n",
    "help(reset)"
   ]
  },
  {
   "cell_type": "code",
   "execution_count": null,
   "id": "34bf9a94",
   "metadata": {},
   "outputs": [],
   "source": [
    "reset()"
   ]
  },
  {
   "cell_type": "markdown",
   "id": "6b462371",
   "metadata": {},
   "source": [
    "Now, we restart the kernel and the plotting module is back at its original state."
   ]
  },
  {
   "cell_type": "code",
   "execution_count": null,
   "id": "de111619",
   "metadata": {},
   "outputs": [],
   "source": []
  }
 ],
 "metadata": {
  "kernelspec": {
   "display_name": "Python 3 (ipykernel)",
   "language": "python",
   "name": "python3"
  },
  "language_info": {
   "codemirror_mode": {
    "name": "ipython",
    "version": 3
   },
   "file_extension": ".py",
   "mimetype": "text/x-python",
   "name": "python",
   "nbconvert_exporter": "python",
   "pygments_lexer": "ipython3",
   "version": "3.9.7"
  },
  "toc": {
   "base_numbering": 1,
   "nav_menu": {},
   "number_sections": true,
   "sideBar": true,
   "skip_h1_title": false,
   "title_cell": "Table of Contents",
   "title_sidebar": "Contents",
   "toc_cell": false,
   "toc_position": {},
   "toc_section_display": true,
   "toc_window_display": false
  }
 },
 "nbformat": 4,
 "nbformat_minor": 5
}
