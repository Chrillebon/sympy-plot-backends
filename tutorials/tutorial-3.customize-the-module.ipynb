{
 "cells": [
  {
   "cell_type": "markdown",
   "id": "billion-statement",
   "metadata": {},
   "source": [
    "# Customize the module before install"
   ]
  },
  {
   "cell_type": "markdown",
   "id": "million-wrapping",
   "metadata": {},
   "source": [
    "Let's suppose we have identified two backends that we like (one for 2D plots, the other for 3D plots). Then, instead of passing in the keyword `backend=SOMETHING` each time we need to create a plot, we can customize the module to make the plotting functions use our backends.\n",
    "\n",
    "Let's import the necessary tools:"
   ]
  },
  {
   "cell_type": "code",
   "execution_count": null,
   "id": "published-large",
   "metadata": {},
   "outputs": [],
   "source": [
    "from spb.defaults import cfg, set_defaults\n",
    "display(cfg)"
   ]
  },
  {
   "cell_type": "code",
   "execution_count": null,
   "id": "small-street",
   "metadata": {},
   "outputs": [],
   "source": [
    "help(set_defaults)"
   ]
  },
  {
   "cell_type": "markdown",
   "id": "capital-hungarian",
   "metadata": {},
   "source": [
    "We need to change the values in the `cfg` dictionary and then use the `set_defaults` function to apply the new configurations.\n",
    "\n",
    "Let's say we would like to:\n",
    "* use Bokeh for 2D plots and Plotly for 3D plots;\n",
    "* use `\"seaborn\"` theme in Plotly.\n",
    "\n",
    "Then:"
   ]
  },
  {
   "cell_type": "code",
   "execution_count": null,
   "id": "senior-surgery",
   "metadata": {},
   "outputs": [],
   "source": [
    "# we write the name of the plotting library\n",
    "# available options: bokeh, matplotlib, mayavi, k3d, plotly\n",
    "cfg[\"backend_2D\"] = \"bokeh\"\n",
    "cfg[\"backend_3D\"] = \"plotly\"\n",
    "# the following depends on the plotting library\n",
    "cfg[\"plotly\"][\"theme\"] = \"seaborn\"\n",
    "set_defaults(cfg)"
   ]
  },
  {
   "cell_type": "markdown",
   "id": "identical-advocate",
   "metadata": {},
   "source": [
    "Now, let's restart the kernel in order to make changes effective. Then, we can test test them right away."
   ]
  },
  {
   "cell_type": "code",
   "execution_count": null,
   "id": "consistent-independence",
   "metadata": {},
   "outputs": [],
   "source": [
    "from sympy import *\n",
    "from spb import *\n",
    "var(\"u, v, x, y\")\n",
    "plot(sin(x), cos(x), log(x), legend=True)"
   ]
  },
  {
   "cell_type": "code",
   "execution_count": null,
   "id": "fundamental-beach",
   "metadata": {},
   "outputs": [],
   "source": [
    "n = 125\n",
    "r = 2 + sin(7 * u + 5 * v)\n",
    "expr = (\n",
    "    r * cos(u) * sin(v),\n",
    "    r * sin(u) * sin(v),\n",
    "    r * cos(v)\n",
    ")\n",
    "plot3d_parametric_surface((*expr, (u, 0, 2 * pi), (v, 0, pi), \"expr\"), n=n)"
   ]
  },
  {
   "cell_type": "markdown",
   "id": "rotary-eligibility",
   "metadata": {},
   "source": [
    "Let's now discuss a few customization options:\n",
    "\n",
    "``` python\n",
    "# Set the location of the intersection between the horizontal and vertical\n",
    "# axis of Matplotlib (only works for 2D plots). Possible values:\n",
    "#       \"center\", \"auto\" or None\n",
    "# If None, use a standard Matplotlib layout with vertical axis on the left,\n",
    "# horizontal axis on the bottom.\n",
    "cfg[\"matplotlib\"][\"axis_center\"] = None\n",
    "# Turn on the grid on Matplotlib plots\n",
    "cfg[\"matplotlib\"][\"grid\"] = True\n",
    "# Show minor grids\n",
    "cfg[\"matplotlib\"][\"show_minor_grid\"] = True\n",
    "\n",
    "# Find more Plotly themes at the following page:\n",
    "# https://plotly.com/python/templates/\n",
    "cfg[\"plotly\"][\"theme\"] = \"seaborn\"\n",
    "\n",
    "# Find more Bokeh themes at the following page:\n",
    "# https://docs.bokeh.org/en/latest/docs/reference/themes.html\n",
    "cfg[\"bokeh\"][\"theme\"] = \"caliber\"\n",
    "# Activate automatic update event on panning\n",
    "cfg[\"bokeh\"][\"update_event\"] = True\n",
    "\n",
    "# K3D-Jupyter colors are represented by an integer number.\n",
    "# For example, to set a white background:\n",
    "cfg[\"k3d\"][\"bg_color\"] = 0xffffff\n",
    "\n",
    "# we can set the numerical evaluation library for complex plots.\n",
    "# Available options: \"mpmath\" or None (the latter uses Numpy/Scipy)\n",
    "cfg[\"complex\"][\"modules\"] = None\n",
    "# set a default (complex) domain coloring option.\n",
    "cfg[\"complex\"][\"coloring\"] = \"b\"\n",
    "\n",
    "# Visualize Latex labels in the widgets of `iplot`\n",
    "cfg[\"interactive\"][\"use_latex\"] = True\n",
    "```"
   ]
  },
  {
   "cell_type": "markdown",
   "id": "53633655",
   "metadata": {},
   "source": [
    "Let's consider `MatplotlibBackend`. The default option is to use `axis_center=None` and `grid=True`. To set it to the old style, we can do:"
   ]
  },
  {
   "cell_type": "code",
   "execution_count": null,
   "id": "fced5033",
   "metadata": {},
   "outputs": [],
   "source": [
    "plot(sin(x), backend=MB, axis_center=\"center\", grid=False)"
   ]
  },
  {
   "cell_type": "markdown",
   "id": "1d62a560",
   "metadata": {},
   "source": [
    "Then, we can use the `cfg` dictionary and the `set_defaults` function and finally restart the kernel to make the changes effective."
   ]
  }
 ],
 "metadata": {
  "kernelspec": {
   "display_name": "Python 3 (ipykernel)",
   "language": "python",
   "name": "python3"
  },
  "language_info": {
   "codemirror_mode": {
    "name": "ipython",
    "version": 3
   },
   "file_extension": ".py",
   "mimetype": "text/x-python",
   "name": "python",
   "nbconvert_exporter": "python",
   "pygments_lexer": "ipython3",
   "version": "3.9.7"
  },
  "toc": {
   "base_numbering": 1,
   "nav_menu": {},
   "number_sections": true,
   "sideBar": true,
   "skip_h1_title": false,
   "title_cell": "Table of Contents",
   "title_sidebar": "Contents",
   "toc_cell": false,
   "toc_position": {},
   "toc_section_display": true,
   "toc_window_display": false
  }
 },
 "nbformat": 4,
 "nbformat_minor": 5
}
