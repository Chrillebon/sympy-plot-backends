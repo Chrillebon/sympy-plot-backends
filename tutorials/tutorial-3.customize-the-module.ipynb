{
 "cells": [
  {
   "cell_type": "markdown",
   "id": "billion-statement",
   "metadata": {},
   "source": [
    "# Customize the module before install"
   ]
  },
  {
   "cell_type": "markdown",
   "id": "million-wrapping",
   "metadata": {},
   "source": [
    "Let's suppose we have identified two backends that we like (one for 2D plots, the other for 3D plots). Then, instead of passing in the keyword `backend=SOMETHING` each time we need to create a plot, we can customize the module to make the plotting functions use our backends.\n",
    "\n",
    "Also, it is appropriate to customize the backends according to our liking. I'm a dark mode fan, so the backends have a default dark theme (whenever it makes sense, for example `K3DBackend` is currently in light mode). "
   ]
  },
  {
   "cell_type": "markdown",
   "id": "quantitative-colon",
   "metadata": {},
   "source": [
    "Let's import the necessary tools:"
   ]
  },
  {
   "cell_type": "code",
   "execution_count": null,
   "id": "published-large",
   "metadata": {},
   "outputs": [],
   "source": [
    "from spb.defaults import cfg, set_defaults\n",
    "display(cfg)"
   ]
  },
  {
   "cell_type": "code",
   "execution_count": null,
   "id": "small-street",
   "metadata": {},
   "outputs": [],
   "source": [
    "help(set_defaults)"
   ]
  },
  {
   "cell_type": "markdown",
   "id": "capital-hungarian",
   "metadata": {},
   "source": [
    "We need to change the values in the `cfg` dictionary and then use the `set_defaults` function to apply the new configurations.\n",
    "\n",
    "Let's say we would like to:\n",
    "* use Matplotlib for 2D plots and Plotly for 3D plots;\n",
    "* use `\"seaborn\"` theme in Plotly.\n",
    "\n",
    "Then:"
   ]
  },
  {
   "cell_type": "code",
   "execution_count": null,
   "id": "senior-surgery",
   "metadata": {},
   "outputs": [],
   "source": [
    "# we write the name of the plotting library\n",
    "# available options: bokeh, matplotlib, mayavi, k3d, plotly\n",
    "cfg[\"backend_2D\"] = \"matplotlib\"\n",
    "cfg[\"backend_3D\"] = \"plotly\"\n",
    "# the following depends on the plotting library\n",
    "cfg[\"plotly\"][\"theme\"] = \"seaborn\"\n",
    "set_defaults(cfg)"
   ]
  },
  {
   "cell_type": "markdown",
   "id": "identical-advocate",
   "metadata": {},
   "source": [
    "We can test our changes right away."
   ]
  },
  {
   "cell_type": "code",
   "execution_count": null,
   "id": "consistent-independence",
   "metadata": {},
   "outputs": [],
   "source": [
    "from sympy import *\n",
    "from spb import plot, plot3d\n",
    "var(\"u, v, x, y\")\n",
    "plot(sin(x), cos(x), log(x), legend=True)"
   ]
  },
  {
   "cell_type": "code",
   "execution_count": null,
   "id": "fundamental-beach",
   "metadata": {},
   "outputs": [],
   "source": [
    "n = 400\n",
    "r = 2 + sin(7 * u + 5 * v)\n",
    "expr = (\n",
    "    r * cos(u) * sin(v),\n",
    "    r * sin(u) * sin(v),\n",
    "    r * cos(v)\n",
    ")\n",
    "plot3d_parametric_surface(*expr, (u, 0, 2 * pi), (v, 0, pi),\n",
    "                          nb_of_points_u=n, nb_of_points_v=n)"
   ]
  },
  {
   "cell_type": "markdown",
   "id": "rotary-eligibility",
   "metadata": {},
   "source": [
    "Let's now discuss a few customization options:\n",
    "\n",
    "``` python\n",
    "# Find more Plotly themes at the following page:\n",
    "# https://plotly.com/python/templates/\n",
    "cfg[\"plotly\"][\"theme\"] = \"plotly_dark\"\n",
    "\n",
    "# Find more Bokeh themes at the following page:\n",
    "# https://docs.bokeh.org/en/latest/docs/reference/themes.html\n",
    "cfg[\"bokeh\"][\"theme\"] = \"dark_minimal\"\n",
    "\n",
    "# K3D-Jupyter colors are represented by an integer number.\n",
    "# For example, to set a white background:\n",
    "cfg[\"k3d\"][\"bg_color\"] = 0xffffff\n",
    "\n",
    "# Mayavi colors are (R, G, B) tuples with values 0 <= val <= 1:\n",
    "cfg[\"mayavi\"][\"bg_color\"] = [0.22, 0.24, 0.29]\n",
    "cfg[\"mayavi\"][\"fg_color\"] = [1, 1, 1]\n",
    "```"
   ]
  },
  {
   "cell_type": "markdown",
   "id": "6023cc7e",
   "metadata": {},
   "source": [
    "Remember: every time we change a custom option, it is recommended to restart the kernel in order to make changes effective."
   ]
  },
  {
   "cell_type": "code",
   "execution_count": null,
   "id": "a79d2d7d",
   "metadata": {},
   "outputs": [],
   "source": []
  }
 ],
 "metadata": {
  "kernelspec": {
   "display_name": "plotting_lambdify",
   "language": "python",
   "name": "plotting_lambdify"
  },
  "language_info": {
   "codemirror_mode": {
    "name": "ipython",
    "version": 3
   },
   "file_extension": ".py",
   "mimetype": "text/x-python",
   "name": "python",
   "nbconvert_exporter": "python",
   "pygments_lexer": "ipython3",
   "version": "3.8.10"
  },
  "toc": {
   "base_numbering": 1,
   "nav_menu": {},
   "number_sections": true,
   "sideBar": true,
   "skip_h1_title": false,
   "title_cell": "Table of Contents",
   "title_sidebar": "Contents",
   "toc_cell": false,
   "toc_position": {},
   "toc_section_display": true,
   "toc_window_display": false
  }
 },
 "nbformat": 4,
 "nbformat_minor": 5
}
