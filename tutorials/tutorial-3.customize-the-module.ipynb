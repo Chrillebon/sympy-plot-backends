{
 "cells": [
  {
   "cell_type": "markdown",
   "id": "billion-statement",
   "metadata": {},
   "source": [
    "# Customize the module before install"
   ]
  },
  {
   "cell_type": "markdown",
   "id": "million-wrapping",
   "metadata": {},
   "source": [
    "Let's suppose we have identified two backends that we like (one for 2D plots, the other for 3D plots). Then, instead of passing in the keyword `backend=SOMETHING` each time we need to create a plot, we can modify the `spb.defaults` module to make the plotting functions use our backends.\n",
    "\n",
    "Also, it is appropriate to customize the backends according to our liking. I'm a dark mode fan, so the backends have a default dark theme (whenever it makes sense, for example `K3DBackend` is currently in light mode). "
   ]
  },
  {
   "cell_type": "markdown",
   "id": "rotary-eligibility",
   "metadata": {},
   "source": [
    "Let's open the `defaults.py` module. To customize the appearance of the backends we can set a few default values:\n",
    "\n",
    "``` python\n",
    "# Find more Plotly themes at the following page:\n",
    "# https://plotly.com/python/templates/\n",
    "plotly_theme = \"plotly_dark\"\n",
    "\n",
    "# Find more Bokeh themes at the following page:\n",
    "# https://docs.bokeh.org/en/latest/docs/reference/themes.html\n",
    "bokeh_theme = \"dark_minimal\"\n",
    "\n",
    "# K3D background color\n",
    "k3d_bg_color = 0xFFFFFF\n",
    "\n",
    "# Mayavi background and foreground colors\n",
    "mayavi_bg_color = (0.22, 0.24, 0.29)\n",
    "mayavi_fg_color = (1, 1, 1)\n",
    "```"
   ]
  },
  {
   "cell_type": "markdown",
   "id": "satisfied-lloyd",
   "metadata": {},
   "source": [
    "At the end of the file, we can set the default backends which will be used by the plotting functions:\n",
    "```python\n",
    "from spb.backends.plotly import PlotlyBackend as TWO_D_B\n",
    "from spb.backends.k3d import K3DBackend as THREE_D_B\n",
    "```\n",
    "\n",
    "All we need to do is to import the interested backend, making sure ` as TWO_D_B` and ` as THREE_D_B` remains there!\n",
    "\n",
    "Suppose we like Bokeh and Mayavi, then we write:\n",
    "```python\n",
    "from spb.backends.bokeh import BokehBackend as TWO_D_B\n",
    "from spb.backends.mayavi import MayaviBackend as THREE_D_B\n",
    "```\n",
    "\n",
    "Suppose we like Plotly both for 2D and 3D plots:\n",
    "```python\n",
    "from spb.backends.plotly import PB as TWO_D_B\n",
    "THREE_D_B = TWO_D_B\n",
    "```"
   ]
  },
  {
   "cell_type": "markdown",
   "id": "ceramic-thought",
   "metadata": {},
   "source": [
    "After saving the file and installing the module, we can use the newly defined plotting functions:"
   ]
  },
  {
   "cell_type": "code",
   "execution_count": null,
   "id": "extra-introduction",
   "metadata": {},
   "outputs": [],
   "source": [
    "from sympy import *\n",
    "from spb import *\n",
    "var(\"u, v, x, y\")"
   ]
  },
  {
   "cell_type": "code",
   "execution_count": null,
   "id": "exempt-salad",
   "metadata": {},
   "outputs": [],
   "source": [
    "plot(sin(x), cos(x), log(x), legend=True)"
   ]
  },
  {
   "cell_type": "markdown",
   "id": "abroad-profile",
   "metadata": {},
   "source": [
    "Now, suppose we would like to change the backend:"
   ]
  },
  {
   "cell_type": "code",
   "execution_count": null,
   "id": "beneficial-montana",
   "metadata": {},
   "outputs": [],
   "source": [
    "from spb.backends.bokeh import BB\n",
    "plot(sin(x), cos(x), log(x), legend=True, backend=BB)"
   ]
  },
  {
   "cell_type": "markdown",
   "id": "latter-shade",
   "metadata": {},
   "source": [
    "Let's also try the 3D backend:"
   ]
  },
  {
   "cell_type": "code",
   "execution_count": null,
   "id": "fundamental-beach",
   "metadata": {},
   "outputs": [],
   "source": [
    "n = 400\n",
    "r = 2 + sin(7 * u + 5 * v)\n",
    "expr = (\n",
    "    r * cos(u) * sin(v),\n",
    "    r * sin(u) * sin(v),\n",
    "    r * cos(v)\n",
    ")\n",
    "plot3d_parametric_surface(*expr, (u, 0, 2 * pi), (v, 0, pi),\n",
    "                          nb_of_points_u=n, nb_of_points_v=n)"
   ]
  },
  {
   "cell_type": "code",
   "execution_count": null,
   "id": "sunset-moses",
   "metadata": {},
   "outputs": [],
   "source": []
  }
 ],
 "metadata": {
  "kernelspec": {
   "display_name": "plotting_lambdify",
   "language": "python",
   "name": "plotting_lambdify"
  },
  "language_info": {
   "codemirror_mode": {
    "name": "ipython",
    "version": 3
   },
   "file_extension": ".py",
   "mimetype": "text/x-python",
   "name": "python",
   "nbconvert_exporter": "python",
   "pygments_lexer": "ipython3",
   "version": "3.8.5"
  },
  "toc": {
   "base_numbering": 1,
   "nav_menu": {},
   "number_sections": true,
   "sideBar": true,
   "skip_h1_title": false,
   "title_cell": "Table of Contents",
   "title_sidebar": "Contents",
   "toc_cell": false,
   "toc_position": {},
   "toc_section_display": true,
   "toc_window_display": false
  }
 },
 "nbformat": 4,
 "nbformat_minor": 5
}
