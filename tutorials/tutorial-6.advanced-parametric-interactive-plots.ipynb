{
 "cells": [
  {
   "cell_type": "markdown",
   "id": "controlled-chrome",
   "metadata": {},
   "source": [
    "# Advanced Parametric-Interactive Plots\n",
    "\n",
    "There are times where `iplot` is not sufficient for our needs. Maybe we need to use specific plot commands not included in the basic backends. Maybe we needs to create more plots connected to the same parameters. Maybe we need to use more complex widgets.\n",
    "\n",
    "In such cases we will have to use [holoviz's panel](https://panel.holoviz.org/index.html). It is impossible to learn everything `panel` has to offer with a single example, therefore the Reader is encouraged to explore the project website for demos and tutorials.\n",
    "\n",
    "The following example will focus on SymPy, but the same technique can be used with any other scientific library.\n",
    "\n",
    "For the purpose of this tutorial, we are going to use Bokeh as the plotting library."
   ]
  },
  {
   "cell_type": "code",
   "execution_count": null,
   "id": "christian-nothing",
   "metadata": {},
   "outputs": [],
   "source": [
    "from sympy import *\n",
    "init_printing(use_latex=True)\n",
    "from spb import get_plot_data, plot\n",
    "from spb.backends.bokeh import BB\n",
    "import numpy as np\n",
    "import panel as pn\n",
    "pn.extension()"
   ]
  },
  {
   "cell_type": "markdown",
   "id": "blessed-shell",
   "metadata": {},
   "source": [
    "Let's suppose we have just computed a symbolic transfer function. We'd like to plot the Bode and Nyquist plots."
   ]
  },
  {
   "cell_type": "code",
   "execution_count": null,
   "id": "geological-queensland",
   "metadata": {},
   "outputs": [],
   "source": [
    "kp, t, z, o = symbols(\"k_P, tau, zeta, omega\")\n",
    "G = kp / (I**2 * t**2 * o**2 + 2 * z * t * o * I + 1)\n",
    "G"
   ]
  },
  {
   "cell_type": "markdown",
   "id": "super-estonia",
   "metadata": {},
   "source": [
    "$\\omega$ (the pulsation) is the discretization variable. The parameters are:\n",
    "* $k_{p}$: proportional gain;\n",
    "* $\\tau$: response time;\n",
    "* $\\zeta$: damping coefficient.\n",
    "\n",
    "First, we are going to define the widgets that will compose the GUI. For a list of available widgets consult [the following documentation page](https://panel.holoviz.org/user_guide/Widgets.html#types-of-widgets).\n",
    "\n",
    "In particular, we'd like three float sliders for the aforementioned parameters, and a button to switch from the Bode plot to Nyquist plot."
   ]
  },
  {
   "cell_type": "code",
   "execution_count": null,
   "id": "alpha-literacy",
   "metadata": {},
   "outputs": [],
   "source": [
    "kps = pn.widgets.FloatSlider(name=\"Gain\", start=0, end=3, value=1)\n",
    "ts = pn.widgets.FloatSlider(name=\"Response Time\", start=0, end=3, value=1)\n",
    "zs = pn.widgets.FloatSlider(name=\"Damping Coefficient\", start=0, end=1, value=0.2)\n",
    "plot_type = pn.widgets.RadioButtonGroup(\n",
    "    name=\"Plot Type\", options=[\"Bode\", \"Nyquist\"], button_type='success')\n",
    "\n",
    "fig1 = plot(xlabel=\"[rad / s]\", ylabel=\"Amplitude [dB]\", xscale=\"log\", backend=BB, show=False).fig\n",
    "fig2 = plot(xlabel=\"[rad / s]\", ylabel=\"Phase [rad]\", xscale=\"log\", backend=BB, show=False).fig\n",
    "fig3 = plot(xlabel=\"Re(G)\", ylabel=\"Im(G)\", backend=BB, show=False).fig"
   ]
  },
  {
   "cell_type": "markdown",
   "id": "guided-browse",
   "metadata": {},
   "source": [
    "Note that figures are also widgets. Because the Author is not really familiar with Bokeh, he decided to use the `plot` function to quickly initialize the figures (note the keyword argument `show=False`).\n",
    "\n",
    "Now, we need to create a function that will be called whenever we move the sliders. This function will either add or update the data on the figures."
   ]
  },
  {
   "cell_type": "code",
   "execution_count": null,
   "id": "graduate-richardson",
   "metadata": {},
   "outputs": [],
   "source": [
    "@pn.depends(kps, ts, zs, plot_type)\n",
    "def update(kpval, tval, zval, ptval):\n",
    "    x, y = get_plot_data(G, (o, -3, 2), params={\n",
    "        kp: kpval,\n",
    "        t: tval,\n",
    "        z: zval,\n",
    "    }, n=1000, xscale=\"log\")\n",
    "    \n",
    "    if ptval == \"Bode\":\n",
    "        if len(fig1.renderers) == 0:\n",
    "                fig1.line(x, 20 * np.log10(abs(y)), line_width=2)\n",
    "                fig2.line(x, np.angle(y), line_width=2)\n",
    "        else:\n",
    "            fig1.renderers[0].data_source.data.update({'y': 20 * np.log10(abs(y))})\n",
    "            fig2.renderers[0].data_source.data.update({'y': np.angle(y)})\n",
    "        return pn.Column(\n",
    "                pn.pane.Bokeh(fig1, height=250),\n",
    "                pn.pane.Bokeh(fig2, height=250))\n",
    "    else:\n",
    "        if len(fig3.renderers) == 0:\n",
    "            fig3.line(np.real(y), np.imag(y), line_width=2)\n",
    "            fig3.line(np.real(y), -np.imag(y), line_width=2)\n",
    "        else:\n",
    "            fig3.renderers[0].data_source.data.update({'y': np.imag(y)})\n",
    "            fig3.renderers[1].data_source.data.update({'y': -np.imag(y)})\n",
    "        return pn.Column(pn.pane.Bokeh(fig3, height=500))"
   ]
  },
  {
   "cell_type": "markdown",
   "id": "pregnant-moment",
   "metadata": {},
   "source": [
    "With `@pn.depends(kps, ts, zs, plot_type)` we are explicitely asking for this function to be executed whenever we move the sliders or click the buttons. Note that `update` will receive the values of the specified widgets.\n",
    "\n",
    "Next, we use `get_plot_data` to extract the numerical data from the symbolic transfer function:\n",
    "```python\n",
    "x, y = get_plot_data(G, (o, -3, 2), params={\n",
    "        kp: kpval,\n",
    "        t: tval,\n",
    "        z: zval,\n",
    "    }, n=1000, xscale=\"log\")\n",
    "```\n",
    "Note that we have passed in a dictionary of parameters, similarly to what we would do if we were using `iplot`. Since Bode plots uses a logarithm x-axis, we also specified `xscale=\"log\"` to use a logarithm spacing in the discretization points.\n",
    "\n",
    "The last thing to note is that the function returns a the objects to be updated. In our case, it will return the figures. The Bode plot is going to use 2 figures, therefore the function returns 2 vertically aligned figures. Nyquist plot will only use one figure."
   ]
  },
  {
   "cell_type": "markdown",
   "id": "blind-africa",
   "metadata": {},
   "source": [
    "Finally, we need to create the overall layout. Here, we'll use a left-column containing the sliders and button, and a right-column containing the plots:"
   ]
  },
  {
   "cell_type": "code",
   "execution_count": null,
   "id": "greenhouse-stylus",
   "metadata": {},
   "outputs": [],
   "source": [
    "pn.Row(\n",
    "    pn.Column(kps, ts, zs, plot_type),\n",
    "    update\n",
    ")"
   ]
  },
  {
   "cell_type": "code",
   "execution_count": null,
   "id": "hydraulic-buying",
   "metadata": {},
   "outputs": [],
   "source": []
  }
 ],
 "metadata": {
  "kernelspec": {
   "display_name": "plotting_lambdify",
   "language": "python",
   "name": "plotting_lambdify"
  },
  "language_info": {
   "codemirror_mode": {
    "name": "ipython",
    "version": 3
   },
   "file_extension": ".py",
   "mimetype": "text/x-python",
   "name": "python",
   "nbconvert_exporter": "python",
   "pygments_lexer": "ipython3",
   "version": "3.8.5"
  },
  "toc": {
   "base_numbering": 1,
   "nav_menu": {},
   "number_sections": true,
   "sideBar": true,
   "skip_h1_title": false,
   "title_cell": "Table of Contents",
   "title_sidebar": "Contents",
   "toc_cell": false,
   "toc_position": {},
   "toc_section_display": true,
   "toc_window_display": false
  }
 },
 "nbformat": 4,
 "nbformat_minor": 5
}
