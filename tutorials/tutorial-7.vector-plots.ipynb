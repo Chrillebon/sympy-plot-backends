{
 "cells": [
  {
   "cell_type": "markdown",
   "id": "modular-print",
   "metadata": {},
   "source": [
    "# Plotting vector fields"
   ]
  },
  {
   "cell_type": "markdown",
   "id": "blind-murray",
   "metadata": {},
   "source": [
    "In this tutorial we are going to plot 2D and 3D vector fields with the `plot_vector` function."
   ]
  },
  {
   "cell_type": "code",
   "execution_count": null,
   "id": "single-blowing",
   "metadata": {},
   "outputs": [],
   "source": [
    "from sympy import *\n",
    "init_printing(use_latex=True)\n",
    "from spb import *"
   ]
  },
  {
   "cell_type": "markdown",
   "id": "pleased-torture",
   "metadata": {},
   "source": [
    "The plotting interface is basically the same of any other plotting function. We need to specify:\n",
    "* `vector, range1, range2` if we are plotting a single vector field.\n",
    "* we can use tuples of the form `(vector1, range1, range2, label1), (vector2, range1, range2, label2), ...` to plot multiple vector fields simultaneously."
   ]
  },
  {
   "cell_type": "code",
   "execution_count": null,
   "id": "passive-essex",
   "metadata": {},
   "outputs": [],
   "source": [
    "help(plot_vector)"
   ]
  },
  {
   "cell_type": "markdown",
   "id": "sized-baptist",
   "metadata": {},
   "source": [
    "## Plotting vectors created with sympy.vector module\n",
    "\n",
    "Let's create simple vector:"
   ]
  },
  {
   "cell_type": "code",
   "execution_count": null,
   "id": "settled-occupation",
   "metadata": {},
   "outputs": [],
   "source": [
    "from sympy.vector import CoordSys3D\n",
    "N = CoordSys3D(\"N\")\n",
    "i, j, k = N.base_vectors()\n",
    "x, y, z = N.base_scalars()\n",
    "v1 = -sin(y) * i + cos(x) * j\n",
    "v1"
   ]
  },
  {
   "cell_type": "code",
   "execution_count": null,
   "id": "short-frank",
   "metadata": {},
   "outputs": [],
   "source": [
    "plot_vector(v1, (x, -5, 5), (y, -5, 5), backend=PB, xlabel=\"x\", ylabel=\"y\",\n",
    "           quiver_kw=dict(scale=0.3))"
   ]
  },
  {
   "cell_type": "markdown",
   "id": "boxed-dealer",
   "metadata": {},
   "source": [
    "Here, we used Plotly. A few things to note:\n",
    "* we need to specify the x-y-labels.\n",
    "* by default, the x and y axis will use an equal aspect ratio. We can disable it by setting the keyword argument `aspect=None`.\n",
    "* by default, a contour plot of the magnitude of the vector field is shown (more on this later).\n",
    "* solid color is used for the arrows (or quivers), whose lengths are proportional to the local magnitude value. Note that Plotly doesn't support gradient coloring for quivers.\n",
    "* We use the `quiver_kw` dictionary to control the appearance of the quivers, where we write the keyword arguments targeting the specific backend's quiver function. In this case, the quiver function is [Plotly's `create_quiver`](https://plotly.com/python/quiver-plots/). Here, we used `scale=0.3` to set a decent size for the quivers."
   ]
  },
  {
   "cell_type": "markdown",
   "id": "wound-equality",
   "metadata": {},
   "source": [
    "Let's say we are not interested in showing the contour plot representing the magnitude. We can disable it by setting the keyword argument `scalar=None`:"
   ]
  },
  {
   "cell_type": "code",
   "execution_count": null,
   "id": "narrative-exemption",
   "metadata": {},
   "outputs": [],
   "source": [
    "plot_vector(v1, (x, -5, 5), (y, -5, 5), backend=PB, xlabel=\"x\", ylabel=\"y\",\n",
    "           quiver_kw=dict(scale=0.3), scalar=None)"
   ]
  },
  {
   "cell_type": "markdown",
   "id": "consistent-continuity",
   "metadata": {},
   "source": [
    "Alternatively, we can set `scalar` to any scalar field, for example:"
   ]
  },
  {
   "cell_type": "code",
   "execution_count": null,
   "id": "automated-hopkins",
   "metadata": {},
   "outputs": [],
   "source": [
    "plot_vector(v1, (x, -5, 5), (y, -5, 5), backend=PB, xlabel=\"x\", ylabel=\"y\",\n",
    "           quiver_kw=dict(scale=0.3), scalar=x*y)"
   ]
  },
  {
   "cell_type": "markdown",
   "id": "comprehensive-delicious",
   "metadata": {},
   "source": [
    "Instead of visualizing quivers, we can plot streamlines by setting `streamlines=True`:"
   ]
  },
  {
   "cell_type": "code",
   "execution_count": null,
   "id": "warming-innocent",
   "metadata": {},
   "outputs": [],
   "source": [
    "plot_vector(v1, (x, -5, 5), (y, -5, 5), backend=PB, xlabel=\"x\", ylabel=\"y\",\n",
    "            streamlines=True, stream_kw=dict(density=2, arrow_scale=0.2))"
   ]
  },
  {
   "cell_type": "markdown",
   "id": "figured-uncle",
   "metadata": {},
   "source": [
    "A few things to note:\n",
    "* computing and visualizing streamlines is usually computationally more expensive than plotting quivers, so the function may takes longer to produce the plot.\n",
    "* We use the `stream_kw` dictionary to control the appearance of the streamlines, where we write the keyword arguments targeting the specific backend's quiver function. In this case, the quiver function is [Plotly's `create_streamline`](https://plotly.com/python/streamline-plots/). Here, we increased the density and set an appropriate arrow size."
   ]
  },
  {
   "cell_type": "markdown",
   "id": "domestic-chick",
   "metadata": {},
   "source": [
    "## Quick way to plot vectors\n",
    "\n",
    "In the previous section we used `sympy.vector` module to define vectors. However, if we are in a hurry we can avoid using that module, passing in to the function a list containing the components of the vector. For example:"
   ]
  },
  {
   "cell_type": "code",
   "execution_count": null,
   "id": "false-course",
   "metadata": {},
   "outputs": [],
   "source": [
    "x, y = symbols(\"x, y\")\n",
    "plot_vector([-sin(y), cos(x)], (x, -5, 5), (y, -5, 5), backend=BB, xlabel=\"x\", ylabel=\"y\",\n",
    "           quiver_kw=dict(scale=0.5))"
   ]
  },
  {
   "cell_type": "markdown",
   "id": "independent-samba",
   "metadata": {},
   "source": [
    "Here, we used Bokeh. A few things to note:\n",
    "* by switching backend, the user experience will be overall quite similar. Unfortunately, it is hardly possible to have one-one-one correspondance between colors and color maps.\n",
    "* Bokeh doesn't automatically support contour plots. If we zoom in, we will see that the scalar field is rendered using square \"pixels\", leading to an \"unpleasant\" result. We can \"fix\" this problem by bumping up the number of discretization points for the contour plot by setting the keyword argument `nc=250` (or some other number).\n",
    "\n",
    "Let's try to increase the number of discretization points for the contour plot and decrease the number of discretization points for the quivers:"
   ]
  },
  {
   "cell_type": "code",
   "execution_count": null,
   "id": "three-supplier",
   "metadata": {},
   "outputs": [],
   "source": [
    "plot_vector([-sin(y), cos(x)], (x, -5, 5), (y, -5, 5), backend=BB, xlabel=\"x\", ylabel=\"y\",\n",
    "           quiver_kw=dict(scale=0.5), nc=250, n=20)"
   ]
  },
  {
   "cell_type": "markdown",
   "id": "greater-currency",
   "metadata": {},
   "source": [
    "Note that by increasing `nc`, the plot is slower to render.\n",
    "\n",
    "Having discovered that Bokeh doesn't handle that well a contour plot, let's disable the scalar field:"
   ]
  },
  {
   "cell_type": "code",
   "execution_count": null,
   "id": "continuing-sewing",
   "metadata": {},
   "outputs": [],
   "source": [
    "plot_vector([-sin(y), cos(x)], (x, -5, 5), (y, -5, 5), backend=BB, xlabel=\"x\", ylabel=\"y\",\n",
    "           quiver_kw=dict(scale=0.5), scalar=None)"
   ]
  },
  {
   "cell_type": "markdown",
   "id": "marine-costa",
   "metadata": {},
   "source": [
    "By default, a color map will be applied to the quivers based on the local magnitude value. We can further customize the color of the quivers by using the `quiver_kw`:"
   ]
  },
  {
   "cell_type": "code",
   "execution_count": null,
   "id": "formal-fashion",
   "metadata": {},
   "outputs": [],
   "source": [
    "plot_vector([-sin(y), cos(x)], (x, -5, 5), (y, -5, 5), backend=BB, xlabel=\"x\", ylabel=\"y\",\n",
    "           quiver_kw=dict(scale=0.5, line_color=\"red\", line_width=2), scalar=None)"
   ]
  },
  {
   "cell_type": "markdown",
   "id": "twelve-proof",
   "metadata": {},
   "source": [
    "Finally, Bokeh also \"supports\" streamlines, albeit no arrows will be shown:"
   ]
  },
  {
   "cell_type": "code",
   "execution_count": null,
   "id": "silver-parameter",
   "metadata": {},
   "outputs": [],
   "source": [
    "plot_vector([-sin(y), cos(x)], (x, -5, 5), (y, -5, 5), backend=BB, xlabel=\"x\", ylabel=\"y\",\n",
    "           streamlines=True)"
   ]
  },
  {
   "cell_type": "markdown",
   "id": "continent-notification",
   "metadata": {},
   "source": [
    "## 3D Vector Fields\n",
    "\n",
    "As always, Bokeh doesn't support 3D plots, so we are left with Matplotlib, Plotly and K3D. The principle of operation is the same as 2D vector fields."
   ]
  },
  {
   "cell_type": "code",
   "execution_count": null,
   "id": "confidential-transformation",
   "metadata": {},
   "outputs": [],
   "source": [
    "x, y, z = symbols(\"x:z\")\n",
    "plot_vector(Matrix([z, y, x]), (x, -5, 5), (y, -5, 5), (z, -5, 5), n=7,\n",
    "           quiver_kw=dict(sizeref=10), backend=PB, xlabel=\"x\", ylabel=\"y\", zlabel=\"z\")"
   ]
  },
  {
   "cell_type": "markdown",
   "id": "progressive-coating",
   "metadata": {},
   "source": [
    "A few things to note:\n",
    "* we used a matrix, `Matrix([z, y, x])`, to represent a vector. When dealing with 3D vectors, some components may be numbers: in that case the internal algorithm might get confused, thinking of the vector as a range. In order to avoid this ambiguity, we wrap the 3D vector into a matrix of three elements and away we go.\n",
    "* plotting 3D vector fields is computationally more expensive, hence we reduced the number of discretization points to `n=7` in each direction.\n",
    "* 3D quivers are colored by the local value of the magnitude of the vector field.\n",
    "* With the usual `quiver_kw` dictionary, we can provide backend-specific keyword arguments to control the appearance of the quivers. Here, we choose an appropriate size. Refer to [Plotly's Cone function](https://plotly.com/python/cone-plot/) for more information.\n",
    "\n",
    "It is usually difficult to understand a 3D vector field by using quivers. We have two options then:\n",
    "\n",
    "1. Create a slice plane over which the vector field is going to be plotted. We can use an object of type `Plane` or any function of two variables.\n",
    "2. Switch to streamlines.\n",
    "\n",
    "Let's first try a slicing plane:"
   ]
  },
  {
   "cell_type": "code",
   "execution_count": null,
   "id": "10247886",
   "metadata": {},
   "outputs": [],
   "source": [
    "p = plot_vector(\n",
    "    Matrix([z, y, x]), (x, -5, 5), (y, -5, 5), (z, -5, 5),\n",
    "    slice=Plane((0, 0, 0), (1, 1, 1)),\n",
    "    n=12, quiver_kw=dict(anchor=\"tail\", sizemode=\"scaled\", sizeref=0.2), backend=PB,\n",
    "    xlabel=\"x\", ylabel=\"y\", zlabel=\"z\")"
   ]
  },
  {
   "cell_type": "markdown",
   "id": "7847544b",
   "metadata": {},
   "source": [
    "A few things to note there:\n",
    "\n",
    "* The plane lies inside the vector field's discretization volume.\n",
    "* The fact all quivers lies in the plane is a result of this particular choice of plane. Generally, quivers can be directed inward/outward of the plane. Try to change the plane parameters to visualize the differences.\n",
    "\n",
    "We can also set the ``slice`` keyword argument to a function of two variables (an expression). The variables must be part of the vector field's discretization volume. For example:"
   ]
  },
  {
   "cell_type": "code",
   "execution_count": null,
   "id": "599c6379",
   "metadata": {},
   "outputs": [],
   "source": [
    "expr = cos(sqrt(x**2 + y**2))\n",
    "# let's visualize the slicing expression\n",
    "p1 = plot3d(\n",
    "    expr, (x, -5, 5), (y, -5, 5), backend=PB,\n",
    "    surface_kw={ # draw wire frame\n",
    "        \"opacity\": 0.4,\n",
    "        \"contours.x.show\":True,\n",
    "        \"contours.x.color\":\"#a9aeea\",\n",
    "        \"contours.x.width\":1,\n",
    "        \"contours.x.start\":-10,\n",
    "        \"contours.x.end\":10,\n",
    "        \"contours.x.size\":0.5,\n",
    "        \"contours.y.show\":True,\n",
    "        \"contours.y.color\":\"#a9aeea\",\n",
    "        \"contours.y.width\":1,\n",
    "        \"contours.y.start\":-10,\n",
    "        \"contours.y.end\":10,\n",
    "        \"contours.y.size\":0.5,\n",
    "    }, show=False, use_cm=False)\n",
    "p2 = plot_vector(\n",
    "    Matrix([z, y, x]), (x, -5, 5), (y, -5, 5), (z, -5, 5),\n",
    "    slice=expr,\n",
    "    n=12, quiver_kw=dict(anchor=\"tail\", sizemode=\"scaled\", sizeref=2), backend=PB,\n",
    "    xlabel=\"x\", ylabel=\"y\", zlabel=\"z\", show=False, aspect=\"data\")\n",
    "p3 = (p2 + p1) # NOTE: p2 first because I want p3 to have the layout of p2\n",
    "# Backend is stupid: it adds a colorbar to the slicing surface too.\n",
    "# Let's hide it\n",
    "p3.fig.data[1].showscale=False\n",
    "p3.fig"
   ]
  },
  {
   "cell_type": "markdown",
   "id": "d375fac0",
   "metadata": {},
   "source": [
    "Let's now plot streamlines:"
   ]
  },
  {
   "cell_type": "code",
   "execution_count": null,
   "id": "italic-bailey",
   "metadata": {},
   "outputs": [],
   "source": [
    "plot_vector(Matrix([z, y, x]), (x, -5, 5), (y, -5, 5), (z, -5, 5), n=10,\n",
    "           streamlines=True, backend=PB, xlabel=\"x\", ylabel=\"y\", zlabel=\"z\")"
   ]
  },
  {
   "cell_type": "markdown",
   "id": "homeless-updating",
   "metadata": {},
   "source": [
    "In order to generate streamlines, the internal algorithm automatically computed optimal starting points (seeds) at the boundaries of the domain, where the vectors are pointing inward toward the domain. This tends to produce regularly spaced streamlines. We will see later how to change the seeds.\n",
    "\n",
    "Usually, the tricky part is chosing the size of the streamlines. This is an iterative process. Note that the streamlines are coloured according to the local magnitude value.\n",
    "\n",
    "Keep in mind that Plotly uses a different technology to compute streamlines than Matplotlib and K3D-Jupyter. Therefore, it may become slower and slower as we increase the number of discretization points. "
   ]
  },
  {
   "cell_type": "markdown",
   "id": "annoying-spell",
   "metadata": {},
   "source": [
    "Now, let's change a little bit the vector for illustrative purposes:"
   ]
  },
  {
   "cell_type": "code",
   "execution_count": null,
   "id": "angry-placement",
   "metadata": {},
   "outputs": [],
   "source": [
    "p1 = plot_vector(Matrix([y, z, x]), (x, -5, 5), (y, -5, 5), (z, -5, 5), n=5, \n",
    "           backend=PB, xlabel=\"x\", ylabel=\"y\", zlabel=\"z\", show=False,\n",
    "                quiver_kw=dict(sizeref=10))\n",
    "\n",
    "p2 = plot_vector(Matrix([y, z, x]), (x, -5, 5), (y, -5, 5), (z, -5, 5), n=10,\n",
    "           streamlines=True, backend=PB, xlabel=\"x\", ylabel=\"y\", zlabel=\"z\", show=False)\n",
    "p1.extend(p2)\n",
    "p1.show()"
   ]
  },
  {
   "cell_type": "markdown",
   "id": "chronic-auckland",
   "metadata": {},
   "source": [
    "Now, just for fun, let’s visualize the original vector field with K3D:"
   ]
  },
  {
   "cell_type": "code",
   "execution_count": null,
   "id": "c215f08e",
   "metadata": {},
   "outputs": [],
   "source": [
    "x, y, z = symbols(\"x:z\")\n",
    "plot_vector(Matrix([z, y, x]), (x, -5, 5), (y, -5, 5), (z, -5, 5),\n",
    "    n=10, quiver_kw=dict(scale=0.2, line_width=0.05, head_size=2.5), backend=KB,\n",
    "    xlabel=\"x\", ylabel=\"y\", zlabel=\"z\")"
   ]
  },
  {
   "cell_type": "markdown",
   "id": "spread-employer",
   "metadata": {},
   "source": [
    "Note that we used different keyword argument to customize the size of the quivers.\n",
    "\n",
    "Let's now try to plot streamlines with K3DBackend. We can set the keyword argument `starts` in the `stream_kw` dictionary to one of the following values:\n",
    "* `starts=None` (or do not provide it at all): this is the default value, with which the algorithm will automatically chose the seeds points on the surfaces of the discretized volume based on the direction of the vectors.\n",
    "* `starts={\"x\": x_list, \"y\": y_list, \"z\": z_list}`: a dictionary containing lists of coordinates of the seeds is passed in.\n",
    "* `starts=True`: the algorithm will randomly chose the seeds points inside the discretized volume. In this case we can also specify the number of points to be generated by setting `npoints`: usually, the number of computed streamlines will be much lower than `npoints`."
   ]
  },
  {
   "cell_type": "markdown",
   "id": "307554e1",
   "metadata": {},
   "source": [
    "Let's use the [Arnold–Beltrami–Childress flow](https://en.wikipedia.org/wiki/Arnold%E2%80%93Beltrami%E2%80%93Childress_flow) (velocity field) to explore the different seeds options.\n",
    "\n",
    "First, the default one:"
   ]
  },
  {
   "cell_type": "code",
   "execution_count": null,
   "id": "6a23361f",
   "metadata": {},
   "outputs": [],
   "source": [
    "plot_vector(\n",
    "    Matrix([\n",
    "        sin(z) + sqrt(S(1) / 3) * cos(y),\n",
    "        sqrt(S(2) / 3) * sin(x) + cos(z),\n",
    "        sqrt(S(1) / 3) * sin(y) + sqrt(S(2) / 3) * cos(y)\n",
    "    ]), (x, -5, 5), (y, -5, 5), (z, -5, 5),\n",
    "    backend=KB, streamlines=True, n=15,\n",
    "    xlabel=\"x\", ylabel=\"y\", zlabel=\"z\"\n",
    ")"
   ]
  },
  {
   "cell_type": "markdown",
   "id": "cc7d3b34",
   "metadata": {},
   "source": [
    "Now, let's try a random seeds:"
   ]
  },
  {
   "cell_type": "code",
   "execution_count": null,
   "id": "400a7f05",
   "metadata": {},
   "outputs": [],
   "source": [
    "plot_vector(\n",
    "    Matrix([\n",
    "        sin(z) + sqrt(S(1) / 3) * cos(y),\n",
    "        sqrt(S(2) / 3) * sin(x) + cos(z),\n",
    "        sqrt(S(1) / 3) * sin(y) + sqrt(S(2) / 3) * cos(y)\n",
    "    ]), (x, -5, 5), (y, -5, 5), (z, -5, 5),\n",
    "    backend=KB, streamlines=True, n=15,\n",
    "    stream_kw={\n",
    "        \"starts\": True,\n",
    "        \"npoints\": 500\n",
    "    },\n",
    "    xlabel=\"x\", ylabel=\"y\", zlabel=\"z\"\n",
    ")"
   ]
  },
  {
   "cell_type": "markdown",
   "id": "5068810f",
   "metadata": {},
   "source": [
    "Note how the streamlines are randomly distributed in the volume. The user might want to increase `n`, the number of discretization points, in order to get smoother streamlines.\n",
    "\n",
    "Finally, let's generate the streamlines from a plane parallel to the xy plane. First, we create the plane:"
   ]
  },
  {
   "cell_type": "code",
   "execution_count": null,
   "id": "b91e4408",
   "metadata": {},
   "outputs": [],
   "source": [
    "# ranges represent the volume in which streamlines will be contained\n",
    "ranges = [(x, -5, 5), (y, -5, 5), (z, -5, 5)]\n",
    "# the finer the discretization of the plane, the more streamlines\n",
    "# will be generated\n",
    "n = 10\n",
    "p = plot_geometry(Plane((0, 0, 0), (0, 0, 1)), *ranges, n1=n, n2=n)"
   ]
  },
  {
   "cell_type": "code",
   "execution_count": null,
   "id": "bab3370a",
   "metadata": {},
   "outputs": [],
   "source": [
    "# extract the numerical data associated to the plane\n",
    "xx, yy, zz = p[0].get_data()\n",
    "plot_vector(\n",
    "    Matrix([\n",
    "        sin(z) + sqrt(S(1) / 3) * cos(y),\n",
    "        sqrt(S(2) / 3) * sin(x) + cos(z),\n",
    "        sqrt(S(1) / 3) * sin(y) + sqrt(S(2) / 3) * cos(y)\n",
    "    ]), *ranges,\n",
    "    backend=KB, streamlines=True, n=25,\n",
    "    stream_kw={\n",
    "        \"starts\": {\n",
    "            \"x\": xx,\n",
    "            \"y\": yy,\n",
    "            \"z\": zz,\n",
    "        },\n",
    "        # NOTE: this is targeting K3D line object!\n",
    "        \"width\": 0.05\n",
    "    },\n",
    "    xlabel=\"x\", ylabel=\"y\", zlabel=\"z\"\n",
    ")"
   ]
  },
  {
   "cell_type": "markdown",
   "id": "ebcfe9b7",
   "metadata": {},
   "source": [
    "Note how the streamlines are packed around the provided plane."
   ]
  },
  {
   "cell_type": "markdown",
   "id": "c4664fcd",
   "metadata": {},
   "source": [
    "## Interactive-Parametric Vector Plots\n",
    "\n",
    "We can also use `iplot` to play with parametric vector fields, all we have to remember is to set `is_vector = True`:"
   ]
  },
  {
   "cell_type": "code",
   "execution_count": null,
   "id": "8f31edf4",
   "metadata": {},
   "outputs": [],
   "source": [
    "from spb.interactive import iplot\n",
    "a, b, x, y, z = symbols(\"a, b, x:z\")\n",
    "\n",
    "iplot(\n",
    "    ([-a * sin(y), b * cos(x)], (x, -5, 5), (y, -3, 3)),\n",
    "    params = {\n",
    "        a: (1, 0, 2),\n",
    "        b: (1, 0, 2),\n",
    "    },\n",
    "    xlabel = \"x\",\n",
    "    ylabel = \"y\",\n",
    "    backend = PB,\n",
    "    n = 10,\n",
    "    quiver_kw = dict(\n",
    "        scale = 0.4\n",
    "    ),\n",
    "    is_vector = True\n",
    ")"
   ]
  },
  {
   "cell_type": "markdown",
   "id": "3d410b6e",
   "metadata": {},
   "source": [
    "In contrast to `plot_vector`, with the `iplot` function:\n",
    "* We need to specify the number of discretization point, `n=10`. Alternatively, we can set `n1, n2, n3` to specify the number of discretization points in the three directions. **Remembert to set `n` to a sufficiently low number**. Since `n` will be used on every direction, the internal algorithm will create 4 `n x n` matrices for 2D vector fields, and 6 `n x n x n` matrices for 3D vector fields, hence a lot more memory will be used as we increase `n`!!!\n",
    "* A few other keyword arguments have been set to customize the appearance.\n",
    "\n",
    "Let's try plotting streamlines with `BokehBackend`. Remember: streamlines are always more computationally expensive to compute, so expect a delay of a few seconds from when you interact with the slider to the moment you will see the updated plot:"
   ]
  },
  {
   "cell_type": "code",
   "execution_count": null,
   "id": "4ad5eb30",
   "metadata": {},
   "outputs": [],
   "source": [
    "iplot(\n",
    "    ([-a * sin(y), b * cos(x)], (x, -5, 5), (y, -3, 3)),\n",
    "    params = {\n",
    "        a: (1, 0, 2),\n",
    "        b: (1, 0, 2),\n",
    "    },\n",
    "    xlabel = \"x\",\n",
    "    ylabel = \"y\",\n",
    "    backend = BB,\n",
    "    n = 20,\n",
    "    streamlines = True,\n",
    "    stream_kw = dict(\n",
    "        line_color = \"red\"\n",
    "    )\n",
    ")"
   ]
  },
  {
   "cell_type": "markdown",
   "id": "7251763c",
   "metadata": {},
   "source": [
    "Let's now try to plot 3D vector fields. We are going to use Plotly and K3D:"
   ]
  },
  {
   "cell_type": "code",
   "execution_count": null,
   "id": "654f2ad9",
   "metadata": {},
   "outputs": [],
   "source": [
    "iplot(\n",
    "    ([a * z, b * y, x], (x, -5, 5), (y, -3, 3), (z, -4, 4)),\n",
    "    params = {\n",
    "        a: (1, 0, 2),\n",
    "        b: (1, 0, 2),\n",
    "    },\n",
    "    xlabel = \"x\",\n",
    "    ylabel = \"y\",\n",
    "    zlabel = \"z\",\n",
    "    backend = PB,\n",
    "    n = 8,\n",
    "    quiver_kw = dict(\n",
    "        sizeref = 4\n",
    "    )\n",
    ")"
   ]
  },
  {
   "cell_type": "code",
   "execution_count": null,
   "id": "6fc1a520",
   "metadata": {},
   "outputs": [],
   "source": [
    "iplot(\n",
    "    ([a * z, b * y, x], (x, -5, 5), (y, -3, 3), (z, -4, 4)),\n",
    "    params = {\n",
    "        a: (1, 0, 2),\n",
    "        b: (1, 0, 2),\n",
    "    },\n",
    "    xlabel = \"x\",\n",
    "    ylabel = \"y\",\n",
    "    zlabel = \"z\",\n",
    "    backend = KB,\n",
    "    n = 8,\n",
    "    quiver_kw = dict(\n",
    "        scale = 0.25\n",
    "    )\n",
    ")"
   ]
  },
  {
   "cell_type": "markdown",
   "id": "69f15a0a",
   "metadata": {},
   "source": [
    "At the time of writing this tutorial, Plotly and K3D do not support `iplot` for streamlines:"
   ]
  },
  {
   "cell_type": "code",
   "execution_count": null,
   "id": "a3718559",
   "metadata": {},
   "outputs": [],
   "source": [
    "iplot(\n",
    "    ([a * z, b * y, x], (x, -5, 5), (y, -3, 3), (z, -4, 4)),\n",
    "    params = {\n",
    "        a: (1, 0, 2),\n",
    "        b: (1, 0, 2),\n",
    "    },\n",
    "    xlabel = \"x\",\n",
    "    ylabel = \"y\",\n",
    "    zlabel = \"z\",\n",
    "    backend = KB,\n",
    "    n = 8,\n",
    "    streamlines = True\n",
    ")"
   ]
  },
  {
   "cell_type": "markdown",
   "id": "14ce1b18",
   "metadata": {},
   "source": [
    "### Visualizing the unit normal vector to a surface\n",
    "\n",
    "In the following example we are going to compute and plot the unit normal vectors to the surface of a parametric cone, whose parametrization is:\n",
    "\n",
    "$$\n",
    "\\begin{aligned}\n",
    "x &= \\frac{u}{\\tan{\\theta}} \\\\\n",
    "y &= u \\cos{v} \\\\\n",
    "z &= u \\sin{v}\n",
    "\\end{aligned}\n",
    "$$\n",
    "\n",
    "where $\\theta$ is the half-cone angle, $u \\in [0, 1]$ is the radius and $v \\in [0, 2 \\pi]$ is the circumferential angle. Let $\\theta$ be the parameter of our plots.\n",
    "\n",
    "In a cartesian coordinate system, the surface's equation is:\n",
    "\n",
    "$$\n",
    "f(x, y, z) = -x^{2} \\tan^{2}{\\theta} + y^{2} + z^{2}\n",
    "$$\n",
    "\n",
    "The unit normal vector can be expressed as:\n",
    "\n",
    "$$\n",
    "\\hat{n} = \\frac{\\nabla f}{\\lvert \\nabla f \\rvert}\n",
    "$$\n",
    "\n",
    "where $\\nabla f$ is the gradient of $f$.\n",
    "\n",
    "Let's start by visualizing the surface of parametric cone:"
   ]
  },
  {
   "cell_type": "code",
   "execution_count": null,
   "id": "e0d71b8f",
   "metadata": {},
   "outputs": [],
   "source": [
    "t, u, v, x, y, z = symbols(\"theta, u, v, x, y, z\")\n",
    "p1 = iplot(\n",
    "    (u / tan(t), u * cos(v), u * sin(v), (u, 0, 1), (v, 0 , 2*pi)),\n",
    "    params={\n",
    "        t: (0.5, 0, pi/2)\n",
    "    },\n",
    "    backend=KB,\n",
    "    threed=True,     # request a 3D plot\n",
    "    n1=10, n2=20,    # set a relatively low number of discretization points\n",
    "    use_cm=False,    # use solid color for the surface of the cone\n",
    "    use_latex=False, # don't show latex on the sliders\n",
    "    show=False       # allow to capture the output of iplot into a variable\n",
    ")\n",
    "p1.show()"
   ]
  },
  {
   "cell_type": "markdown",
   "id": "104f055c",
   "metadata": {},
   "source": [
    "Now, let's compute and visualize the unit normal vector:"
   ]
  },
  {
   "cell_type": "code",
   "execution_count": null,
   "id": "37a06b5c",
   "metadata": {},
   "outputs": [],
   "source": [
    "from sympy.vector import CoordSys3D, gradient\n",
    "N = CoordSys3D(\"N\")\n",
    "i, j, k = N.base_vectors()\n",
    "xn, yn, zn = N.base_scalars()\n",
    "\n",
    "expr = -xn**2 * tan(t)**2 + yn**2 + zn**2\n",
    "g = gradient(expr)\n",
    "m = g.magnitude()\n",
    "# unit normal vector\n",
    "n = g / m\n",
    "\n",
    "p2 = iplot(\n",
    "    (n, (xn, -5, 5), (yn, -5, 5), (zn, -5, 5)),\n",
    "    params={\n",
    "        t: (0.5, 0, pi/2)\n",
    "    },\n",
    "    slice=p1.backend[0],\n",
    "    quiver_kw={\"pivot\": \"tail\", \"scale\": 0.5},\n",
    "    backend=KB,\n",
    "    use_cm=False,    # use solid color for the quivers\n",
    "    use_latex=False, # don't show latex on the sliders\n",
    "    show=False       # allow to capture the output of iplot into a variable\n",
    ")\n",
    "p2.show()"
   ]
  },
  {
   "cell_type": "markdown",
   "id": "b82ebb9c",
   "metadata": {},
   "source": [
    "Finally, let's combine the two interactive plots:"
   ]
  },
  {
   "cell_type": "code",
   "execution_count": null,
   "id": "eb58a98b",
   "metadata": {},
   "outputs": [],
   "source": [
    "(p1 + p2).show()"
   ]
  },
  {
   "cell_type": "code",
   "execution_count": null,
   "id": "66d71735",
   "metadata": {},
   "outputs": [],
   "source": []
  }
 ],
 "metadata": {
  "kernelspec": {
   "display_name": "Python 3 (ipykernel)",
   "language": "python",
   "name": "python3"
  },
  "language_info": {
   "codemirror_mode": {
    "name": "ipython",
    "version": 3
   },
   "file_extension": ".py",
   "mimetype": "text/x-python",
   "name": "python",
   "nbconvert_exporter": "python",
   "pygments_lexer": "ipython3",
   "version": "3.9.7"
  },
  "toc": {
   "base_numbering": 1,
   "nav_menu": {},
   "number_sections": true,
   "sideBar": true,
   "skip_h1_title": false,
   "title_cell": "Table of Contents",
   "title_sidebar": "Contents",
   "toc_cell": false,
   "toc_position": {},
   "toc_section_display": true,
   "toc_window_display": false
  }
 },
 "nbformat": 4,
 "nbformat_minor": 5
}
