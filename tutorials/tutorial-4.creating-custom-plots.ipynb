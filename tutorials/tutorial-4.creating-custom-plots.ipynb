{
 "cells": [
  {
   "cell_type": "markdown",
   "id": "automotive-rabbit",
   "metadata": {},
   "source": [
    "# Creating custom plots"
   ]
  },
  {
   "cell_type": "markdown",
   "id": "technological-spine",
   "metadata": {},
   "source": [
    "Sometimes, the functions exposed by Sympy's plotting module are not enough to accomplish our visualization objectives. If that's the case, we can either:\n",
    "1. `lambdify` the symbolic expressions and evaluate it numerically. However, this process is manually intensive.\n",
    "2. If the expressions can be plotted by the common plotting functions (`plot`, `plot3d`, `plot_parametric`, ...), then we can use the `get_plot_data` function, which automate the _lambdifying_ process. This function accepts the same arguments of the aforementioned plotting functions, therefore it is really easy to get the numerical data we are interested in.\n",
    "\n",
    "Once we have the numerical data, we can use our preferred plotting library. If we are lucky enough, we can also:\n",
    "1. use one of the plotting functions as a starting point;\n",
    "2. extract the numerical data with the `get_plot_data` function;\n",
    "3. extract the plot object associated to the plotting library;\n",
    "4. use the appropriate command of the plotting library to add new data to the plot.\n",
    "\n",
    "Let's see a few examples."
   ]
  },
  {
   "cell_type": "markdown",
   "id": "35d8fc5b",
   "metadata": {},
   "source": [
    "## Example 1 - Editing and Adding Data\n",
    "\n",
    "The current backends are able to plot lines, gradient lines, contours, quivers, streamlines. However, they are not able to plot things like _curve fills_, bars, ...\n",
    "\n",
    "In this example we are going to illustrate a procedure that can be used to further customize the plot. Note that the procedure depends on the backend we are going to use, because we are going to use backend-specific commands. In the following, we are going to use ``PlotlyBackend``. For other backends, the procedure might need to be adjusted."
   ]
  },
  {
   "cell_type": "code",
   "execution_count": null,
   "id": "6e9124d9",
   "metadata": {},
   "outputs": [],
   "source": [
    "from sympy import *\n",
    "from spb import *\n",
    "from spb.backends.matplotlib import MB\n",
    "from spb.backends.plotly import PB"
   ]
  },
  {
   "cell_type": "markdown",
   "id": "c5789d71",
   "metadata": {},
   "source": [
    "Let's say we would like to plot on the same figure:\n",
    "* a normal distribution filled to the horizontal axis.\n",
    "* a dampened oscillation.\n",
    "* bars following an exponential decay at integer locations."
   ]
  },
  {
   "cell_type": "code",
   "execution_count": null,
   "id": "38c8608a",
   "metadata": {},
   "outputs": [],
   "source": [
    "x, mu, sigma = symbols(\"x, mu, sigma\")\n",
    "expr1 = 1 / (sigma * sqrt(2 * pi)) * exp(-((x - mu) / sigma)**2 / 2)\n",
    "expr2 = cos(x) * exp(-x / 6)\n",
    "expr3 = exp(-x / 5)\n",
    "display(expr1, expr2, expr3)"
   ]
  },
  {
   "cell_type": "markdown",
   "id": "1c400315",
   "metadata": {},
   "source": [
    "We start by plotting the first two expressions, as the third one requires a different approach:"
   ]
  },
  {
   "cell_type": "code",
   "execution_count": null,
   "id": "1dfdd934",
   "metadata": {},
   "outputs": [],
   "source": [
    "p = plot(\n",
    "    (expr1.subs({sigma: 0.8, mu: 5}), \"normal\"), \n",
    "    (expr2, \"oscillation\"),\n",
    "    (x, 0, 10), backend=PB)"
   ]
  },
  {
   "cell_type": "markdown",
   "id": "293a81ce",
   "metadata": {},
   "source": [
    "Now, we'd like to fill the first curve. First, we extract the figure object; then we set the necessary attribute to get the job done:"
   ]
  },
  {
   "cell_type": "code",
   "execution_count": null,
   "id": "ee8d9d49",
   "metadata": {},
   "outputs": [],
   "source": [
    "f = p.fig\n",
    "f.data[0][\"fill\"]=\"tozerox\"\n",
    "f"
   ]
  },
  {
   "cell_type": "markdown",
   "id": "2acc249b",
   "metadata": {},
   "source": [
    "At this point we have to convert ``expr3`` to numerical data. We can do it with ``get_plot_data``, which requires the same arguments as the ``plot`` function, namely ``(expr, range, label [optional], **kwargs)``:"
   ]
  },
  {
   "cell_type": "code",
   "execution_count": null,
   "id": "a73b9fee",
   "metadata": {},
   "outputs": [],
   "source": [
    "xx, yy = get_plot_data(exp(-x / 5), (x, 0, 10), only_integers=True)\n",
    "print(xx)\n",
    "print(yy)"
   ]
  },
  {
   "cell_type": "markdown",
   "id": "4bfb62e2",
   "metadata": {},
   "source": [
    "Now that we have generated the numerical values at integer locations, we can add the bars with the appropriate command:"
   ]
  },
  {
   "cell_type": "code",
   "execution_count": null,
   "id": "f5640e71",
   "metadata": {},
   "outputs": [],
   "source": [
    "import plotly.graph_objects as go\n",
    "import numpy as np\n",
    "\n",
    "f.add_trace(go.Bar(x=xx, y=yy, width=np.ones_like(xx) / 2, name=\"bars\"))\n",
    "f"
   ]
  },
  {
   "cell_type": "markdown",
   "id": "54d83fdb",
   "metadata": {},
   "source": [
    "That's it, job done."
   ]
  },
  {
   "cell_type": "markdown",
   "id": "b609f0fe",
   "metadata": {},
   "source": [
    "## Example 2\n",
    "\n",
    "The backends are unable to mix 2D and 3D data series. But what if we would like to plot a contour into a 3D plot?\n",
    "\n",
    "Let's say we'd like to explore the following vector field, $\\vec{F}(x, y, z) = (\\cos{(z)}, y, x)$, in the rectangular volume limited by $-5 \\le x \\le 5, \\, -5 \\le y \\le 5, \\, -5 \\le z \\le 5$. We are going to plot the contours of the magnitude of the vector field over 3 orthogonal planes, as well as quivers over a plane normal to the y-direction."
   ]
  },
  {
   "cell_type": "code",
   "execution_count": null,
   "id": "5796971e",
   "metadata": {},
   "outputs": [],
   "source": [
    "x, y, z = symbols(\"x:z\")\n",
    "v = Matrix([cos(z), y, x])\n",
    "\n",
    "# magnitudes of the vector field over 3 orthogonal planes\n",
    "mag_func = lambda vec: sqrt(sum(t**2 for t in vec))\n",
    "mag = mag_func(v)\n",
    "m1 = mag.subs(x, 5)\n",
    "m2 = mag.subs(y, 5)\n",
    "m3 = mag.subs(z, 5)\n",
    "display(mag, m1, m2, m3)"
   ]
  },
  {
   "cell_type": "markdown",
   "id": "fce1d664",
   "metadata": {},
   "source": [
    "Let's extract the data of the magnitudes:"
   ]
  },
  {
   "cell_type": "code",
   "execution_count": null,
   "id": "55a5bb5c",
   "metadata": {},
   "outputs": [],
   "source": [
    "# ranges\n",
    "rx = (x, -5, 5)\n",
    "ry = (y, -5, 5)\n",
    "rz = (z, -5, 5)\n",
    "# contour data: similarly to plot3d/plot_contour the parameters \n",
    "# to get_plot_data follows (expr, range_x, range_y)\n",
    "xx1, yy1, zz1 = get_plot_data(m1, ry, rz)\n",
    "xx2, yy2, zz2 = get_plot_data(m2, rx, rz)\n",
    "xx3, yy3, zz3 = get_plot_data(m3, rx, ry)"
   ]
  },
  {
   "cell_type": "markdown",
   "id": "baff57f2",
   "metadata": {},
   "source": [
    "Now, let's extract the data of the sliced-vector field:"
   ]
  },
  {
   "cell_type": "code",
   "execution_count": null,
   "id": "d1a77c80",
   "metadata": {},
   "outputs": [],
   "source": [
    "xq1, yq1, zq1, uu, vv, ww = get_plot_data(v, rx, ry, rz, slice=Plane((0, 0, 0), (0, 1, 0)))"
   ]
  },
  {
   "cell_type": "markdown",
   "id": "2f7d2b78",
   "metadata": {},
   "source": [
    "Finally, we create the custom plot:"
   ]
  },
  {
   "cell_type": "code",
   "execution_count": null,
   "id": "b7a6102e",
   "metadata": {},
   "outputs": [],
   "source": [
    "%matplotlib widget\n",
    "from mpl_toolkits.mplot3d import axes3d\n",
    "import matplotlib.pyplot as plt\n",
    "from matplotlib import cm\n",
    "\n",
    "ax = plt.figure().add_subplot(projection='3d')\n",
    "\n",
    "# Plot projections of the contours for each dimension.  By choosing offsets\n",
    "# that match the appropriate axes limits, the projected contours will sit on\n",
    "# the 'walls' of the graph\n",
    "ax.contourf(xx1, zz1, yy1, zdir='y', offset=5, cmap=cm.coolwarm)\n",
    "ax.contourf(zz2, xx2, yy2, zdir='x', offset=-5, cmap=cm.coolwarm)\n",
    "ax.contourf(xx3, yy3, zz3, zdir='z', offset=-5, cmap=cm.coolwarm)\n",
    "ax.quiver(xq1, yq1, zq1, uu, vv, ww, color=\"g\", length=0.5, normalize=True)\n",
    "          \n",
    "ax.set_xlim(-5, 5)\n",
    "ax.set_ylim(-5, 5)\n",
    "ax.set_zlim(-5, 5)\n",
    "\n",
    "ax.set_xlabel('X')\n",
    "ax.set_ylabel('Y')\n",
    "ax.set_zlabel('Z')\n",
    "\n",
    "plt.show()"
   ]
  },
  {
   "cell_type": "code",
   "execution_count": null,
   "id": "creative-indonesia",
   "metadata": {},
   "outputs": [],
   "source": []
  }
 ],
 "metadata": {
  "kernelspec": {
   "display_name": "plotting_lambdify",
   "language": "python",
   "name": "plotting_lambdify"
  },
  "language_info": {
   "codemirror_mode": {
    "name": "ipython",
    "version": 3
   },
   "file_extension": ".py",
   "mimetype": "text/x-python",
   "name": "python",
   "nbconvert_exporter": "python",
   "pygments_lexer": "ipython3",
   "version": "3.8.10"
  },
  "toc": {
   "base_numbering": 1,
   "nav_menu": {},
   "number_sections": true,
   "sideBar": true,
   "skip_h1_title": false,
   "title_cell": "Table of Contents",
   "title_sidebar": "Contents",
   "toc_cell": false,
   "toc_position": {},
   "toc_section_display": true,
   "toc_window_display": false
  }
 },
 "nbformat": 4,
 "nbformat_minor": 5
}
