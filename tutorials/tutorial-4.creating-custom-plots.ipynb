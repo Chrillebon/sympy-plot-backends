{
 "cells": [
  {
   "cell_type": "markdown",
   "id": "automotive-rabbit",
   "metadata": {},
   "source": [
    "# Creating custom plots"
   ]
  },
  {
   "cell_type": "markdown",
   "id": "technological-spine",
   "metadata": {},
   "source": [
    "Sometimes, the functions exposed by Sympy's plotting module are not enough to accomplish our visualization objectives. If that's the case, we can either:\n",
    "1. `lambdify` the symbolic expressions and evaluate it numerically. However, this process is manually intensive.\n",
    "2. If the expressions can be plotted by the common plotting functions (`plot`, `plot3d`, `plot_parametric`, ...), we can easily extract the numerical data thanks to the `get_data` method of the series being plotted.\n",
    "3. Alternatively, we can use the `get_plot_data` function, which automate the _lambdifying_ process. This function accepts the same arguments of the aforementioned plotting functions and it is mostly useful when the expression we are interested therefore it is really easy to get the numerical data we are interested in.\n",
    "\n",
    "Once we have the numerical data, we can use our preferred plotting library. If we are lucky enough, we can also:\n",
    "1. use one of the plotting functions as a starting point;\n",
    "2. extract the numerical data;\n",
    "3. extract the plot object associated to the plotting library;\n",
    "4. use the appropriate command of the plotting library to add new data to the plot."
   ]
  },
  {
   "cell_type": "markdown",
   "id": "35d8fc5b",
   "metadata": {},
   "source": [
    "## Example - Editing and Adding Data\n",
    "\n",
    "The current backends are able to plot lines, gradient lines, contours, quivers, streamlines. However, they are not able to plot things like _curve fills_, bars, ...\n",
    "\n",
    "In this example we are going to illustrate a procedure that can be used to further customize the plot. Since we are going to use backend-specific commands, the procedure is backend-specific. In the following, we are going to use ``PlotlyBackend``. For other backends, the procedure might need to be adjusted."
   ]
  },
  {
   "cell_type": "code",
   "execution_count": null,
   "id": "6e9124d9",
   "metadata": {},
   "outputs": [],
   "source": [
    "from sympy import *\n",
    "from spb import *\n",
    "from spb.backends.matplotlib import MB\n",
    "from spb.backends.plotly import PB"
   ]
  },
  {
   "cell_type": "markdown",
   "id": "c5789d71",
   "metadata": {},
   "source": [
    "Let's say we would like to plot on the same figure:\n",
    "* a normal distribution filled to the horizontal axis.\n",
    "* a dampened oscillation.\n",
    "* bars following an exponential decay at integer locations."
   ]
  },
  {
   "cell_type": "code",
   "execution_count": null,
   "id": "38c8608a",
   "metadata": {},
   "outputs": [],
   "source": [
    "x, mu, sigma = symbols(\"x, mu, sigma\")\n",
    "expr1 = 1 / (sigma * sqrt(2 * pi)) * exp(-((x - mu) / sigma)**2 / 2)\n",
    "expr2 = cos(x) * exp(-x / 6)\n",
    "expr3 = exp(-x / 5)\n",
    "display(expr1, expr2, expr3)"
   ]
  },
  {
   "cell_type": "markdown",
   "id": "1c400315",
   "metadata": {},
   "source": [
    "We start by plotting the first two expressions, as the third one requires a different approach:"
   ]
  },
  {
   "cell_type": "code",
   "execution_count": null,
   "id": "1dfdd934",
   "metadata": {},
   "outputs": [],
   "source": [
    "p = plot(\n",
    "    (expr1.subs({sigma: 0.8, mu: 5}), \"normal\"), \n",
    "    (expr2, \"oscillation\"),\n",
    "    (x, 0, 10), backend=PB)"
   ]
  },
  {
   "cell_type": "markdown",
   "id": "293a81ce",
   "metadata": {},
   "source": [
    "Now, we'd like to fill the first curve. First, we extract the figure object; then we set the necessary attribute to get the job done:"
   ]
  },
  {
   "cell_type": "code",
   "execution_count": null,
   "id": "ee8d9d49",
   "metadata": {},
   "outputs": [],
   "source": [
    "f = p.fig\n",
    "f.data[0][\"fill\"]=\"tozerox\"\n",
    "f"
   ]
  },
  {
   "cell_type": "markdown",
   "id": "2acc249b",
   "metadata": {},
   "source": [
    "At this point we have to convert ``expr3`` to numerical data. We can do it either with the ``plot`` function, or with ``get_plot_data`` which requires the same arguments as the ``plot`` function, namely ``(expr, range, label [optional], **kwargs)``.\n",
    "\n",
    "Let's start with the ``plot`` function:"
   ]
  },
  {
   "cell_type": "code",
   "execution_count": null,
   "id": "22a3318d",
   "metadata": {},
   "outputs": [],
   "source": [
    "p2 = plot(expr3, (x, 0, 10), adaptive=False, only_integers=True, show=False)\n",
    "xx, yy = p2[0].get_data()\n",
    "print(xx)\n",
    "print(yy)"
   ]
  },
  {
   "cell_type": "markdown",
   "id": "8dfdd095",
   "metadata": {},
   "source": [
    "The advantage of this approach is that we can visualize the data (if `show=True`). The disadvantage is that the expression gets evaluated twice: the first time when it is added to the plot, the second time when we use `p2[0].get_data()`. If the expression is hard to evaluate, we might want to perform a single evaluation. That's what the ``get_plot_data`` is all about:"
   ]
  },
  {
   "cell_type": "code",
   "execution_count": null,
   "id": "a73b9fee",
   "metadata": {},
   "outputs": [],
   "source": [
    "xx, yy = get_plot_data(exp(-x / 5), (x, 0, 10), adaptive=False, only_integers=True)\n",
    "print(xx)\n",
    "print(yy)"
   ]
  },
  {
   "cell_type": "markdown",
   "id": "4bfb62e2",
   "metadata": {},
   "source": [
    "Now that we have generated the numerical values at integer locations, we can add the bars with the appropriate command:"
   ]
  },
  {
   "cell_type": "code",
   "execution_count": null,
   "id": "f5640e71",
   "metadata": {},
   "outputs": [],
   "source": [
    "import plotly.graph_objects as go\n",
    "import numpy as np\n",
    "\n",
    "f.add_trace(go.Bar(x=xx, y=yy, width=np.ones_like(xx) / 2, name=\"bars\"))\n",
    "f"
   ]
  },
  {
   "cell_type": "markdown",
   "id": "54d83fdb",
   "metadata": {},
   "source": [
    "That's it, job done."
   ]
  },
  {
   "cell_type": "code",
   "execution_count": null,
   "id": "creative-indonesia",
   "metadata": {},
   "outputs": [],
   "source": []
  }
 ],
 "metadata": {
  "kernelspec": {
   "display_name": "Python 3 (ipykernel)",
   "language": "python",
   "name": "python3"
  },
  "language_info": {
   "codemirror_mode": {
    "name": "ipython",
    "version": 3
   },
   "file_extension": ".py",
   "mimetype": "text/x-python",
   "name": "python",
   "nbconvert_exporter": "python",
   "pygments_lexer": "ipython3",
   "version": "3.9.7"
  },
  "toc": {
   "base_numbering": 1,
   "nav_menu": {},
   "number_sections": true,
   "sideBar": true,
   "skip_h1_title": false,
   "title_cell": "Table of Contents",
   "title_sidebar": "Contents",
   "toc_cell": false,
   "toc_position": {},
   "toc_section_display": true,
   "toc_window_display": false
  }
 },
 "nbformat": 4,
 "nbformat_minor": 5
}
