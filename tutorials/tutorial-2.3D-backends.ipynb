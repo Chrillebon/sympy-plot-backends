{
 "cells": [
  {
   "cell_type": "markdown",
   "id": "connected-uncertainty",
   "metadata": {},
   "source": [
    "# 3D backends\n",
    "\n",
    "Three backends support 3D plotting: `PlotlyBackend` (alias `PB`), `K3DBackend` (alias `KB`) and `MatplotlibBackend` (alias `MB`)."
   ]
  },
  {
   "cell_type": "code",
   "execution_count": null,
   "id": "convertible-orbit",
   "metadata": {},
   "outputs": [],
   "source": [
    "%matplotlib widget\n",
    "from sympy import *\n",
    "from spb import *\n",
    "import numpy as np\n",
    "var(\"u, v, x, y\")"
   ]
  },
  {
   "cell_type": "markdown",
   "id": "structural-plasma",
   "metadata": {},
   "source": [
    "First, let's examine a plot created with Matplotlib:"
   ]
  },
  {
   "cell_type": "code",
   "execution_count": null,
   "id": "devoted-highlight",
   "metadata": {},
   "outputs": [],
   "source": [
    "r = 2 + sin(7 * u + 5 * v)\n",
    "expr = (\n",
    "    r * cos(u) * sin(v),\n",
    "    r * sin(u) * sin(v),\n",
    "    r * cos(v)\n",
    ")\n",
    "plot3d_parametric_surface(*expr, (u, 0, 2 * pi), (v, 0, pi), backend=MB)"
   ]
  },
  {
   "cell_type": "markdown",
   "id": "helpful-gospel",
   "metadata": {},
   "source": [
    "Here, we can guess what the exact shape of the surface is going to be. We could increase the number of discretization points, in the `u` and `v` directions, but we are not going to do that with Matplotlib, as the rendering would become excessively slow. As always, we can use the toolbar buttons to zoom in and out. Now, try to click and drag the surface: there is a lot of lag. Matplotlib is not designed to be interactive.\n",
    "\n",
    "Let's plot the same surface with `K3DBackend`. Since we are at it, let's also bump up the number of discretization points to 500 on both parameters. The resulting mesh will have 250 thousand points, therefore the computation may take a few seconds (depending on our machine). Note one major difference with SymPy's plotting module: to specify the same numer of discretization points on both directions we can use the keyword argument `n`. Alternatively, we could use `n1` and `n2` to specify different numbers of discretization points."
   ]
  },
  {
   "cell_type": "code",
   "execution_count": null,
   "id": "intensive-circulation",
   "metadata": {
    "scrolled": true
   },
   "outputs": [],
   "source": [
    "n = 500\n",
    "plot3d_parametric_surface(*expr, (u, 0, 2 * pi), (v, 0, pi),\n",
    "                          backend=KB, n=n)"
   ]
  },
  {
   "cell_type": "markdown",
   "id": "backed-improvement",
   "metadata": {},
   "source": [
    "To interact with the plot:\n",
    "* Left click and drag: rotate the plot.\n",
    "* Scroll with the mouse wheel: zoom in and out.\n",
    "* Right click and drag: pan.\n",
    "\n",
    "Note how smooth the interaction is!!!"
   ]
  },
  {
   "cell_type": "markdown",
   "id": "broke-filter",
   "metadata": {},
   "source": [
    "On the top right corner there is a menu with a few entries:\n",
    "* **Controls**: we can play with a few options, like hiding the grids, going full screen, ..., add and remove clipping planes.\n",
    "* **Objects**: we can see the objects displayed on the plot. Let's click the `Mesh #1` entry: we can hide/show the object, its color legend, we can turn on wireframe view (don't do it with such a high number of points, it will slows things down a lot!). Note that by default a color map is applied to the surface, hence we cannot change its color. We will see in the next notebook how to do it.\n",
    "* **Info**: useful information for debug purposes.\n",
    "\n",
    "It is left to the Reader to play with the controls and learn what they do."
   ]
  },
  {
   "cell_type": "markdown",
   "id": "loose-window",
   "metadata": {},
   "source": [
    "Note that the name of the surface displayed under **Objects** is `Mesh #1`. If we plot multiple expressions, the names will be `Mesh #1`, `Mesh #2`, ... This is the default behaviour for `K3DBackend`. We can also chose to display the string representation of the expression by setting `show_label=True`, but it is safe to assume that the label won't fit the small amount of width of the **Controls** user interface, therefore it makes sense to leave that option unset."
   ]
  },
  {
   "cell_type": "markdown",
   "id": "stretch-nowhere",
   "metadata": {},
   "source": [
    "Let's now look at a simple example illustrating that no matter what backend we are using, we ultimately have to decide if the plot is correct or not:"
   ]
  },
  {
   "cell_type": "code",
   "execution_count": null,
   "id": "guilty-elevation",
   "metadata": {},
   "outputs": [],
   "source": [
    "expr = re(atan(x + I*y))\n",
    "n = 200\n",
    "plot3d(expr, backend=KB, n=n)"
   ]
  },
  {
   "cell_type": "markdown",
   "id": "figured-addition",
   "metadata": {},
   "source": [
    "Here, the vertical wall at $x=0$ is rendered, but should not!!! There is a discontinuity there."
   ]
  },
  {
   "cell_type": "markdown",
   "id": "light-school",
   "metadata": {},
   "source": [
    "As we can see above, by default a color map is applied to the surface, ranging from the minimum and maximum value of the z-coordinate. If we wish to switch to an automatic solid coloring, we need to set the `use_cm=False`. Also, keep in mind that `K3D` natively support latex. Let's try it:"
   ]
  },
  {
   "cell_type": "code",
   "execution_count": null,
   "id": "proud-rachel",
   "metadata": {},
   "outputs": [],
   "source": [
    "n = 300\n",
    "expr = cos(2 * pi * x * y)\n",
    "plot3d(expr, (x, -2, 2), (y, -2, 2), backend=KB,\n",
    "       n=n, use_cm=False,\n",
    "       title=r\"\\text{K3D - Latex support} \\qquad f(x, y) = \" + latex(expr))"
   ]
  },
  {
   "cell_type": "code",
   "execution_count": null,
   "id": "destroyed-norman",
   "metadata": {},
   "outputs": [],
   "source": [
    "n = 100\n",
    "expr = (\n",
    "    2 * (1 - exp(u / (6 * pi))) * cos(u) * cos(v / 2)**2,\n",
    "    2 * (-1 + exp(u / (6 * pi))) * sin(u) * cos(v / 2)**2,\n",
    "    1 - exp(u / (3 * pi)) - sin(v) + exp(u / (6 * pi)) * sin(v)\n",
    ")\n",
    "plot3d_parametric_surface(*expr, (u, 0, 6*pi), (v, 0, 2*pi),\n",
    "                          backend=KB, n=n, use_cm=True)"
   ]
  },
  {
   "cell_type": "markdown",
   "id": "express-slovenia",
   "metadata": {},
   "source": [
    "Let's now try `PlotlyBackend`. The main difference between `PlotlyBackend` and `K3DBackend` is that the former can stretch the axis, whereas the latter (being more engineering-oriented) uses a fixed aspect ratio representing reality. We can control this behaviour by setting an appropriate value for the `aspect` keyword:"
   ]
  },
  {
   "cell_type": "code",
   "execution_count": null,
   "id": "personal-outside",
   "metadata": {},
   "outputs": [],
   "source": [
    "plot3d_parametric_surface(*expr, (u, 0, 6*pi), (v, 0, 2*pi),\n",
    "                          backend=PB, n=n, aspect=\"cube\")"
   ]
  },
  {
   "cell_type": "markdown",
   "id": "infrared-carbon",
   "metadata": {},
   "source": [
    "Note that the z axis is stretched!\n",
    "\n",
    "The two other major differences are:\n",
    "* `PlotlyBackend` is consistently slower at rendering 3D objects than the other two backends.\n",
    "* `PlotlyBackend` doesn't natively support wireframe.\n",
    "* By moving the cursor over the surface, we can actually see the coordinates of the \"selected\" point. This is not currently possible with `K3DBackend`."
   ]
  },
  {
   "cell_type": "code",
   "execution_count": null,
   "id": "distinct-clear",
   "metadata": {},
   "outputs": [],
   "source": [
    "n = 100\n",
    "expr = (\n",
    "    (-(2/15) * cos(u) * (3 * cos(v) - 30 * sin(u) + 90 * cos(u)**4 * sin(u) -\n",
    "    60 * cos(u)**6 * sin(u) + 5 * cos(u) * cos(v) * sin(u))),\n",
    "    (-(1/15) * sin(u) * (3 * cos(v) - 3 * cos(u)**2 * cos(v) - 48 * cos(u)**4 * cos(v) +\n",
    "    48 * cos(u)**6 * cos(v) - 60 * sin(u) + 5 * cos(u) * cos(v) * sin(u)\n",
    "    - 5 * cos(u)**3 * cos(v) * sin(u) - 80 * cos(u)**5 * cos(v) * sin(u) +\n",
    "    80 * cos(u)**7 * cos(v) * sin(u))),\n",
    "    (2/15) * (3 + 5 * cos(u) * sin(u)) * sin(v)\n",
    ")\n",
    "plot3d_parametric_surface(*expr, (u, 0, pi), (v, 0, 2 * pi),\n",
    "                          backend=PB, n=n)"
   ]
  },
  {
   "cell_type": "code",
   "execution_count": null,
   "id": "continent-enforcement",
   "metadata": {},
   "outputs": [],
   "source": [
    "# https://mathematica.stackexchange.com/a/37715\n",
    "expr = (\n",
    "    cos(v) * (6 - (5/4 + sin(3 * u)) * sin(u - 3 * v)), \n",
    "     (6 - (5/4 + sin(3 * u)) * sin(u - 3 * v)) * sin(v), \n",
    "     -cos(u - 3 * v) * (5/4 + sin(3 * u))\n",
    ")\n",
    "plot3d_parametric_surface(*expr, (u, 0, 2 * pi), (v, 0, 2 * pi),\n",
    "                          backend=KB, n=n)"
   ]
  },
  {
   "cell_type": "code",
   "execution_count": null,
   "id": "d9b03852",
   "metadata": {},
   "outputs": [],
   "source": []
  },
  {
   "cell_type": "markdown",
   "id": "c314102a",
   "metadata": {},
   "source": [
    "## Setting custom color maps\n",
    "\n",
    "We can also set custom color maps by setting the `colormaps` class attribute of a backend.\n",
    "Let's first visualize the default color map for `MatplotlibBackend`:"
   ]
  },
  {
   "cell_type": "code",
   "execution_count": null,
   "id": "cd8db125",
   "metadata": {},
   "outputs": [],
   "source": [
    "_plot = lambda B: plot3d(\n",
    "    (cos(x**2 + y**2), (x, -2, 0), (y, -2, 2)),\n",
    "    (cos(x**2 + y**2), (x, 0, 2), (y, -2, 2)),\n",
    "    n=50, backend=B)\n",
    "_plot(MB)"
   ]
  },
  {
   "cell_type": "markdown",
   "id": "44d02346",
   "metadata": {},
   "source": [
    "Now, let's change the `colormaps` attribute. Note that it must be as list:"
   ]
  },
  {
   "cell_type": "code",
   "execution_count": null,
   "id": "c2a36f1e",
   "metadata": {},
   "outputs": [],
   "source": [
    "import matplotlib.cm as cm\n",
    "MB.colormaps = [cm.winter, cm.RdBu]\n",
    "_plot(MB)"
   ]
  },
  {
   "cell_type": "markdown",
   "id": "ecd05354",
   "metadata": {},
   "source": [
    "We can also use color maps designed for different backends. For example, if we would like to use Plotly's color maps, we just provide a strings. In the following example, we mix Plotly and Matplotlib color maps:"
   ]
  },
  {
   "cell_type": "code",
   "execution_count": null,
   "id": "8bebe22d",
   "metadata": {},
   "outputs": [],
   "source": [
    "MB.colormaps = [\"aggrnyl\", cm.autumn]\n",
    "_plot(MB)"
   ]
  },
  {
   "cell_type": "markdown",
   "id": "2e1d9247",
   "metadata": {},
   "source": [
    "As the module is able to convert colormaps from and to a given backend, the same can be done with a different backend:"
   ]
  },
  {
   "cell_type": "code",
   "execution_count": null,
   "id": "392fe508",
   "metadata": {},
   "outputs": [],
   "source": [
    "PB.colormaps = [\"aggrnyl\", cm.autumn]\n",
    "_plot(PB)"
   ]
  },
  {
   "cell_type": "code",
   "execution_count": null,
   "id": "e79c77ef",
   "metadata": {},
   "outputs": [],
   "source": []
  }
 ],
 "metadata": {
  "kernelspec": {
   "display_name": "Python 3 (ipykernel)",
   "language": "python",
   "name": "python3"
  },
  "language_info": {
   "codemirror_mode": {
    "name": "ipython",
    "version": 3
   },
   "file_extension": ".py",
   "mimetype": "text/x-python",
   "name": "python",
   "nbconvert_exporter": "python",
   "pygments_lexer": "ipython3",
   "version": "3.9.7"
  },
  "toc": {
   "base_numbering": 1,
   "nav_menu": {},
   "number_sections": true,
   "sideBar": true,
   "skip_h1_title": false,
   "title_cell": "Table of Contents",
   "title_sidebar": "Contents",
   "toc_cell": false,
   "toc_position": {},
   "toc_section_display": true,
   "toc_window_display": false
  }
 },
 "nbformat": 4,
 "nbformat_minor": 5
}
