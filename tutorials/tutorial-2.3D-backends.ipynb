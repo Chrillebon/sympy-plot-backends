{
 "cells": [
  {
   "cell_type": "markdown",
   "id": "connected-uncertainty",
   "metadata": {},
   "source": [
    "# 3D backends\n",
    "\n",
    "Four backends support 3D plotting:\n",
    "* `PlotlyBackend` (alias `PB`)\n",
    "* `K3DBackend` (alias `KB`) \n",
    "* `MatplotlibBackend` (alias `MB`)\n",
    "* `MayaviBackend` (alias `MAB`)"
   ]
  },
  {
   "cell_type": "code",
   "execution_count": null,
   "id": "convertible-orbit",
   "metadata": {},
   "outputs": [],
   "source": [
    "%matplotlib widget\n",
    "from sympy import *\n",
    "from spb import *\n",
    "import numpy as np\n",
    "var(\"u, v, x, y, z\")"
   ]
  },
  {
   "cell_type": "markdown",
   "id": "structural-plasma",
   "metadata": {},
   "source": [
    "First, let's examine a plot created with Matplotlib:"
   ]
  },
  {
   "cell_type": "code",
   "execution_count": null,
   "id": "devoted-highlight",
   "metadata": {},
   "outputs": [],
   "source": [
    "r = 2 + sin(7 * u + 5 * v)\n",
    "expr = (\n",
    "    r * cos(u) * sin(v),\n",
    "    r * sin(u) * sin(v),\n",
    "    r * cos(v)\n",
    ")\n",
    "plot3d_parametric_surface(*expr, (u, 0, 2 * pi), (v, 0, pi), backend=MB)"
   ]
  },
  {
   "cell_type": "markdown",
   "id": "helpful-gospel",
   "metadata": {},
   "source": [
    "Here, we can guess what the exact shape of the surface is going to be. We could increase the number of discretization points, in the `u` and `v` directions, but we are not going to do that with Matplotlib, as the rendering would become excessively slow. As always, we can use the toolbar buttons to zoom in and out. Now, try to click and drag the surface: there is a lot of lag. Matplotlib is not designed to be interactive.\n",
    "\n",
    "Let's plot the same surface with `K3DBackend`. Since we are at it, let's also bump up the number of discretization points to 500 on both parameters. The resulting mesh will have 250 thousand points, therefore the computation may take a few seconds (depending on our machine). Note one major difference with SymPy's plotting module: to specify the same numer of discretization points on both directions we can use the keyword argument `n`. Alternatively, we could use `n1` and `n2` to specify different numbers of discretization points."
   ]
  },
  {
   "cell_type": "code",
   "execution_count": null,
   "id": "intensive-circulation",
   "metadata": {
    "scrolled": true
   },
   "outputs": [],
   "source": [
    "n = 500\n",
    "plot3d_parametric_surface(*expr, (u, 0, 2 * pi), (v, 0, pi),\n",
    "                          backend=KB, n=n, show_label=True)"
   ]
  },
  {
   "cell_type": "markdown",
   "id": "backed-improvement",
   "metadata": {},
   "source": [
    "To interact with the plot:\n",
    "* Left click and drag: rotate the plot.\n",
    "* Scroll with the mouse wheel: zoom in and out.\n",
    "* Right click and drag: pan.\n",
    "\n",
    "Note how smooth the interaction is!!! That's because the rendering is perfomed by WebGL, a high-performance 3D graphic library supported by many modern browsers."
   ]
  },
  {
   "cell_type": "markdown",
   "id": "broke-filter",
   "metadata": {},
   "source": [
    "On the top right corner there is a menu with a few entries:\n",
    "* **Controls**: we can play with a few options, like hiding the grids, going full screen, ..., add and remove clipping planes.\n",
    "* **Objects**: we can see the objects displayed on the plot. Let's click the `Mesh #1` entry: we can hide/show the object, its color legend, we can turn on wireframe view (don't do it with such a high number of points, it will slows things down a lot!). Note that by default a color map is applied to the surface, hence we cannot change its color. We will see in the next notebook how to do it.\n",
    "* **Info**: useful information for debug purposes.\n",
    "\n",
    "It is left to the Reader to play with the controls and learn what they do."
   ]
  },
  {
   "cell_type": "markdown",
   "id": "loose-window",
   "metadata": {},
   "source": [
    "Note that the name of the surface displayed under **Objects** is `Mesh #1`. If we plot multiple expressions, the names will be `Mesh #1`, `Mesh #2`, ... This is the default behaviour for `K3DBackend`. We can also chose to display the string representation of the expression by setting `show_label=True`, but it is safe to assume that the label won't fit the small amount of width of the **Controls** user interface, therefore it makes sense to leave that option unset."
   ]
  },
  {
   "cell_type": "markdown",
   "id": "8a408f7d",
   "metadata": {},
   "source": [
    "``MayaviBackend`` is another suitable backend to visualize 3D surfaces. The plot command can be executed on different environments:\n",
    "* Jupyter Notebook: an interactive figure will be visualized on the output cell. Rendering is very fast (even for high number of discretization points), but interactivity feels \"slower\". Mayavi offers [different \"backends\" (or strategies)](https://docs.enthought.com/mayavi/mayavi/tips.html#using-mayavi-in-jupyter-notebooks) to embed the plot on the notebook: ``ipy`` is the default one, but it can be changed by setting the ``notebook_kw`` dictionary in the plot command. Please, read ``help(MayaviBackend)`` for more information.\n",
    "* Python console: a new window will open on the screen containing the plot. Rendering performance and interactivity is great, and it is possible to fully customize the appearance."
   ]
  },
  {
   "cell_type": "code",
   "execution_count": null,
   "id": "1851ce3b",
   "metadata": {},
   "outputs": [],
   "source": [
    "plot3d_parametric_surface(*expr, (u, 0, 2 * pi), (v, 0, pi),\n",
    "                          backend=MAB, n=n)"
   ]
  },
  {
   "cell_type": "markdown",
   "id": "express-slovenia",
   "metadata": {},
   "source": [
    "Let's now try `PlotlyBackend`. The main difference between `PlotlyBackend` and `K3DBackend` is that the former can stretch the axis, whereas the latter (being more engineering-oriented) uses a fixed aspect ratio representing reality. We can control this behaviour by setting an appropriate value for the `aspect` keyword (please, read ``help(PlotlyBackend)`` for more information):"
   ]
  },
  {
   "cell_type": "code",
   "execution_count": null,
   "id": "personal-outside",
   "metadata": {},
   "outputs": [],
   "source": [
    "expr = cos(x**2 + y**2)\n",
    "plot3d(expr, (x, -pi, pi), (y, -pi, pi), backend=PB, aspect=\"cube\")"
   ]
  },
  {
   "cell_type": "markdown",
   "id": "infrared-carbon",
   "metadata": {},
   "source": [
    "Note that the z axis is stretched!\n",
    "\n",
    "The two other major differences are:\n",
    "* `PlotlyBackend` is consistently slower at rendering 3D objects than `K3DBackend`.\n",
    "* `PlotlyBackend` doesn't natively support wireframe.\n",
    "* By moving the cursor over the surface, we can actually see the coordinates of the \"selected\" point. This is not currently possible with `K3DBackend`."
   ]
  },
  {
   "cell_type": "markdown",
   "id": "light-school",
   "metadata": {},
   "source": [
    "## Colormaps and Polar Discretization\n",
    "\n",
    "With `use_cm=True` a color map is applied to the surface. By default, it will range from the minimum and maximum value of the z-coordinate. If we wish to switch to an automatic solid coloring, we have to set the `use_cm=False`. Also, keep in mind that `K3D` natively support latex. Let's try it:"
   ]
  },
  {
   "cell_type": "code",
   "execution_count": null,
   "id": "proud-rachel",
   "metadata": {},
   "outputs": [],
   "source": [
    "n = 300\n",
    "expr = cos(2 * pi * x * y)\n",
    "plot3d(expr, (x, -2, 2), (y, -2, 2), backend=KB,\n",
    "       n=n, use_cm=True,\n",
    "       title=r\"\\text{K3D - Latex support} \\qquad f(x, y) = \" + latex(expr))"
   ]
  },
  {
   "cell_type": "markdown",
   "id": "b231e800",
   "metadata": {},
   "source": [
    "Let's now try to use a polar discretization, discretizing the radius and the angle instead of the ``x`` and ``y`` coordinates. In particular:\n",
    "\n",
    "* with ``color_func``, we are going to set a color function in order to apply a colormap according to the radius.\n",
    "* by reading the documentation with ``help(plot3d)``, we will see that one of the arguments is ``rendering_kw``, a dictionary containing options that will be passed to the backend's plotting function. Here, we will set a different color map. Since we are going to use ``K3D-Jupyter`` as the plotting library, the colormap must be something ``K3D`` can understand."
   ]
  },
  {
   "cell_type": "code",
   "execution_count": null,
   "id": "860ed441",
   "metadata": {},
   "outputs": [],
   "source": [
    "import numpy as np\n",
    "import k3d\n",
    "n = 200\n",
    "# r: radius, theta: angle\n",
    "r, theta = symbols(\"r, theta\")\n",
    "expr = cos(r**2) * exp(-r**2 / 10)\n",
    "plot3d(\n",
    "    expr, (r, 0, 4), (theta, 0, 2 * pi),\n",
    "    {\"color_map\": k3d.colormaps.matplotlib_color_maps.Plasma},\n",
    "    backend=KB, n=n, use_cm=True, is_polar=True,\n",
    "    color_func=lambda x, y: np.sqrt(x**2 + y**2))"
   ]
  },
  {
   "cell_type": "markdown",
   "id": "5df6c77e",
   "metadata": {},
   "source": [
    "Finally, a few more examples. Here we will plot parametric surfaces, using a color function to visualize some parameter:"
   ]
  },
  {
   "cell_type": "code",
   "execution_count": null,
   "id": "distinct-clear",
   "metadata": {},
   "outputs": [],
   "source": [
    "n = 100\n",
    "expr = (\n",
    "    (-(2/15) * cos(u) * (3 * cos(v) - 30 * sin(u) + 90 * cos(u)**4 * sin(u) -\n",
    "    60 * cos(u)**6 * sin(u) + 5 * cos(u) * cos(v) * sin(u))),\n",
    "    (-(1/15) * sin(u) * (3 * cos(v) - 3 * cos(u)**2 * cos(v) - 48 * cos(u)**4 * cos(v) +\n",
    "    48 * cos(u)**6 * cos(v) - 60 * sin(u) + 5 * cos(u) * cos(v) * sin(u)\n",
    "    - 5 * cos(u)**3 * cos(v) * sin(u) - 80 * cos(u)**5 * cos(v) * sin(u) +\n",
    "    80 * cos(u)**7 * cos(v) * sin(u))),\n",
    "    (2/15) * (3 + 5 * cos(u) * sin(u)) * sin(v)\n",
    ")\n",
    "plot3d_parametric_surface(\n",
    "    *expr, (u, 0, pi), (v, 0, 2 * pi), \"u\",\n",
    "    backend=PB, n=n, use_cm=True,\n",
    "    color_func=lambda u, v: u)"
   ]
  },
  {
   "cell_type": "code",
   "execution_count": null,
   "id": "continent-enforcement",
   "metadata": {},
   "outputs": [],
   "source": [
    "# https://mathematica.stackexchange.com/a/37715\n",
    "expr = (\n",
    "    cos(v) * (6 - (5/4 + sin(3 * u)) * sin(u - 3 * v)), \n",
    "     (6 - (5/4 + sin(3 * u)) * sin(u - 3 * v)) * sin(v), \n",
    "     -cos(u - 3 * v) * (5/4 + sin(3 * u))\n",
    ")\n",
    "plot3d_parametric_surface(\n",
    "    *expr, (u, 0, 2 * pi), (v, 0, 2 * pi), \"u\",\n",
    "    backend=KB, n=n, use_cm=True, color_func=lambda u, v: u)"
   ]
  },
  {
   "cell_type": "markdown",
   "id": "stretch-nowhere",
   "metadata": {},
   "source": [
    "## Correctness of the visualization\n",
    "\n",
    "Let's now look at a simple example illustrating that no matter what backend we are using, we ultimately have to decide if the plot is correct or not:"
   ]
  },
  {
   "cell_type": "code",
   "execution_count": null,
   "id": "guilty-elevation",
   "metadata": {},
   "outputs": [],
   "source": [
    "expr = re(atan(x + I*y))\n",
    "n = 200\n",
    "plot3d(expr, backend=KB, n=n, use_cm=True)"
   ]
  },
  {
   "cell_type": "markdown",
   "id": "figured-addition",
   "metadata": {},
   "source": [
    "Here, the vertical wall at $x=0$ is rendered, but should not!!! There is a discontinuity there."
   ]
  },
  {
   "cell_type": "code",
   "execution_count": null,
   "id": "9446a176",
   "metadata": {},
   "outputs": [],
   "source": []
  },
  {
   "cell_type": "markdown",
   "id": "a6cb2a00",
   "metadata": {},
   "source": [
    "## Implicit Surfaces\n",
    "\n",
    "The `plot3d_implicit` function allows to plot implicit surfaces. However, only three backends support this functionality: `K3DBackend`, `PlotlyBackend` and ``MayaviBackend``. By default, the surface will have a solid color, no matter the value of `use_cm`."
   ]
  },
  {
   "cell_type": "code",
   "execution_count": null,
   "id": "e389cb7f",
   "metadata": {},
   "outputs": [],
   "source": [
    "expr = 2 * y * (y**2 - 3 * x**2) * (1 - z**2) + (x**2 + y**2)**2 - (9 * z**2 - 1) * (1 - z**2)\n",
    "expr = (x**2+9/4*y**2+z**2-1)**3 - x**2*z**3 - 9/(80)*y**2*z**3\n",
    "def metaball(x0, y0, z0):\n",
    "    return 1 / ((x-x0)**2+(y-y0)**2+(z-z0)**2)\n",
    "expr = metaball(-0.6,0,0) + metaball(0.6,0,0) - 2\n",
    "ranges = (x, -2, 2), (y, -2, 2), (z, -2, 2)\n",
    "plot3d_implicit(expr, *ranges, backend=PB)"
   ]
  },
  {
   "cell_type": "code",
   "execution_count": null,
   "id": "3c8dd6e1",
   "metadata": {},
   "outputs": [],
   "source": [
    "plot3d_implicit(expr, *ranges, backend=KB)"
   ]
  },
  {
   "cell_type": "markdown",
   "id": "20e34967",
   "metadata": {},
   "source": [
    "With `K3D-Jupyter` we can change the visible isocontour after the figure has been created. Click `Open Controls -> Objects -> Marching Cuve #1` and change `level` to a different integer number. Alternatively, we can pass `rendering_kw={\"level\": 1}` to the plot function."
   ]
  },
  {
   "cell_type": "code",
   "execution_count": null,
   "id": "c3d93dab",
   "metadata": {},
   "outputs": [],
   "source": [
    "plot3d_implicit(expr, *ranges, backend=MAB)"
   ]
  },
  {
   "cell_type": "markdown",
   "id": "74a62727",
   "metadata": {},
   "source": [
    "Differently from K3D-Jupyter, Plotly also allows to visualize a range of isocontours. However, Plotly is slower at rendering:"
   ]
  },
  {
   "cell_type": "code",
   "execution_count": null,
   "id": "66cf20fe",
   "metadata": {},
   "outputs": [],
   "source": [
    "plot3d_implicit(\n",
    "    1/x**2 - 1/y**2 + 1/z**2, (x, -2, 2), (y, -2, 2), (z, -2, 2),\n",
    "    backend=PB,\n",
    "    rendering_kw={\n",
    "        \"isomin\": 0, \"isomax\": 2,\n",
    "        \"colorscale\":\"aggrnyl\", \"showscale\":True # force a colormap and a colorbar\n",
    "    }\n",
    ")"
   ]
  },
  {
   "cell_type": "code",
   "execution_count": null,
   "id": "eaee1da9",
   "metadata": {},
   "outputs": [],
   "source": [
    "expr = x**3 + y**2 - z**2\n",
    "ranges = (x,-2,2), (y,-2,2), (z,-2,2)\n",
    "plot3d_implicit(expr, *ranges, backend=PB)"
   ]
  },
  {
   "cell_type": "code",
   "execution_count": null,
   "id": "c99c6009",
   "metadata": {},
   "outputs": [],
   "source": [
    "expr = x**2 * 0.5 + y**2 + z**2 * 2\n",
    "ranges = (x, -5, 5), (y, -5, 5), (z, -5, 5)\n",
    "plot3d_implicit(expr, *ranges, {\"contours\": [5, 25, 50]}, backend=MAB)"
   ]
  },
  {
   "cell_type": "markdown",
   "id": "c314102a",
   "metadata": {},
   "source": [
    "## Setting custom color maps\n",
    "\n",
    "We can also set custom color maps by setting the `colormaps` class attribute of a backend.\n",
    "Let's first visualize the default color map for `MatplotlibBackend`:"
   ]
  },
  {
   "cell_type": "code",
   "execution_count": null,
   "id": "cd8db125",
   "metadata": {},
   "outputs": [],
   "source": [
    "_plot = lambda B: plot3d(\n",
    "    (cos(x**2 + y**2), (x, -2, 0), (y, -2, 2)),\n",
    "    (cos(x**2 + y**2), (x, 0, 2), (y, -2, 2)),\n",
    "    n=50, backend=B, use_cm=True)\n",
    "_plot(MB)"
   ]
  },
  {
   "cell_type": "markdown",
   "id": "44d02346",
   "metadata": {},
   "source": [
    "Now, let's change the `colormaps` attribute. Note that it must be as list:"
   ]
  },
  {
   "cell_type": "code",
   "execution_count": null,
   "id": "c2a36f1e",
   "metadata": {},
   "outputs": [],
   "source": [
    "import matplotlib.cm as cm\n",
    "MB.colormaps = [cm.winter, cm.RdBu]\n",
    "_plot(MB)"
   ]
  },
  {
   "cell_type": "markdown",
   "id": "ecd05354",
   "metadata": {},
   "source": [
    "We can also use color maps designed for different backends. For example, if we would like to use Plotly's color maps, we just provide a strings. In the following example, we mix Plotly and Matplotlib color maps:"
   ]
  },
  {
   "cell_type": "code",
   "execution_count": null,
   "id": "8bebe22d",
   "metadata": {},
   "outputs": [],
   "source": [
    "MB.colormaps = [\"aggrnyl\", cm.autumn]\n",
    "_plot(MB)"
   ]
  },
  {
   "cell_type": "markdown",
   "id": "2e1d9247",
   "metadata": {},
   "source": [
    "As the module is able to convert colormaps from and to a given backend, the same can be done with a different backend:"
   ]
  },
  {
   "cell_type": "code",
   "execution_count": null,
   "id": "392fe508",
   "metadata": {},
   "outputs": [],
   "source": [
    "PB.colormaps = [\"aggrnyl\", cm.autumn]\n",
    "_plot(PB)"
   ]
  },
  {
   "cell_type": "code",
   "execution_count": null,
   "id": "e79c77ef",
   "metadata": {},
   "outputs": [],
   "source": []
  }
 ],
 "metadata": {
  "kernelspec": {
   "display_name": "Python 3 (ipykernel)",
   "language": "python",
   "name": "python3"
  },
  "language_info": {
   "codemirror_mode": {
    "name": "ipython",
    "version": 3
   },
   "file_extension": ".py",
   "mimetype": "text/x-python",
   "name": "python",
   "nbconvert_exporter": "python",
   "pygments_lexer": "ipython3",
   "version": "3.9.7"
  },
  "toc": {
   "base_numbering": 1,
   "nav_menu": {},
   "number_sections": true,
   "sideBar": true,
   "skip_h1_title": false,
   "title_cell": "Table of Contents",
   "title_sidebar": "Contents",
   "toc_cell": false,
   "toc_position": {},
   "toc_section_display": true,
   "toc_window_display": false
  }
 },
 "nbformat": 4,
 "nbformat_minor": 5
}
