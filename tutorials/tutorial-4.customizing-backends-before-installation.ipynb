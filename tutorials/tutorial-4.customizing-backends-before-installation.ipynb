{
 "cells": [
  {
   "cell_type": "markdown",
   "id": "aging-salvation",
   "metadata": {},
   "source": [
    "# Customizing the backends before installing the module"
   ]
  },
  {
   "cell_type": "markdown",
   "id": "small-jefferson",
   "metadata": {},
   "source": [
    "Before installing the module, it is appropriate to customize the backends according to our liking. I'm a dark mode fan, so the backends have a default dark theme (whenever it makes sense, for example `K3DBackend` is currently in light mode). \n",
    "\n",
    "Let's move to the `spb/backends` folder."
   ]
  },
  {
   "cell_type": "markdown",
   "id": "joined-chase",
   "metadata": {},
   "source": [
    "## BokehBackend\n",
    "\n",
    "Open the file `bokeh.py` and look for this line of code:\n",
    "```\n",
    "curdoc().theme = kwargs.get(\"theme\", \"dark_minimal\")\n",
    "```\n",
    "Now, look at the following [documentation page](https://docs.bokeh.org/en/latest/docs/reference/themes.html) to find more available themes. Let say we like the _Caliber_ theme, then we change that line of code to:\n",
    "```\n",
    "curdoc().theme = kwargs.get(\"theme\", \"caliber\")\n",
    "```"
   ]
  },
  {
   "cell_type": "markdown",
   "id": "headed-victor",
   "metadata": {},
   "source": [
    "## PlotlyBackend\n",
    "\n",
    "Open the file `plotly.py` and look for this line of code:\n",
    "```\n",
    "template = self._kwargs.get(\"theme\", \"plotly_dark\"),\n",
    "```\n",
    "Now, look at the following [documentation page](https://plotly.com/python/templates/) to find more available themes. Let say we like the _Seaborn_ theme, then we change that line of code to:\n",
    "```\n",
    "template = self._kwargs.get(\"theme\", \"seaborn\"),\n",
    "```"
   ]
  },
  {
   "cell_type": "markdown",
   "id": "local-scope",
   "metadata": {},
   "source": [
    "## MayaviBackend\n",
    "\n",
    "Open the file `mayavi.py` and look for this line of code:\n",
    "```\n",
    "bgcolor = self._kwargs.get(\"bg_color\", (0.22, 0.24, 0.29)),\n",
    "fgcolor = self._kwargs.get(\"fg_color\", (1, 1, 1))\n",
    "```\n",
    "Here, `bgcolor` stands for background color. `fgcolor` stands for foreground color (the color of texts, axis, ...). The tuples represent RGB colors: `(0, 0, 0)` is black, `(1, 1, 1)` is white. Change these tuples to your preferences."
   ]
  },
  {
   "cell_type": "code",
   "execution_count": null,
   "id": "documentary-allen",
   "metadata": {},
   "outputs": [],
   "source": []
  }
 ],
 "metadata": {
  "kernelspec": {
   "display_name": "plotting_lambdify",
   "language": "python",
   "name": "plotting_lambdify"
  },
  "language_info": {
   "codemirror_mode": {
    "name": "ipython",
    "version": 3
   },
   "file_extension": ".py",
   "mimetype": "text/x-python",
   "name": "python",
   "nbconvert_exporter": "python",
   "pygments_lexer": "ipython3",
   "version": "3.8.5"
  },
  "toc": {
   "base_numbering": 1,
   "nav_menu": {},
   "number_sections": true,
   "sideBar": true,
   "skip_h1_title": false,
   "title_cell": "Table of Contents",
   "title_sidebar": "Contents",
   "toc_cell": false,
   "toc_position": {},
   "toc_section_display": true,
   "toc_window_display": false
  }
 },
 "nbformat": 4,
 "nbformat_minor": 5
}
