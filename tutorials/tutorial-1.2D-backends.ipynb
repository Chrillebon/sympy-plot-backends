{
 "cells": [
  {
   "cell_type": "markdown",
   "id": "successful-dietary",
   "metadata": {},
   "source": [
    "# 2D Backends"
   ]
  },
  {
   "cell_type": "markdown",
   "id": "emotional-shoulder",
   "metadata": {},
   "source": [
    "In this tutorial we are going to examine the 2D capabilities of this plotting module, whose major objective is to integrate modern interactive plotting libraries with SymPy. We are also going to illustrate a couple of important capabilities:\n",
    "1. Correct detection and plotting of singularities.\n",
    "2. Correct visualization of `Piecewise` expressions.\n",
    "\n",
    "## Comparison between 2D backends\n",
    "\n",
    "Let's start by comparing the 2D backends. First, we will show the results with Matplotlib, and explain the limitations. Then we will show what a different backend can do."
   ]
  },
  {
   "cell_type": "code",
   "execution_count": null,
   "id": "homeless-rating",
   "metadata": {},
   "outputs": [],
   "source": [
    "%matplotlib widget\n",
    "from sympy import *\n",
    "from spb import *\n",
    "from spb.backends.matplotlib import MB\n",
    "from spb.backends.plotly import PB\n",
    "from spb.backends.bokeh import BB\n",
    "var(\"u, v, x, y\")"
   ]
  },
  {
   "cell_type": "markdown",
   "id": "advisory-interference",
   "metadata": {},
   "source": [
    "In the above code cell we first imported every plot function from our custom plotting module. Specifically, we imported `plot, plot_parametric, plot3d, plot3d_parametric_line, plot3d_parametric_surface, plot_contour, plot_implicit`. Remember: while the plot functions from the current module are identical to the ones from `sympy`, they are not compatible when using a different backend!\n",
    "\n",
    "We also imported three backends. The following backends are available from the following submodules:\n",
    "\n",
    "|       Sub-module      | Backend             | Alias |\n",
    "|:---------------------:|:-------------------:|:-----:|\n",
    "| backends.bokeh      | BokehBackend      |  BB |\n",
    "| backends.matplotlib | MatplotlibBackend |  MB |\n",
    "| backends.plotly     | PlotlyBackend     |  PB |\n",
    "| backends.k3d        | K3DBackend        |  KB |\n",
    "\n",
    "Only `MatplotlibBackend`, `BokehBackend` and `PlotlyBackend` support 2D plots."
   ]
  },
  {
   "cell_type": "code",
   "execution_count": null,
   "id": "aboriginal-interest",
   "metadata": {},
   "outputs": [],
   "source": [
    "plot(sin(x), cos(x), log(x), backend=MB)"
   ]
  },
  {
   "cell_type": "markdown",
   "id": "acute-algebra",
   "metadata": {},
   "source": [
    "Once we plot multiple expression simultaneously, the legend will automatically show up. We can disable it by setting `legend=False`.\n",
    "\n",
    "Note that:\n",
    "* In order to interact with it we have to use the buttons on the toolbar.\n",
    "* If we move the cursor over the plot, we can see its coordinates. With this behaviour we can only get approximate coordinates if we move the cursor over a line.\n",
    "\n",
    "Let's visualize the same plot with `PlotlyBackend`:"
   ]
  },
  {
   "cell_type": "code",
   "execution_count": null,
   "id": "devoted-permission",
   "metadata": {},
   "outputs": [],
   "source": [
    "plot(sin(x), cos(x), log(x), backend=PB)"
   ]
  },
  {
   "cell_type": "markdown",
   "id": "polyphonic-coating",
   "metadata": {},
   "source": [
    "We can also interact with this plot using the top toolbar, however there are more natural ways:\n",
    "* Click and drag to zoom into a rectangular selection.\n",
    "* Move the cursor in the middle of the horizontal axis, click and drag to pan horizontally.\n",
    "* Move the cursor in the middle of the vertical axis, click and drag to pan vertically.\n",
    "* Move the cursor near the ends of the horizontal/vertical axis: click and drag to resize.\n",
    "* Move the cursor over a line: a tooltip will show the coordinate of that point in the data series. Note that there is no interpolation between two consecutive points.\n",
    "* Click over a label in the legend to hide/show that data series."
   ]
  },
  {
   "cell_type": "markdown",
   "id": "constitutional-opposition",
   "metadata": {},
   "source": [
    "Let's now visualize the same plot with BokehBackend:"
   ]
  },
  {
   "cell_type": "code",
   "execution_count": null,
   "id": "precise-piece",
   "metadata": {},
   "outputs": [],
   "source": [
    "plot(sin(x), cos(x), log(x), backend=BB)"
   ]
  },
  {
   "cell_type": "markdown",
   "id": "natural-penetration",
   "metadata": {},
   "source": [
    "Here, we can:\n",
    "* Click and drag to pan the plot around.\n",
    "* Click and drag the axis to pan the plot only on one direction.\n",
    "* Click the legend entries to hide/show the data series.\n",
    "* Move the cursor over a line: a tooltip will show the coordinate of that point in the data series.\n",
    "* Use the toolbar to change the tool, for example we can select the _Box Zoom_ to zoom into a rectangular region."
   ]
  },
  {
   "cell_type": "markdown",
   "id": "refined-satisfaction",
   "metadata": {},
   "source": [
    "Is some occasion, it might be helpful to assign a custom label to a specific expression. We can do that in the following way:"
   ]
  },
  {
   "cell_type": "code",
   "execution_count": null,
   "id": "qualified-efficiency",
   "metadata": {},
   "outputs": [],
   "source": [
    "p = plot((cos(x), \"$f_{1}$\"), (sin(x), \"$f_{2}$\"), (log(x), \"$f_{3}$\"),\n",
    "         backend=MB, legend=True, title=\"Latex Support\",\n",
    "         xlabel=r\"$\\xi$\", ylabel=r\"$\\eta$\", detect_poles=False)"
   ]
  },
  {
   "cell_type": "markdown",
   "id": "proved-layout",
   "metadata": {},
   "source": [
    "At the time of writing this, there might be problems when using [Plotly with Latex on Firefox](https://github.com/plotly/plotly.js/issues/5374).\n",
    "\n",
    "Also, note that, differently from Matplotlib and Plotly, Bokeh doesn't support Latex!"
   ]
  },
  {
   "cell_type": "markdown",
   "id": "43570aca",
   "metadata": {},
   "source": [
    "## Singularity Detection"
   ]
  },
  {
   "cell_type": "markdown",
   "id": "7e9b26f4",
   "metadata": {},
   "source": [
    "Another difference in comparison with the SymPy plotting module is that we can chose to correctly plot singularities (or at least try to). By default, this detection is turned off, for example:"
   ]
  },
  {
   "cell_type": "code",
   "execution_count": null,
   "id": "95709b76",
   "metadata": {},
   "outputs": [],
   "source": [
    "plot(tan(x), (x, -10, 10), backend=PB)"
   ]
  },
  {
   "cell_type": "markdown",
   "id": "986bdfdc",
   "metadata": {},
   "source": [
    "As we can see, the plot is hardly readable:\n",
    "* There is a pretty huge data range covered by the y-axis, thus \"flattening\" the non-linearities.\n",
    "* There is a continous line that connects the points even through singularities.\n",
    "\n",
    "We can turn-on the singularity detection by setting `detect_poles=True`:"
   ]
  },
  {
   "cell_type": "code",
   "execution_count": null,
   "id": "476e5026",
   "metadata": {},
   "outputs": [],
   "source": [
    "plot(tan(x), (x, -10, 10), backend=PB, detect_poles=True)"
   ]
  },
  {
   "cell_type": "markdown",
   "id": "92c0165a",
   "metadata": {},
   "source": [
    "Here:\n",
    "* There is a clear separation where the singularities are located.\n",
    "* A better y-axis range has been automatically chosen. **Warning**: the algorithm is still at its infancy, so it might be possible that a very small y-range is chosen. In such cases we can re-execute the plot command or we can manually set the `ylim` keyword argument.\n",
    "* Thanks to the interactive nature of Plotly, we can easily scroll the y-axis in order to explore the data.\n",
    "\n",
    "It is important to realize that the finer the discretization of the domain, the better the detection. Therefore, it might be necessary to either increase the `depth` of the adaptive algorithm (default value to 9), or set `adaptive=False` and `n=2000` (some arbitrary large number). Also, as a last resort, one might also change the value of `eps` (default to 0.1).\n",
    "\n",
    "Note that there is a bias in the y-axis: it is not perfectly centered. That's perfectly fine with this initial implementation of the singularity detection. We can easily fix it by scrolling the y-axis or by setting the `ylim` keyword:"
   ]
  },
  {
   "cell_type": "code",
   "execution_count": null,
   "id": "31324aee",
   "metadata": {},
   "outputs": [],
   "source": [
    "plot(tan(x), (x, -10, 10), backend=PB, detect_poles=True, ylim=(-7, 7))"
   ]
  },
  {
   "cell_type": "markdown",
   "id": "9cc90afe",
   "metadata": {},
   "source": [
    "## Plotting Piecewise functions"
   ]
  },
  {
   "cell_type": "markdown",
   "id": "4fa3113e",
   "metadata": {},
   "source": [
    "Finally, we can also correctly plot `Piecewise` expressions, for example:"
   ]
  },
  {
   "cell_type": "code",
   "execution_count": null,
   "id": "f78df5da",
   "metadata": {},
   "outputs": [],
   "source": [
    "pf = Piecewise(\n",
    "    (sin(x), x < -5),\n",
    "    (2, Eq(x, 0)),\n",
    "    (3, Eq(x, 2)),\n",
    "    (cos(x), (x > 0) & (x < 2)),\n",
    "    (tan(x), True)\n",
    ")\n",
    "display(pf)\n",
    "plot(pf, backend=MB, detect_poles=True)"
   ]
  },
  {
   "cell_type": "markdown",
   "id": "26e3e1bd",
   "metadata": {},
   "source": [
    "As a design choice, the algorithm is going to extract the different pieces and plot them separately. Note that points are visible too!"
   ]
  },
  {
   "cell_type": "code",
   "execution_count": null,
   "id": "50981335",
   "metadata": {},
   "outputs": [],
   "source": []
  }
 ],
 "metadata": {
  "kernelspec": {
   "display_name": "plotting_lambdify",
   "language": "python",
   "name": "plotting_lambdify"
  },
  "language_info": {
   "codemirror_mode": {
    "name": "ipython",
    "version": 3
   },
   "file_extension": ".py",
   "mimetype": "text/x-python",
   "name": "python",
   "nbconvert_exporter": "python",
   "pygments_lexer": "ipython3",
   "version": "3.8.10"
  },
  "toc": {
   "base_numbering": 1,
   "nav_menu": {},
   "number_sections": true,
   "sideBar": true,
   "skip_h1_title": false,
   "title_cell": "Table of Contents",
   "title_sidebar": "Contents",
   "toc_cell": false,
   "toc_position": {},
   "toc_section_display": true,
   "toc_window_display": false
  }
 },
 "nbformat": 4,
 "nbformat_minor": 5
}
