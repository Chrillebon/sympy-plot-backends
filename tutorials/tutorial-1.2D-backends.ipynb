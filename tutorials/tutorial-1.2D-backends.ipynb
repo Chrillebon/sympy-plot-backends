{
 "cells": [
  {
   "cell_type": "markdown",
   "id": "successful-dietary",
   "metadata": {},
   "source": [
    "# 2D Backends"
   ]
  },
  {
   "cell_type": "markdown",
   "id": "emotional-shoulder",
   "metadata": {},
   "source": [
    "In the following example, first we will show the results with the default backend, Matplotlib, and explain the limitations. Then we will show what a different backend can do."
   ]
  },
  {
   "cell_type": "code",
   "execution_count": null,
   "id": "homeless-rating",
   "metadata": {},
   "outputs": [],
   "source": [
    "%matplotlib widget\n",
    "from sympy import *\n",
    "from spb.plot import plot\n",
    "from spb.backends.plotly import PB\n",
    "from spb.backends.bokeh import BB\n",
    "var(\"u, v, x, y\")"
   ]
  },
  {
   "cell_type": "markdown",
   "id": "advisory-interference",
   "metadata": {},
   "source": [
    "In the above code cell we first imported the `plot` function from our current module. Remember: while the plot functions from the current module are identical to the ones from `sympy`, they are not compatible when using a different backend!\n",
    "\n",
    "We also imported two backends. The following submodules are available:\n",
    "* `backends.bokeh`, from which we can import `BokehBackend` or its alias `BB`.\n",
    "* `backends.plotly`, from which we can import `PlotlyBackend` or its alias `PB`.\n",
    "* `backends.k3d`, from which we can import `K3DBackend` or its alias `KB`.\n",
    "* `backends.mayavi`, from which we can import `MayaviBackend` or its alias `MB`.\n",
    "\n",
    "Only `BokehBackend` and `PlotlyBackend` support 2D plots."
   ]
  },
  {
   "cell_type": "code",
   "execution_count": null,
   "id": "aboriginal-interest",
   "metadata": {},
   "outputs": [],
   "source": [
    "plot(sin(x), cos(x), log(x), legend=True)"
   ]
  },
  {
   "cell_type": "markdown",
   "id": "acute-algebra",
   "metadata": {},
   "source": [
    "The plot looks fine.\n",
    "* In order to interact with it we have to use the buttons on the toolbar.\n",
    "* If we move the cursor over the plot, we can see its coordinates. With this behaviour we can only get approximate coordinates if we move the cursor over a line.\n",
    "\n",
    "Let's visualize the same plot with `PlotlyBackend`:"
   ]
  },
  {
   "cell_type": "code",
   "execution_count": null,
   "id": "devoted-permission",
   "metadata": {},
   "outputs": [],
   "source": [
    "plot(sin(x), cos(x), log(x), legend=True, backend=PB)"
   ]
  },
  {
   "cell_type": "markdown",
   "id": "polyphonic-coating",
   "metadata": {},
   "source": [
    "We can also interact with this plot using the top toolbar, however there are more natural ways:\n",
    "* Click and drag to zoom into a rectangular selection.\n",
    "* Move the cursor in the middle of the horizontal axis, click and drag to pan horizontally.\n",
    "* Move the cursor in the middle of the vertical axis, click and drag to pan vertically.\n",
    "* Move the cursor near the ends of the horizontal/vertical axis: click and drag to resize.\n",
    "* Move the cursor over a line: a tooltip will show the coordinate of that point in the data series. Note that there is no interpolation between two consecutive points.\n",
    "* Click over a label in the legend to hide/show that data series."
   ]
  },
  {
   "cell_type": "markdown",
   "id": "constitutional-opposition",
   "metadata": {},
   "source": [
    "Let's now visualize the same plot with BokehBackend:"
   ]
  },
  {
   "cell_type": "code",
   "execution_count": null,
   "id": "precise-piece",
   "metadata": {},
   "outputs": [],
   "source": [
    "plot(sin(x), cos(x), log(x), legend=True, backend=BB)"
   ]
  },
  {
   "cell_type": "markdown",
   "id": "natural-penetration",
   "metadata": {},
   "source": [
    "Here, we can:\n",
    "* Click and drag to pan the plot around.\n",
    "* Click and drag the axis to pan the plot only on one direction.\n",
    "* Click the legend entries to hide/show the data series.\n",
    "* Move the cursor over a line: a tooltip will show the coordinate of that point in the data series.\n",
    "* Use the toolbar to change the tool, for example we can select the _Box Zoom_ to zoom into a rectangular region."
   ]
  },
  {
   "cell_type": "markdown",
   "id": "refined-satisfaction",
   "metadata": {},
   "source": [
    "Is some occasion, it might be helpful to assign a custom label to a specific expression. We can do that in the following way:"
   ]
  },
  {
   "cell_type": "code",
   "execution_count": null,
   "id": "qualified-efficiency",
   "metadata": {},
   "outputs": [],
   "source": [
    "plot((cos(x), \"$f_{1}$\"), (sin(x), \"$f_{2}$\"), (log(x), \"$f_{3}$\"),\n",
    "         backend=PB, legend=True, title=\"Plotly - Latex Support\",\n",
    "         xlabel=r\"$\\xi$\", ylabel=r\"$\\eta$\")"
   ]
  },
  {
   "cell_type": "markdown",
   "id": "proved-layout",
   "metadata": {},
   "source": [
    "At the time of writing this, there might be problems when using [Plotly with Latex on Firefox](https://github.com/plotly/plotly.js/issues/5374).\n",
    "\n",
    "Also, note that, differently from Plotly, Bokeh doesn't support Latex!"
   ]
  },
  {
   "cell_type": "code",
   "execution_count": null,
   "id": "radio-member",
   "metadata": {},
   "outputs": [],
   "source": []
  }
 ],
 "metadata": {
  "kernelspec": {
   "display_name": "plotting_lambdify",
   "language": "python",
   "name": "plotting_lambdify"
  },
  "language_info": {
   "codemirror_mode": {
    "name": "ipython",
    "version": 3
   },
   "file_extension": ".py",
   "mimetype": "text/x-python",
   "name": "python",
   "nbconvert_exporter": "python",
   "pygments_lexer": "ipython3",
   "version": "3.8.5"
  },
  "toc": {
   "base_numbering": 1,
   "nav_menu": {},
   "number_sections": true,
   "sideBar": true,
   "skip_h1_title": false,
   "title_cell": "Table of Contents",
   "title_sidebar": "Contents",
   "toc_cell": false,
   "toc_position": {},
   "toc_section_display": true,
   "toc_window_display": false
  }
 },
 "nbformat": 4,
 "nbformat_minor": 5
}
