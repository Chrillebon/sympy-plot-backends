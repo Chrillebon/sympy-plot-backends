{
 "cells": [
  {
   "cell_type": "markdown",
   "id": "a9fe2134",
   "metadata": {},
   "source": [
    "# One plot function, please\n",
    "\n",
    "Let's list all specialized plot functions:\n",
    "* `plot`: to plot univariate expressions.\n",
    "* `plot_parametric`: to plot univariate 2D parametric expressions.\n",
    "* `plot3d`: to plot functions/expressions of 2 variables.\n",
    "* `plot3d_parametric_line`: to plot univariate 3D parametric expressions.\n",
    "* `plot3d_parametric_surface`\n",
    "* `plot_contour`: to draw contours of functions/expressions of 2 variables.\n",
    "* `plot_implicit`: to plot relationals and boolean expressions.\n",
    "* `vector_plot`: to plot vector fields.\n",
    "\n",
    "Those are many functions and some of them are quite long to type. This module offers another function, `smart_plot`, which should be able to recognize what kind of expression we are trying to plot.\n",
    "\n",
    "Let's see with the following examples the pros and cons of this function."
   ]
  },
  {
   "cell_type": "code",
   "execution_count": null,
   "id": "9be44500",
   "metadata": {},
   "outputs": [],
   "source": [
    "from sympy import *\n",
    "from spb import smart_plot as plot\n",
    "var(\"x:z\")"
   ]
  },
  {
   "cell_type": "code",
   "execution_count": null,
   "id": "b8faf873",
   "metadata": {},
   "outputs": [],
   "source": [
    "help(plot)"
   ]
  },
  {
   "cell_type": "markdown",
   "id": "b468cebe",
   "metadata": {},
   "source": [
    "In order to type less, we aliased `smart_plot` to `plot`. Let's say we'd like to plot a line:"
   ]
  },
  {
   "cell_type": "code",
   "execution_count": null,
   "id": "9fc146d0",
   "metadata": {},
   "outputs": [],
   "source": [
    "plot(sin(x))"
   ]
  },
  {
   "cell_type": "markdown",
   "id": "0a1ff3a7",
   "metadata": {},
   "source": [
    "Note that there are no axis labels. This design choice is motivated by the fact that `smart_plot` is a very general function which must work with all the aformentioned plot types. It would require quite an effort to extract the correct labels for every type of plot.\n",
    "\n",
    "Therefore, if we need labels we either use one of the aforementioned plot functions, or we can set the `xlabel`, `ylabel`, `zlabel` keyword arguments. Let's try to plot a function of two variables:"
   ]
  },
  {
   "cell_type": "code",
   "execution_count": null,
   "id": "ea433382",
   "metadata": {},
   "outputs": [],
   "source": [
    "plot(cos(x**2 + y**2), (x, -3, 3), (y, -3, 3),\n",
    "     xlabel=\"x\", ylabel=\"y\", zlabel=\"f(x, y)\", n=200)"
   ]
  },
  {
   "cell_type": "markdown",
   "id": "7dee3e01",
   "metadata": {},
   "source": [
    "What if we would like to draw contours of the previous expression? We need to explicitly inform the function of our intentions by setting the `pt` keyword argument, which stands for _plot type_. This is necessary because `plot3d` and `plot_contour` both plot the same type of expressions, hence `smart_plot` is coded to automatically create 3D figures whenever it encounters functions of two variables."
   ]
  },
  {
   "cell_type": "code",
   "execution_count": null,
   "id": "700e3b29",
   "metadata": {},
   "outputs": [],
   "source": [
    "plot(cos(x**2 + y**2), (x, -3, 3), (y, -3, 3),\n",
    "     xlabel=\"x\", ylabel=\"y\", pt=\"pc\")"
   ]
  },
  {
   "cell_type": "markdown",
   "id": "139275e7",
   "metadata": {},
   "source": [
    "Let's now try to plot a 2D vector field:"
   ]
  },
  {
   "cell_type": "code",
   "execution_count": null,
   "id": "4064234c",
   "metadata": {},
   "outputs": [],
   "source": [
    "plot([-y, x], (x, -5, 5), (y, -3, 3), aspect=\"equal\", n=15, legend=True)"
   ]
  },
  {
   "cell_type": "markdown",
   "id": "515e8add",
   "metadata": {},
   "source": [
    "What happened? Why is there a shaded region? Why are the ranges not considered?\n",
    "\n",
    "In [tutorial 7](tutorial-7.vector-plots.ipynb) we mentioned that it is better to wrap vector fields into matrices rather than lists, otherwise the internal algorithm might gets confused. This is one of those occurences! If you look at the above arguments, `[-y, x], (x, -5, 5), (y, -3, 3)`, these are all tuples/lists. `smart_plot` algorithms needs to deal with many different expressions. Here, the algorithm thinks that `[-y, x]` is a vector field and somehow `(x, -5, 5)` and `(y, -3, 3)` are two implicit expressions. So, if you need to quickly plot vector fields, always wrap them into matrices:"
   ]
  },
  {
   "cell_type": "code",
   "execution_count": null,
   "id": "7653fd60",
   "metadata": {},
   "outputs": [],
   "source": [
    "plot(Matrix([-y, x]), (x, -5, 5), (y, -3, 3), aspect=\"equal\", n=15, legend=True)"
   ]
  },
  {
   "cell_type": "markdown",
   "id": "3dbe65a7",
   "metadata": {},
   "source": [
    "Let's now try something more complicated. We are going to plot a vector field and a line with the same command:"
   ]
  },
  {
   "cell_type": "code",
   "execution_count": null,
   "id": "221da0b8",
   "metadata": {},
   "outputs": [],
   "source": [
    "plot(\n",
    "    (Matrix([-sin(y), cos(x)]), (x, -5, 5), (y, -3, 3), \"vector\"),\n",
    "    (sin(x), (x, -5, 5)),\n",
    "    aspect=\"equal\", n=20, legend=True,\n",
    "    quiver_kw=dict(scale=0.25), line_kw=dict(line_color=\"cyan\")\n",
    ")"
   ]
  },
  {
   "cell_type": "markdown",
   "id": "c4a75b80",
   "metadata": {},
   "source": [
    "A few things to note here:\n",
    "* The number of discretization points `n=20` has been correctly applied to the vector field. However, if we closely inspect the line, it clearly has more points. That's because the line has been adaptively sampled. In order to have the line with 20 points we have to set `adaptive=False`.\n",
    "* We can use all the usual dictionaries to customize the looks of the plot. Here we used `quiver_kw` to set the size of the quivers and `line_kw` to set the line color.\n",
    "\n",
    "Let's try to plot a combination of an implicit expression with a line:"
   ]
  },
  {
   "cell_type": "code",
   "execution_count": null,
   "id": "6b94e19a",
   "metadata": {},
   "outputs": [],
   "source": []
  }
 ],
 "metadata": {
  "kernelspec": {
   "display_name": "plotting_lambdify",
   "language": "python",
   "name": "plotting_lambdify"
  },
  "language_info": {
   "codemirror_mode": {
    "name": "ipython",
    "version": 3
   },
   "file_extension": ".py",
   "mimetype": "text/x-python",
   "name": "python",
   "nbconvert_exporter": "python",
   "pygments_lexer": "ipython3",
   "version": "3.8.10"
  },
  "toc": {
   "base_numbering": 1,
   "nav_menu": {},
   "number_sections": true,
   "sideBar": true,
   "skip_h1_title": false,
   "title_cell": "Table of Contents",
   "title_sidebar": "Contents",
   "toc_cell": false,
   "toc_position": {},
   "toc_section_display": true,
   "toc_window_display": false
  }
 },
 "nbformat": 4,
 "nbformat_minor": 5
}
